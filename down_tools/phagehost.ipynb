{
 "cells": [
  {
   "cell_type": "markdown",
   "id": "3574db3d-42d1-4589-a7a2-c42a674ab7c0",
   "metadata": {},
   "source": [
    "## phagehost"
   ]
  },
  {
   "cell_type": "code",
   "execution_count": 53,
   "id": "a360195d-2d4c-41a6-87ea-649bd8e9d309",
   "metadata": {},
   "outputs": [
    {
     "data": {
      "text/plain": [
       "Accession\n",
       "vOUT999             species:Bacteroides faecis\n",
       "vOUT998     species:Streptococcus dysgalactiae\n",
       "vOUT997           species:Bacteroides vulgatus\n",
       "vOUT996          species:Ruminococcus lactaris\n",
       "vOUT995       species:Actinobacteria bacterium\n",
       "                           ...                \n",
       "vOUT892                               filtered\n",
       "vOUT1337                              filtered\n",
       "vOUT2096                              filtered\n",
       "vOUT2772                              filtered\n",
       "vOUT2982                              filtered\n",
       "Name: Host, Length: 3417, dtype: object"
      ]
     },
     "execution_count": 53,
     "metadata": {},
     "output_type": "execute_result"
    }
   ],
   "source": [
    "import pandas as pd\n",
    "import numpy as np\n",
    "\n",
    "# 读取数据\n",
    "data = pd.read_csv(\"./significant_viruses.csv\", index_col=0)\n",
    "phahost = pd.read_csv(\"../examples/cherry_prediction.tsv\", sep=\"\\t\", index_col=\"Accession\")\n",
    "phahost['Host']"
   ]
  },
  {
   "cell_type": "code",
   "execution_count": 54,
   "id": "dcc9de92-9668-4a9b-992c-8541c6acca38",
   "metadata": {},
   "outputs": [
    {
     "data": {
      "text/plain": [
       "Index(['baseMean', 'log2FoldChange', 'lfcSE', 'stat', 'pvalue', 'padj',\n",
       "       'Length', 'Host', 'CHERRYScore', 'Method', 'Host_NCBI_lineage',\n",
       "       'Host_GTDB_lineage', 'group'],\n",
       "      dtype='object')"
      ]
     },
     "execution_count": 54,
     "metadata": {},
     "output_type": "execute_result"
    }
   ],
   "source": [
    "merged_data.keys()"
   ]
  },
  {
   "cell_type": "code",
   "execution_count": 55,
   "id": "bfca48de-8275-4ed9-b389-b9786c9d514a",
   "metadata": {},
   "outputs": [],
   "source": [
    "# \n",
    "merged_data = data.join(phahost, how='left') "
   ]
  },
  {
   "cell_type": "code",
   "execution_count": 56,
   "id": "805b64b7-0ee7-440f-821c-62374dc60e37",
   "metadata": {},
   "outputs": [],
   "source": [
    "merged_data.loc[merged_data['log2FoldChange'] > 0, 'group'] = 'up'\n",
    "merged_data.loc[merged_data['log2FoldChange'] < 0, 'group'] = 'down'"
   ]
  },
  {
   "cell_type": "code",
   "execution_count": 57,
   "id": "a087ebd0-6ed5-4ca4-8c2b-a64329ed77e4",
   "metadata": {},
   "outputs": [],
   "source": [
    "merged_data.to_csv('phahost.csv')"
   ]
  },
  {
   "cell_type": "code",
   "execution_count": null,
   "id": "bc12b30e-4a6e-428e-95c6-eef4dfb69b40",
   "metadata": {},
   "outputs": [],
   "source": []
  },
  {
   "cell_type": "markdown",
   "id": "e46033a8-b200-4f1c-9267-61a3c64c318a",
   "metadata": {},
   "source": [
    "## phagegcn"
   ]
  },
  {
   "cell_type": "code",
   "execution_count": 58,
   "id": "6cc27e60-de2e-40cc-b95f-2b4b64eee1d3",
   "metadata": {},
   "outputs": [],
   "source": [
    "import pandas as pd\n",
    "import numpy as np\n",
    "\n",
    "# 读取数据\n",
    "data = pd.read_csv(\"./significant_viruses.csv\", index_col=0)\n",
    "phagcn = pd.read_csv(\"../examples/phagcn_prediction.tsv\", sep=\"\\t\", index_col=\"Accession\")"
   ]
  },
  {
   "cell_type": "code",
   "execution_count": 60,
   "id": "44293111-3439-47fc-8a16-802d508169fa",
   "metadata": {},
   "outputs": [],
   "source": [
    "# \n",
    "merged_data = data.join(phagcn, how='left') "
   ]
  },
  {
   "cell_type": "code",
   "execution_count": 61,
   "id": "5f54116b-ef79-4a5f-851f-abe376cfb07f",
   "metadata": {},
   "outputs": [],
   "source": [
    "merged_data.loc[merged_data['log2FoldChange'] > 0, 'group'] = 'up'\n",
    "merged_data.loc[merged_data['log2FoldChange'] < 0, 'group'] = 'down'"
   ]
  },
  {
   "cell_type": "code",
   "execution_count": 62,
   "id": "372d68e8-f21d-4b34-846a-394c6cd3f223",
   "metadata": {},
   "outputs": [],
   "source": [
    "merged_data.to_csv('phagcn.csv')"
   ]
  },
  {
   "cell_type": "code",
   "execution_count": null,
   "id": "339e6919-2466-443e-8feb-ffd5e9827211",
   "metadata": {},
   "outputs": [],
   "source": []
  }
 ],
 "metadata": {
  "kernelspec": {
   "display_name": "Python 3 (ipykernel)",
   "language": "python",
   "name": "python3"
  },
  "language_info": {
   "codemirror_mode": {
    "name": "ipython",
    "version": 3
   },
   "file_extension": ".py",
   "mimetype": "text/x-python",
   "name": "python",
   "nbconvert_exporter": "python",
   "pygments_lexer": "ipython3",
   "version": "3.12.3"
  }
 },
 "nbformat": 4,
 "nbformat_minor": 5
}
