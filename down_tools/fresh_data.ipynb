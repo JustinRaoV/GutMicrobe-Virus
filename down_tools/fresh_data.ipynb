{
 "cells": [
  {
   "cell_type": "markdown",
   "id": "5db390132d1e22da",
   "metadata": {},
   "source": [
    "# 数据预处理"
   ]
  },
  {
   "cell_type": "code",
   "execution_count": 1,
   "id": "initial_id",
   "metadata": {
    "ExecuteTime": {
     "end_time": "2025-03-25T15:26:56.917855Z",
     "start_time": "2025-03-25T15:26:56.240365Z"
    }
   },
   "outputs": [
    {
     "name": "stderr",
     "output_type": "stream",
     "text": [
      "── \u001b[1mAttaching core tidyverse packages\u001b[22m ──────────────────────────────────────────────────────────────── tidyverse 2.0.0 ──\n",
      "\u001b[32m✔\u001b[39m \u001b[34mdplyr    \u001b[39m 1.1.4     \u001b[32m✔\u001b[39m \u001b[34mreadr    \u001b[39m 2.1.5\n",
      "\u001b[32m✔\u001b[39m \u001b[34mforcats  \u001b[39m 1.0.0     \u001b[32m✔\u001b[39m \u001b[34mstringr  \u001b[39m 1.5.1\n",
      "\u001b[32m✔\u001b[39m \u001b[34mggplot2  \u001b[39m 3.5.1     \u001b[32m✔\u001b[39m \u001b[34mtibble   \u001b[39m 3.2.1\n",
      "\u001b[32m✔\u001b[39m \u001b[34mlubridate\u001b[39m 1.9.4     \u001b[32m✔\u001b[39m \u001b[34mtidyr    \u001b[39m 1.3.1\n",
      "\u001b[32m✔\u001b[39m \u001b[34mpurrr    \u001b[39m 1.0.2     \n",
      "── \u001b[1mConflicts\u001b[22m ────────────────────────────────────────────────────────────────────────────────── tidyverse_conflicts() ──\n",
      "\u001b[31m✖\u001b[39m \u001b[34mdplyr\u001b[39m::\u001b[32mfilter()\u001b[39m masks \u001b[34mstats\u001b[39m::filter()\n",
      "\u001b[31m✖\u001b[39m \u001b[34mdplyr\u001b[39m::\u001b[32mlag()\u001b[39m    masks \u001b[34mstats\u001b[39m::lag()\n",
      "\u001b[36mℹ\u001b[39m Use the conflicted package (\u001b[3m\u001b[34m<http://conflicted.r-lib.org/>\u001b[39m\u001b[23m) to force all conflicts to become errors\n",
      "\u001b[1mRows: \u001b[22m\u001b[34m3417\u001b[39m \u001b[1mColumns: \u001b[22m\u001b[34m59\u001b[39m\n",
      "\u001b[36m──\u001b[39m \u001b[1mColumn specification\u001b[22m \u001b[36m────────────────────────────────────────────────────────────────────────────────────────────────\u001b[39m\n",
      "\u001b[1mDelimiter:\u001b[22m \"\\t\"\n",
      "\u001b[31mchr\u001b[39m  (1): Contig\n",
      "\u001b[32mdbl\u001b[39m (58): TXAS01, TXAS02, TXAS06, TXAS09, TXAS10, TXAS11, TXAS12, TXAS14, TX...\n",
      "\n",
      "\u001b[36mℹ\u001b[39m Use `spec()` to retrieve the full column specification for this data.\n",
      "\u001b[36mℹ\u001b[39m Specify the column types or set `show_col_types = FALSE` to quiet this message.\n"
     ]
    },
    {
     "data": {
      "text/html": [
       "0"
      ],
      "text/latex": [
       "0"
      ],
      "text/markdown": [
       "0"
      ],
      "text/plain": [
       "[1] 0"
      ]
     },
     "metadata": {},
     "output_type": "display_data"
    },
    {
     "data": {
      "text/html": [
       "<style>\n",
       ".list-inline {list-style: none; margin:0; padding: 0}\n",
       ".list-inline>li {display: inline-block}\n",
       ".list-inline>li:not(:last-child)::after {content: \"\\00b7\"; padding: 0 .5ex}\n",
       "</style>\n",
       "<ol class=list-inline><li>3417</li><li>58</li></ol>\n"
      ],
      "text/latex": [
       "\\begin{enumerate*}\n",
       "\\item 3417\n",
       "\\item 58\n",
       "\\end{enumerate*}\n"
      ],
      "text/markdown": [
       "1. 3417\n",
       "2. 58\n",
       "\n",
       "\n"
      ],
      "text/plain": [
       "[1] 3417   58"
      ]
     },
     "metadata": {},
     "output_type": "display_data"
    },
    {
     "data": {
      "text/html": [
       "<style>\n",
       ".list-inline {list-style: none; margin:0; padding: 0}\n",
       ".list-inline>li {display: inline-block}\n",
       ".list-inline>li:not(:last-child)::after {content: \"\\00b7\"; padding: 0 .5ex}\n",
       "</style>\n",
       "<ol class=list-inline><li>1883</li><li>58</li></ol>\n"
      ],
      "text/latex": [
       "\\begin{enumerate*}\n",
       "\\item 1883\n",
       "\\item 58\n",
       "\\end{enumerate*}\n"
      ],
      "text/markdown": [
       "1. 1883\n",
       "2. 58\n",
       "\n",
       "\n"
      ],
      "text/plain": [
       "[1] 1883   58"
      ]
     },
     "metadata": {},
     "output_type": "display_data"
    }
   ],
   "source": [
    "# R 代码\n",
    "# 加载库\n",
    "library(tidyverse)\n",
    "\n",
    "# 读取数据（假设文件为TSV格式）\n",
    "data <- read_tsv(\"../examples/merged_counts.tsv\") %>%\n",
    "  column_to_rownames(\"Contig\")\n",
    "\n",
    "# 检查缺失值\n",
    "sum(is.na(data))  # 若无缺失值则无需处理\n",
    "\n",
    "# 过滤低丰度病毒（例如：保留在至少20%样本中计数>50的病毒）\n",
    "filtered_data <- data[rowSums(data > 500) >= 0.2*ncol(data), ]\n",
    "dim(data)\n",
    "dim(filtered_data)"
   ]
  },
  {
   "cell_type": "markdown",
   "id": "36fa04b59600644",
   "metadata": {},
   "source": [
    "# 差异分析"
   ]
  },
  {
   "cell_type": "code",
   "execution_count": 2,
   "id": "bc7aaa9cb6a79e63",
   "metadata": {
    "ExecuteTime": {
     "end_time": "2025-03-25T15:27:59.802954Z",
     "start_time": "2025-03-25T15:27:08.629559Z"
    },
    "scrolled": true
   },
   "outputs": [
    {
     "name": "stderr",
     "output_type": "stream",
     "text": [
      "载入需要的程序包：S4Vectors\n",
      "\n",
      "载入需要的程序包：stats4\n",
      "\n",
      "载入需要的程序包：BiocGenerics\n",
      "\n",
      "\n",
      "载入程序包：'BiocGenerics'\n",
      "\n",
      "\n",
      "The following objects are masked from 'package:lubridate':\n",
      "\n",
      "    intersect, setdiff, union\n",
      "\n",
      "\n",
      "The following objects are masked from 'package:dplyr':\n",
      "\n",
      "    combine, intersect, setdiff, union\n",
      "\n",
      "\n",
      "The following objects are masked from 'package:stats':\n",
      "\n",
      "    IQR, mad, sd, var, xtabs\n",
      "\n",
      "\n",
      "The following objects are masked from 'package:base':\n",
      "\n",
      "    anyDuplicated, aperm, append, as.data.frame, basename, cbind,\n",
      "    colnames, dirname, do.call, duplicated, eval, evalq, Filter, Find,\n",
      "    get, grep, grepl, intersect, is.unsorted, lapply, Map, mapply,\n",
      "    match, mget, order, paste, pmax, pmax.int, pmin, pmin.int,\n",
      "    Position, rank, rbind, Reduce, rownames, sapply, saveRDS, setdiff,\n",
      "    table, tapply, union, unique, unsplit, which.max, which.min\n",
      "\n",
      "\n",
      "\n",
      "载入程序包：'S4Vectors'\n",
      "\n",
      "\n",
      "The following objects are masked from 'package:lubridate':\n",
      "\n",
      "    second, second<-\n",
      "\n",
      "\n",
      "The following objects are masked from 'package:dplyr':\n",
      "\n",
      "    first, rename\n",
      "\n",
      "\n",
      "The following object is masked from 'package:tidyr':\n",
      "\n",
      "    expand\n",
      "\n",
      "\n",
      "The following object is masked from 'package:utils':\n",
      "\n",
      "    findMatches\n",
      "\n",
      "\n",
      "The following objects are masked from 'package:base':\n",
      "\n",
      "    expand.grid, I, unname\n",
      "\n",
      "\n",
      "载入需要的程序包：IRanges\n",
      "\n",
      "\n",
      "载入程序包：'IRanges'\n",
      "\n",
      "\n",
      "The following object is masked from 'package:lubridate':\n",
      "\n",
      "    %within%\n",
      "\n",
      "\n",
      "The following objects are masked from 'package:dplyr':\n",
      "\n",
      "    collapse, desc, slice\n",
      "\n",
      "\n",
      "The following object is masked from 'package:purrr':\n",
      "\n",
      "    reduce\n",
      "\n",
      "\n",
      "The following object is masked from 'package:grDevices':\n",
      "\n",
      "    windows\n",
      "\n",
      "\n",
      "载入需要的程序包：GenomicRanges\n",
      "\n",
      "载入需要的程序包：GenomeInfoDb\n",
      "\n",
      "载入需要的程序包：SummarizedExperiment\n",
      "\n",
      "载入需要的程序包：MatrixGenerics\n",
      "\n",
      "载入需要的程序包：matrixStats\n",
      "\n",
      "\n",
      "载入程序包：'matrixStats'\n",
      "\n",
      "\n",
      "The following object is masked from 'package:dplyr':\n",
      "\n",
      "    count\n",
      "\n",
      "\n",
      "\n",
      "载入程序包：'MatrixGenerics'\n",
      "\n",
      "\n",
      "The following objects are masked from 'package:matrixStats':\n",
      "\n",
      "    colAlls, colAnyNAs, colAnys, colAvgsPerRowSet, colCollapse,\n",
      "    colCounts, colCummaxs, colCummins, colCumprods, colCumsums,\n",
      "    colDiffs, colIQRDiffs, colIQRs, colLogSumExps, colMadDiffs,\n",
      "    colMads, colMaxs, colMeans2, colMedians, colMins, colOrderStats,\n",
      "    colProds, colQuantiles, colRanges, colRanks, colSdDiffs, colSds,\n",
      "    colSums2, colTabulates, colVarDiffs, colVars, colWeightedMads,\n",
      "    colWeightedMeans, colWeightedMedians, colWeightedSds,\n",
      "    colWeightedVars, rowAlls, rowAnyNAs, rowAnys, rowAvgsPerColSet,\n",
      "    rowCollapse, rowCounts, rowCummaxs, rowCummins, rowCumprods,\n",
      "    rowCumsums, rowDiffs, rowIQRDiffs, rowIQRs, rowLogSumExps,\n",
      "    rowMadDiffs, rowMads, rowMaxs, rowMeans2, rowMedians, rowMins,\n",
      "    rowOrderStats, rowProds, rowQuantiles, rowRanges, rowRanks,\n",
      "    rowSdDiffs, rowSds, rowSums2, rowTabulates, rowVarDiffs, rowVars,\n",
      "    rowWeightedMads, rowWeightedMeans, rowWeightedMedians,\n",
      "    rowWeightedSds, rowWeightedVars\n",
      "\n",
      "\n",
      "载入需要的程序包：Biobase\n",
      "\n",
      "Welcome to Bioconductor\n",
      "\n",
      "    Vignettes contain introductory material; view with\n",
      "    'browseVignettes()'. To cite Bioconductor, see\n",
      "    'citation(\"Biobase\")', and for packages 'citation(\"pkgname\")'.\n",
      "\n",
      "\n",
      "\n",
      "载入程序包：'Biobase'\n",
      "\n",
      "\n",
      "The following object is masked from 'package:MatrixGenerics':\n",
      "\n",
      "    rowMedians\n",
      "\n",
      "\n",
      "The following objects are masked from 'package:matrixStats':\n",
      "\n",
      "    anyMissing, rowMedians\n",
      "\n",
      "\n",
      "converting counts to integer mode\n",
      "\n",
      "estimating size factors\n",
      "\n",
      "estimating dispersions\n",
      "\n",
      "gene-wise dispersion estimates\n",
      "\n",
      "mean-dispersion relationship\n",
      "\n",
      "final dispersion estimates\n",
      "\n",
      "fitting model and testing\n",
      "\n",
      "-- replacing outliers and refitting for 587 genes\n",
      "-- DESeq argument 'minReplicatesForReplace' = 7 \n",
      "-- original counts are preserved in counts(dds)\n",
      "\n",
      "estimating dispersions\n",
      "\n",
      "fitting model and testing\n",
      "\n",
      "rlog() may take a long time with 50 or more samples,\n",
      "vst() is a much faster transformation\n",
      "\n"
     ]
    }
   ],
   "source": [
    "# R 代码（使用DESeq2）\n",
    "library(DESeq2)\n",
    "\n",
    "# 创建分组信息（假设列名以TXAS为AS，TXHC为HC）\n",
    "sample_names <- colnames(data)\n",
    "group <- ifelse(grepl(\"^TXAS\", sample_names), \"AS\", \"HC\")\n",
    "\n",
    "# 构建DESeq2对象\n",
    "dds <- DESeqDataSetFromMatrix(\n",
    "  countData = round(filtered_data),  # 输入整数型计数数据\n",
    "  colData = data.frame(condition = factor(group)),\n",
    "  design = ~ condition\n",
    ")\n",
    "\n",
    "# 运行差异分析\n",
    "dds <- DESeq(dds)\n",
    "res <- results(dds, contrast = c(\"condition\", \"AS\", \"HC\"))\n",
    "rld <- rlog(dds, blind=FALSE)  # 替代之前的log1p\n",
    "normalized_data <- assay(rld)\n",
    "# 提取显著结果（p < 0.05且|log2FC| > 1）\n",
    "sig_res <- res[!is.na(res$padj) & res$padj < 0.05 & abs(res$log2FoldChange) > 1, ]\n",
    "write.csv(sig_res, \"significant_viruses.csv\")"
   ]
  },
  {
   "cell_type": "markdown",
   "id": "891ba244aa26bce2",
   "metadata": {},
   "source": [
    "# 分析数据"
   ]
  },
  {
   "cell_type": "markdown",
   "id": "1c9a1bf361150905",
   "metadata": {},
   "source": [
    "## 热图分析"
   ]
  },
  {
   "cell_type": "code",
   "execution_count": 16,
   "id": "f770e0269fa3f7f5",
   "metadata": {
    "ExecuteTime": {
     "end_time": "2025-03-25T15:46:47.448312Z",
     "start_time": "2025-03-25T15:46:47.360109Z"
    }
   },
   "outputs": [
    {
     "ename": "ERROR",
     "evalue": "Error in normalized_data[sig_res, ]: 类别为'S4'的下标无效\n",
     "output_type": "error",
     "traceback": [
      "Error in normalized_data[sig_res, ]: 类别为'S4'的下标无效\nTraceback:\n",
      "1. rownames(mat)",
      "2. dimnames(x)[[1L]] %||% if (do.NULL) NULL else {\n .     nr <- NROW(x)\n .     if (nr > 0L) \n .         paste0(prefix, seq_len(nr))\n .     else character()\n . }",
      "3. .handleSimpleError(function (cnd) \n . {\n .     watcher$capture_plot_and_output()\n .     cnd <- sanitize_call(cnd)\n .     watcher$push(cnd)\n .     switch(on_error, continue = invokeRestart(\"eval_continue\"), \n .         stop = invokeRestart(\"eval_stop\"), error = invokeRestart(\"eval_error\", \n .             cnd))\n . }, \"类别为'S4'的下标无效\", base::quote(normalized_data[sig_res, \n .     ]))"
     ]
    }
   ],
   "source": [
    "library(pheatmap)\n",
    "heatmap_colors <- colorRampPalette(c(\"navy\", \"white\", \"red3\"))(256)\n",
    "pheatmap(\n",
    "  normalized_data[sig_genes, ],\n",
    "  scale = \"row\",\n",
    "  color = heatmap_colors,\n",
    "  annotation_col = data.frame(Group = group, row.names = colnames(normalized_data)),\n",
    "  show_rownames = FALSE,\n",
    "  main = \"Z-Score Normalized Expression\",\n",
    "  border_color = NA,\n",
    "  clustering_method = \"ward.D2\"\n",
    ")"
   ]
  },
  {
   "cell_type": "code",
   "execution_count": 18,
   "id": "9b061855ac06acb8",
   "metadata": {
    "ExecuteTime": {
     "end_time": "2025-03-25T15:47:04.374087Z",
     "start_time": "2025-03-25T15:47:04.079994Z"
    }
   },
   "outputs": [
    {
     "ename": "ERROR",
     "evalue": "Error in EnhancedVolcano(dds, lab = rownames(res), x = \"log2FoldChange\", : log2FoldChange is not numeric!\n",
     "output_type": "error",
     "traceback": [
      "Error in EnhancedVolcano(dds, lab = rownames(res), x = \"log2FoldChange\", : log2FoldChange is not numeric!\nTraceback:\n",
      "1. stop(paste(x, \" is not numeric!\", sep = \"\"))",
      "2. .handleSimpleError(function (cnd) \n . {\n .     watcher$capture_plot_and_output()\n .     cnd <- sanitize_call(cnd)\n .     watcher$push(cnd)\n .     switch(on_error, continue = invokeRestart(\"eval_continue\"), \n .         stop = invokeRestart(\"eval_stop\"), error = invokeRestart(\"eval_error\", \n .             cnd))\n . }, \"log2FoldChange is not numeric!\", base::quote(EnhancedVolcano(dds, \n .     lab = rownames(res), x = \"log2FoldChange\", y = \"padj\", pCutoff = 0.05, \n .     FCcutoff = 1)))"
     ]
    }
   ],
   "source": [
    "# R 代码\n",
    "library(EnhancedVolcano)\n",
    "\n",
    "EnhancedVolcano(\n",
    "  res,\n",
    "  lab = rownames(res),\n",
    "  x = \"log2FoldChange\",\n",
    "  y = \"padj\",\n",
    "  pCutoff = 0.05,\n",
    "  FCcutoff = 1\n",
    ")"
   ]
  },
  {
   "cell_type": "code",
   "execution_count": 12,
   "id": "5514554e88d15fa0",
   "metadata": {
    "ExecuteTime": {
     "end_time": "2025-03-25T15:58:52.037812Z",
     "start_time": "2025-03-25T15:58:51.579252Z"
    }
   },
   "outputs": [
    {
     "name": "stderr",
     "output_type": "stream",
     "text": [
      "载入需要的程序包：permute\n",
      "\n",
      "载入需要的程序包：lattice\n",
      "\n",
      "This is vegan 2.6-8\n",
      "\n"
     ]
    },
    {
     "name": "stdout",
     "output_type": "stream",
     "text": [
      "删除的离群样本：\n",
      "[1] \"TXAS15\" \"TXAS50\" \"TXHC27\"\n"
     ]
    },
    {
     "data": {
      "image/png": "[encoded data removed]",
      "text/plain": [
       "plot without title"
      ]
     },
     "metadata": {
      "image/png": {
       "height": 420,
       "width": 420
      }
     },
     "output_type": "display_data"
    }
   ],
   "source": [
    "library(vegan)\n",
    "library(ggplot2)\n",
    "library(ggpubr)\n",
    "\n",
    "# 生成原始数据\n",
    "alpha_diversity <- vegan::diversity(t(counts(dds, normalized = TRUE)), index = \"shannon\")\n",
    "alpha_df <- data.frame(Group = group, Shannon = alpha_diversity, Sample = names(alpha_diversity))\n",
    "\n",
    "# 定义离群点函数（针对每个组独立检测）\n",
    "detect_group_outliers <- function(data, group_var) {\n",
    "  data %>%\n",
    "    group_by(Group) %>%\n",
    "    mutate(\n",
    "      Q1 = quantile(Shannon, 0.25, na.rm = TRUE),\n",
    "      Q3 = quantile(Shannon, 0.75, na.rm = TRUE),\n",
    "      IQR = Q3 - Q1,\n",
    "      Lower = Q1 - 1.5 * IQR,\n",
    "      Upper = Q3 + 1.5 * IQR,\n",
    "      is_outlier = Shannon < Lower | Shannon > Upper\n",
    "    ) %>%\n",
    "    ungroup()\n",
    "}\n",
    "\n",
    "# 检测离群点\n",
    "alpha_df <- detect_group_outliers(alpha_df, Group)\n",
    "\n",
    "# 可视化：标注离群点\n",
    "p_raw <- ggplot(alpha_df, aes(x = Group, y = Shannon, fill = Group)) +\n",
    "  geom_boxplot(width = 0.6, outlier.shape = NA) +  # 先隐藏默认离群点\n",
    "  geom_jitter(\n",
    "    data = filter(alpha_df, is_outlier),\n",
    "    aes(color = \"离群点\"),\n",
    "    width = 0.2,\n",
    "    size = 3,\n",
    "    shape = 17\n",
    "  ) +\n",
    "  stat_compare_means(\n",
    "    method = \"wilcox.test\",\n",
    "    label = \"p.format\",\n",
    "    comparisons = list(c(\"AS\", \"HC\")),\n",
    "    label.x = 1.5\n",
    "  ) +\n",
    "  scale_color_manual(values = c(\"离群点\" = \"red\")) +\n",
    "  labs(title = \"原始数据（含离群点标注）\") +\n",
    "  theme_classic()\n",
    "\n",
    "# 删除离群点\n",
    "alpha_clean <- alpha_df %>% filter(!is_outlier)\n",
    "\n",
    "# 可视化清洗后数据\n",
    "p_clean1 <- ggplot(alpha_clean, aes(x = Group, y = Shannon, fill = Group)) +\n",
    "  geom_boxplot(width = 0.6) +\n",
    "  stat_compare_means(\n",
    "    method = \"wilcox.test\",\n",
    " label = \"p.format\",\n",
    "    comparisons = list(c(\"AS\", \"HC\")),\n",
    "    label.x = 1.5\n",
    "  ) +\n",
    "  labs(title = \"清洗后数据（删除离群点）\") +\n",
    "  theme_classic()\n",
    "\n",
    "# 并排显示\n",
    "\n",
    "\n",
    "# 输出清洗后样本信息\n",
    "cat(\"删除的离群样本：\\n\")\n",
    "print(alpha_df$Sample[alpha_df$is_outlier])\n",
    "\n",
    "alpha_df <- detect_group_outliers(alpha_clean, Group)\n",
    "alpha_clean <- alpha_df %>% filter(!is_outlier)\n",
    "# 可视化清洗后数据\n",
    "p_clean <- ggplot(alpha_clean, aes(x = Group, y = Shannon, fill = Group)) +\n",
    "  geom_boxplot(width = 0.6) +\n",
    "  stat_compare_means(\n",
    "    method = \"wilcox.test\",\n",
    " label = \"p.format\",\n",
    "    comparisons = list(c(\"AS\", \"HC\")),\n",
    "    label.x = 1.5\n",
    "  ) +\n",
    "  labs(title = \"清洗后数据（删除离群点2）\") +\n",
    "  theme_classic()\n",
    "  gridExtra::grid.arrange(p_raw,p_clean1, p_clean, ncol = 3)"
   ]
  },
  {
   "cell_type": "code",
   "execution_count": 13,
   "id": "2fd847b1480ca5ee",
   "metadata": {
    "ExecuteTime": {
     "end_time": "2025-03-25T15:47:47.880719Z",
     "start_time": "2025-03-25T15:47:47.711302Z"
    }
   },
   "outputs": [
    {
     "name": "stderr",
     "output_type": "stream",
     "text": [
      "\n",
      "载入程序包：'ape'\n",
      "\n",
      "\n",
      "The following object is masked from 'package:ggpubr':\n",
      "\n",
      "    rotate\n",
      "\n",
      "\n",
      "The following object is masked from 'package:dplyr':\n",
      "\n",
      "    where\n",
      "\n",
      "\n",
      "Warning message in vegdist(t(normalized_data), method = \"bray\"):\n",
      "\"results may be meaningless because data have negative entries\n",
      "                 in method \"bray\"\"\n"
     ]
    },
    {
     "data": {
      "image/png": "[encoded data removed]",
      "text/plain": [
       "plot without title"
      ]
     },
     "metadata": {
      "image/png": {
       "height": 420,
       "width": 420
      }
     },
     "output_type": "display_data"
    }
   ],
   "source": [
    "library(vegan)\n",
    "library(ape)\n",
    "library(ggplot2)\n",
    "\n",
    "dist_matrix <- vegdist(t(normalized_data), method = \"bray\")\n",
    "pcoa_result <- pcoa(dist_matrix)\n",
    "pcoa_scores <- as.data.frame(pcoa_result$vectors[, 1:2])\n",
    "colnames(pcoa_scores) <- c(\"PCo1\", \"PCo2\")\n",
    "pcoa_scores$Group <- group\n",
    "adonis_result <- adonis2(dist_matrix ~ group, permutations = 999)\n",
    "p_value <- adonis_result$`Pr(>F)`[1]\n",
    "r_squared <- adonis_result$R2[1]\n",
    "ggplot(pcoa_scores, aes(x = PCo1, y = PCo2, color = Group)) +\n",
    "  geom_point(size = 4) +\n",
    "  stat_ellipse(level = 0.95) +\n",
    "  labs(\n",
    "    x = paste0(\"PCo1 (\", round(pcoa_result$values$Relative_eig[1] * 100, 1), \"%)\"),\n",
    "    y = paste0(\"PCo2 (\", round(pcoa_result$values$Relative_eig[2] * 100, 1), \"%)\"),\n",
    "    title = paste0(\"PERMANOVA: p = \", format(p_value, scientific = TRUE, digits = 2), \", R² = \", round(r_squared, 3))\n",
    "  ) +\n",
    "  theme_classic(base_size = 14)"
   ]
  },
  {
   "cell_type": "code",
   "execution_count": null,
   "id": "e0e5ce08c4e5db04",
   "metadata": {},
   "outputs": [],
   "source": []
  },
  {
   "cell_type": "markdown",
   "id": "ce9200afe83ca959",
   "metadata": {},
   "source": [
    "# 网络分析"
   ]
  },
  {
   "cell_type": "code",
   "execution_count": 20,
   "id": "9c9b401bf42fe7ea",
   "metadata": {
    "ExecuteTime": {
     "end_time": "2025-03-25T15:41:49.644205Z",
     "start_time": "2025-03-25T15:39:43.408962Z"
    }
   },
   "outputs": [
    {
     "data": {
      "image/png": "[encoded data removed]",
      "text/plain": [
       "plot without title"
      ]
     },
     "metadata": {
      "image/png": {
       "height": 420,
       "width": 420
      }
     },
     "output_type": "display_data"
    }
   ],
   "source": [
    "library(igraph)\n",
    "\n",
    "# 计算相关性矩阵（使用DESeq2标准化后的数据）\n",
    "cor_matrix <- cor(t(normalized_data), method = \"spearman\")\n",
    "cor_threshold <- 0.6  # 调整阈值以增加/减少连接数\n",
    "adj_matrix <- ifelse(abs(cor_matrix) > cor_threshold & cor_matrix != 1, 1, 0)\n",
    "\n",
    "# 构建网络\n",
    "net <- graph_from_adjacency_matrix(adj_matrix, mode = \"undirected\", diag = FALSE)\n",
    "\n",
    "# 显式调用igraph包的degree函数\n",
    "degrees <- igraph::degree(net)\n",
    "\n",
    "# 移除孤立节点（度数=0的节点）\n",
    "net <- delete_vertices(net, V(net)[degrees == 0])\n",
    "\n",
    "# 重新计算度数（过滤后）\n",
    "degrees_filtered <- igraph::degree(net)\n",
    "\n",
    "# 可视化网络（按度数大小着色）\n",
    "ggraph(net, layout = \"fr\") +\n",
    "  geom_edge_link(alpha = 0.1, color = \"grey\") +\n",
    "  geom_node_point(aes(size = degrees_filtered, color = degrees_filtered)) +\n",
    "  scale_color_gradient(low = \"blue\", high = \"red\", name = \"Degree\") +\n",
    "  scale_size(name = \"Degree\") +\n",
    "  theme_void()"
   ]
  },
  {
   "cell_type": "code",
   "execution_count": null,
   "id": "81e2fb8faf06e7b6",
   "metadata": {},
   "outputs": [],
   "source": []
  }
 ],
 "metadata": {
  "kernelspec": {
   "display_name": "R",
   "language": "R",
   "name": "ir"
  },
  "language_info": {
   "codemirror_mode": "r",
   "file_extension": ".r",
   "mimetype": "text/x-r-source",
   "name": "R",
   "pygments_lexer": "r",
   "version": "4.4.2"
  }
 },
 "nbformat": 4,
 "nbformat_minor": 5
}
