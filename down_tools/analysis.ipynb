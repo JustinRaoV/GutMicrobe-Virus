{
 "cells": [
  {
   "cell_type": "markdown",
   "id": "0d2d349c-1fe2-4c93-9c6e-eae27ec8ae1f",
   "metadata": {},
   "source": [
    "## 抽平"
   ]
  },
  {
   "cell_type": "code",
   "execution_count": 1,
   "id": "d7e483a4-2faf-4ddc-bc67-6685b6e7d69c",
   "metadata": {},
   "outputs": [
    {
     "name": "stdout",
     "output_type": "stream",
     "text": [
      "抽平深度: 9709600\n"
     ]
    }
   ],
   "source": [
    "import pandas as pd\n",
    "import numpy as np\n",
    "\n",
    "# 读取数据\n",
    "data = pd.read_csv(\"../examples/merged_counts.tsv\", sep=\"\\t\", index_col=\"Contig\")\n",
    "phatype = pd.read_csv(\"../examples/phatyp_prediction.tsv\", sep=\"\\t\", index_col=\"Accession\")\n",
    "\n",
    "# 过滤低丰度病毒\n",
    "filtered_data = data[(data > 500).sum(axis=1) >= 0.2 * data.shape[1]]\n",
    "\n",
    "# 移除总reads数为零的样本（避免除以零错误）\n",
    "# filtered_data = filtered_data.loc[:, filtered_data.sum() > 100]\n",
    "\n",
    "# 计算所有样本的总reads数，并确定最小抽平深度\n",
    "sample_sums = filtered_data.sum(axis=0)\n",
    "min_depth = int(sample_sums.min())\n",
    "\n",
    "# 定义抽平函数\n",
    "def rarefy_column(col, depth):\n",
    "    \"\"\"对单个样本列进行抽平\"\"\"\n",
    "    total = col.sum()\n",
    "    if total == depth:\n",
    "        return col\n",
    "    else:\n",
    "        # 生成多项式分布抽样结果\n",
    "        rarefied = np.random.multinomial(depth, col / total)\n",
    "        return pd.Series(rarefied, index=col.index)\n",
    "\n",
    "# 设置随机种子保证可重复性\n",
    "np.random.seed(42)\n",
    "\n",
    "# 对每个样本进行抽平\n",
    "rarefied_data = filtered_data.apply(\n",
    "    rarefy_column,\n",
    "    axis=0,\n",
    "    args=(min_depth,)\n",
    ")\n",
    "\n",
    "# 将结果转换为DataFrame（保持格式一致）\n",
    "rarefied_data = pd.DataFrame(\n",
    "    rarefied_data,\n",
    "    index=filtered_data.index,\n",
    "    columns=filtered_data.columns\n",
    ")\n",
    "\n",
    "# 输出抽平后的数据\n",
    "print(f\"抽平深度: {min_depth}\")"
   ]
  },
  {
   "cell_type": "code",
   "execution_count": 15,
   "id": "b5bf41c3-f2c2-4934-a833-e7fd223a6acc",
   "metadata": {},
   "outputs": [
    {
     "name": "stdout",
     "output_type": "stream",
     "text": [
      "Mann-Whitney U test:\n",
      "Statistic: 539.0\n",
      "p-value: 0.0189\n"
     ]
    },
    {
     "data": {
      "application/vnd.plotly.v1+json": {
       "config": {
        "plotlyServerURL": "https://plot.ly"
       },
       "data": [
        {
         "boxpoints": false,
         "fillcolor": "rgba(0, 0, 0, 0)",
         "line": {
          "color": "black"
         },
         "type": "box",
         "x": [
          "AS",
          "AS",
          "AS",
          "AS",
          "AS",
          "AS",
          "AS",
          "AS",
          "AS",
          "AS",
          "AS",
          "AS",
          "AS",
          "AS",
          "AS",
          "AS",
          "AS",
          "AS",
          "AS",
          "AS",
          "AS",
          "AS",
          "AS",
          "AS",
          "AS",
          "AS",
          "AS",
          "AS",
          "AS",
          "HC",
          "HC",
          "HC",
          "HC",
          "HC",
          "HC",
          "HC",
          "HC",
          "HC",
          "HC",
          "HC",
          "HC",
          "HC",
          "HC",
          "HC",
          "HC",
          "HC",
          "HC",
          "HC",
          "HC",
          "HC",
          "HC",
          "HC",
          "HC",
          "HC",
          "HC",
          "HC",
          "HC",
          "HC"
         ],
         "y": [
          0,
          2,
          359,
          2,
          1,
          41714,
          10472,
          2320,
          0,
          1,
          0,
          0,
          0,
          2893,
          0,
          0,
          0,
          7,
          0,
          175745,
          11374,
          2315,
          0,
          0,
          0,
          0,
          2495,
          135742,
          0,
          0,
          0,
          0,
          0,
          43,
          0,
          0,
          1538,
          0,
          2,
          6,
          0,
          0,
          2,
          0,
          0,
          0,
          0,
          0,
          0,
          0,
          1018,
          33214,
          5,
          0,
          0,
          0,
          0,
          0
         ]
        }
       ],
       "layout": {
        "annotations": [
         {
          "font": {
           "size": 14
          },
          "showarrow": false,
          "text": "p = 0.019",
          "x": 0.5,
          "y": 7392
         }
        ],
        "height": 500,
        "template": {
         "data": {
          "bar": [
           {
            "error_x": {
             "color": "#2a3f5f"
            },
            "error_y": {
             "color": "#2a3f5f"
            },
            "marker": {
             "line": {
              "color": "white",
              "width": 0.5
             },
             "pattern": {
              "fillmode": "overlay",
              "size": 10,
              "solidity": 0.2
             }
            },
            "type": "bar"
           }
          ],
          "barpolar": [
           {
            "marker": {
             "line": {
              "color": "white",
              "width": 0.5
             },
             "pattern": {
              "fillmode": "overlay",
              "size": 10,
              "solidity": 0.2
             }
            },
            "type": "barpolar"
           }
          ],
          "carpet": [
           {
            "aaxis": {
             "endlinecolor": "#2a3f5f",
             "gridcolor": "#C8D4E3",
             "linecolor": "#C8D4E3",
             "minorgridcolor": "#C8D4E3",
             "startlinecolor": "#2a3f5f"
            },
            "baxis": {
             "endlinecolor": "#2a3f5f",
             "gridcolor": "#C8D4E3",
             "linecolor": "#C8D4E3",
             "minorgridcolor": "#C8D4E3",
             "startlinecolor": "#2a3f5f"
            },
            "type": "carpet"
           }
          ],
          "choropleth": [
           {
            "colorbar": {
             "outlinewidth": 0,
             "ticks": ""
            },
            "type": "choropleth"
           }
          ],
          "contour": [
           {
            "colorbar": {
             "outlinewidth": 0,
             "ticks": ""
            },
            "colorscale": [
             [
              0,
              "#0d0887"
             ],
             [
              0.1111111111111111,
              "#46039f"
             ],
             [
              0.2222222222222222,
              "#7201a8"
             ],
             [
              0.3333333333333333,
              "#9c179e"
             ],
             [
              0.4444444444444444,
              "#bd3786"
             ],
             [
              0.5555555555555556,
              "#d8576b"
             ],
             [
              0.6666666666666666,
              "#ed7953"
             ],
             [
              0.7777777777777778,
              "#fb9f3a"
             ],
             [
              0.8888888888888888,
              "#fdca26"
             ],
             [
              1,
              "#f0f921"
             ]
            ],
            "type": "contour"
           }
          ],
          "contourcarpet": [
           {
            "colorbar": {
             "outlinewidth": 0,
             "ticks": ""
            },
            "type": "contourcarpet"
           }
          ],
          "heatmap": [
           {
            "colorbar": {
             "outlinewidth": 0,
             "ticks": ""
            },
            "colorscale": [
             [
              0,
              "#0d0887"
             ],
             [
              0.1111111111111111,
              "#46039f"
             ],
             [
              0.2222222222222222,
              "#7201a8"
             ],
             [
              0.3333333333333333,
              "#9c179e"
             ],
             [
              0.4444444444444444,
              "#bd3786"
             ],
             [
              0.5555555555555556,
              "#d8576b"
             ],
             [
              0.6666666666666666,
              "#ed7953"
             ],
             [
              0.7777777777777778,
              "#fb9f3a"
             ],
             [
              0.8888888888888888,
              "#fdca26"
             ],
             [
              1,
              "#f0f921"
             ]
            ],
            "type": "heatmap"
           }
          ],
          "heatmapgl": [
           {
            "colorbar": {
             "outlinewidth": 0,
             "ticks": ""
            },
            "colorscale": [
             [
              0,
              "#0d0887"
             ],
             [
              0.1111111111111111,
              "#46039f"
             ],
             [
              0.2222222222222222,
              "#7201a8"
             ],
             [
              0.3333333333333333,
              "#9c179e"
             ],
             [
              0.4444444444444444,
              "#bd3786"
             ],
             [
              0.5555555555555556,
              "#d8576b"
             ],
             [
              0.6666666666666666,
              "#ed7953"
             ],
             [
              0.7777777777777778,
              "#fb9f3a"
             ],
             [
              0.8888888888888888,
              "#fdca26"
             ],
             [
              1,
              "#f0f921"
             ]
            ],
            "type": "heatmapgl"
           }
          ],
          "histogram": [
           {
            "marker": {
             "pattern": {
              "fillmode": "overlay",
              "size": 10,
              "solidity": 0.2
             }
            },
            "type": "histogram"
           }
          ],
          "histogram2d": [
           {
            "colorbar": {
             "outlinewidth": 0,
             "ticks": ""
            },
            "colorscale": [
             [
              0,
              "#0d0887"
             ],
             [
              0.1111111111111111,
              "#46039f"
             ],
             [
              0.2222222222222222,
              "#7201a8"
             ],
             [
              0.3333333333333333,
              "#9c179e"
             ],
             [
              0.4444444444444444,
              "#bd3786"
             ],
             [
              0.5555555555555556,
              "#d8576b"
             ],
             [
              0.6666666666666666,
              "#ed7953"
             ],
             [
              0.7777777777777778,
              "#fb9f3a"
             ],
             [
              0.8888888888888888,
              "#fdca26"
             ],
             [
              1,
              "#f0f921"
             ]
            ],
            "type": "histogram2d"
           }
          ],
          "histogram2dcontour": [
           {
            "colorbar": {
             "outlinewidth": 0,
             "ticks": ""
            },
            "colorscale": [
             [
              0,
              "#0d0887"
             ],
             [
              0.1111111111111111,
              "#46039f"
             ],
             [
              0.2222222222222222,
              "#7201a8"
             ],
             [
              0.3333333333333333,
              "#9c179e"
             ],
             [
              0.4444444444444444,
              "#bd3786"
             ],
             [
              0.5555555555555556,
              "#d8576b"
             ],
             [
              0.6666666666666666,
              "#ed7953"
             ],
             [
              0.7777777777777778,
              "#fb9f3a"
             ],
             [
              0.8888888888888888,
              "#fdca26"
             ],
             [
              1,
              "#f0f921"
             ]
            ],
            "type": "histogram2dcontour"
           }
          ],
          "mesh3d": [
           {
            "colorbar": {
             "outlinewidth": 0,
             "ticks": ""
            },
            "type": "mesh3d"
           }
          ],
          "parcoords": [
           {
            "line": {
             "colorbar": {
              "outlinewidth": 0,
              "ticks": ""
             }
            },
            "type": "parcoords"
           }
          ],
          "pie": [
           {
            "automargin": true,
            "type": "pie"
           }
          ],
          "scatter": [
           {
            "fillpattern": {
             "fillmode": "overlay",
             "size": 10,
             "solidity": 0.2
            },
            "type": "scatter"
           }
          ],
          "scatter3d": [
           {
            "line": {
             "colorbar": {
              "outlinewidth": 0,
              "ticks": ""
             }
            },
            "marker": {
             "colorbar": {
              "outlinewidth": 0,
              "ticks": ""
             }
            },
            "type": "scatter3d"
           }
          ],
          "scattercarpet": [
           {
            "marker": {
             "colorbar": {
              "outlinewidth": 0,
              "ticks": ""
             }
            },
            "type": "scattercarpet"
           }
          ],
          "scattergeo": [
           {
            "marker": {
             "colorbar": {
              "outlinewidth": 0,
              "ticks": ""
             }
            },
            "type": "scattergeo"
           }
          ],
          "scattergl": [
           {
            "marker": {
             "colorbar": {
              "outlinewidth": 0,
              "ticks": ""
             }
            },
            "type": "scattergl"
           }
          ],
          "scattermapbox": [
           {
            "marker": {
             "colorbar": {
              "outlinewidth": 0,
              "ticks": ""
             }
            },
            "type": "scattermapbox"
           }
          ],
          "scatterpolar": [
           {
            "marker": {
             "colorbar": {
              "outlinewidth": 0,
              "ticks": ""
             }
            },
            "type": "scatterpolar"
           }
          ],
          "scatterpolargl": [
           {
            "marker": {
             "colorbar": {
              "outlinewidth": 0,
              "ticks": ""
             }
            },
            "type": "scatterpolargl"
           }
          ],
          "scatterternary": [
           {
            "marker": {
             "colorbar": {
              "outlinewidth": 0,
              "ticks": ""
             }
            },
            "type": "scatterternary"
           }
          ],
          "surface": [
           {
            "colorbar": {
             "outlinewidth": 0,
             "ticks": ""
            },
            "colorscale": [
             [
              0,
              "#0d0887"
             ],
             [
              0.1111111111111111,
              "#46039f"
             ],
             [
              0.2222222222222222,
              "#7201a8"
             ],
             [
              0.3333333333333333,
              "#9c179e"
             ],
             [
              0.4444444444444444,
              "#bd3786"
             ],
             [
              0.5555555555555556,
              "#d8576b"
             ],
             [
              0.6666666666666666,
              "#ed7953"
             ],
             [
              0.7777777777777778,
              "#fb9f3a"
             ],
             [
              0.8888888888888888,
              "#fdca26"
             ],
             [
              1,
              "#f0f921"
             ]
            ],
            "type": "surface"
           }
          ],
          "table": [
           {
            "cells": {
             "fill": {
              "color": "#EBF0F8"
             },
             "line": {
              "color": "white"
             }
            },
            "header": {
             "fill": {
              "color": "#C8D4E3"
             },
             "line": {
              "color": "white"
             }
            },
            "type": "table"
           }
          ]
         },
         "layout": {
          "annotationdefaults": {
           "arrowcolor": "#2a3f5f",
           "arrowhead": 0,
           "arrowwidth": 1
          },
          "autotypenumbers": "strict",
          "coloraxis": {
           "colorbar": {
            "outlinewidth": 0,
            "ticks": ""
           }
          },
          "colorscale": {
           "diverging": [
            [
             0,
             "#8e0152"
            ],
            [
             0.1,
             "#c51b7d"
            ],
            [
             0.2,
             "#de77ae"
            ],
            [
             0.3,
             "#f1b6da"
            ],
            [
             0.4,
             "#fde0ef"
            ],
            [
             0.5,
             "#f7f7f7"
            ],
            [
             0.6,
             "#e6f5d0"
            ],
            [
             0.7,
             "#b8e186"
            ],
            [
             0.8,
             "#7fbc41"
            ],
            [
             0.9,
             "#4d9221"
            ],
            [
             1,
             "#276419"
            ]
           ],
           "sequential": [
            [
             0,
             "#0d0887"
            ],
            [
             0.1111111111111111,
             "#46039f"
            ],
            [
             0.2222222222222222,
             "#7201a8"
            ],
            [
             0.3333333333333333,
             "#9c179e"
            ],
            [
             0.4444444444444444,
             "#bd3786"
            ],
            [
             0.5555555555555556,
             "#d8576b"
            ],
            [
             0.6666666666666666,
             "#ed7953"
            ],
            [
             0.7777777777777778,
             "#fb9f3a"
            ],
            [
             0.8888888888888888,
             "#fdca26"
            ],
            [
             1,
             "#f0f921"
            ]
           ],
           "sequentialminus": [
            [
             0,
             "#0d0887"
            ],
            [
             0.1111111111111111,
             "#46039f"
            ],
            [
             0.2222222222222222,
             "#7201a8"
            ],
            [
             0.3333333333333333,
             "#9c179e"
            ],
            [
             0.4444444444444444,
             "#bd3786"
            ],
            [
             0.5555555555555556,
             "#d8576b"
            ],
            [
             0.6666666666666666,
             "#ed7953"
            ],
            [
             0.7777777777777778,
             "#fb9f3a"
            ],
            [
             0.8888888888888888,
             "#fdca26"
            ],
            [
             1,
             "#f0f921"
            ]
           ]
          },
          "colorway": [
           "#636efa",
           "#EF553B",
           "#00cc96",
           "#ab63fa",
           "#FFA15A",
           "#19d3f3",
           "#FF6692",
           "#B6E880",
           "#FF97FF",
           "#FECB52"
          ],
          "font": {
           "color": "#2a3f5f"
          },
          "geo": {
           "bgcolor": "white",
           "lakecolor": "white",
           "landcolor": "white",
           "showlakes": true,
           "showland": true,
           "subunitcolor": "#C8D4E3"
          },
          "hoverlabel": {
           "align": "left"
          },
          "hovermode": "closest",
          "mapbox": {
           "style": "light"
          },
          "paper_bgcolor": "white",
          "plot_bgcolor": "white",
          "polar": {
           "angularaxis": {
            "gridcolor": "#EBF0F8",
            "linecolor": "#EBF0F8",
            "ticks": ""
           },
           "bgcolor": "white",
           "radialaxis": {
            "gridcolor": "#EBF0F8",
            "linecolor": "#EBF0F8",
            "ticks": ""
           }
          },
          "scene": {
           "xaxis": {
            "backgroundcolor": "white",
            "gridcolor": "#DFE8F3",
            "gridwidth": 2,
            "linecolor": "#EBF0F8",
            "showbackground": true,
            "ticks": "",
            "zerolinecolor": "#EBF0F8"
           },
           "yaxis": {
            "backgroundcolor": "white",
            "gridcolor": "#DFE8F3",
            "gridwidth": 2,
            "linecolor": "#EBF0F8",
            "showbackground": true,
            "ticks": "",
            "zerolinecolor": "#EBF0F8"
           },
           "zaxis": {
            "backgroundcolor": "white",
            "gridcolor": "#DFE8F3",
            "gridwidth": 2,
            "linecolor": "#EBF0F8",
            "showbackground": true,
            "ticks": "",
            "zerolinecolor": "#EBF0F8"
           }
          },
          "shapedefaults": {
           "line": {
            "color": "#2a3f5f"
           }
          },
          "ternary": {
           "aaxis": {
            "gridcolor": "#DFE8F3",
            "linecolor": "#A2B1C6",
            "ticks": ""
           },
           "baxis": {
            "gridcolor": "#DFE8F3",
            "linecolor": "#A2B1C6",
            "ticks": ""
           },
           "bgcolor": "white",
           "caxis": {
            "gridcolor": "#DFE8F3",
            "linecolor": "#A2B1C6",
            "ticks": ""
           }
          },
          "title": {
           "x": 0.05
          },
          "xaxis": {
           "automargin": true,
           "gridcolor": "#EBF0F8",
           "linecolor": "#EBF0F8",
           "ticks": "",
           "title": {
            "standoff": 15
           },
           "zerolinecolor": "#EBF0F8",
           "zerolinewidth": 2
          },
          "yaxis": {
           "automargin": true,
           "gridcolor": "#EBF0F8",
           "linecolor": "#EBF0F8",
           "ticks": "",
           "title": {
            "standoff": 15
           },
           "zerolinecolor": "#EBF0F8",
           "zerolinewidth": 2
          }
         }
        },
        "title": {
         "text": "<b>vOUT967 Abundance Comparison</b>"
        },
        "width": 700,
        "xaxis": {
         "autorange": true,
         "range": [
          -0.5,
          1.5
         ],
         "type": "category"
        },
        "yaxis": {
         "autorange": true,
         "range": [
          -9763.611111111111,
          185508.61111111112
         ],
         "title": {
          "text": "Normalized Read Counts"
         },
         "type": "linear"
        }
       }
      },
      "image/png": "[encoded data removed]",
      "text/html": [
       "<div>                            <div id=\"5408ed39-3edc-46cb-a7e9-2903928609da\" class=\"plotly-graph-div\" style=\"height:500px; width:700px;\"></div>            <script type=\"text/javascript\">                require([\"plotly\"], function(Plotly) {                    window.PLOTLYENV=window.PLOTLYENV || {};                                    if (document.getElementById(\"5408ed39-3edc-46cb-a7e9-2903928609da\")) {                    Plotly.newPlot(                        \"5408ed39-3edc-46cb-a7e9-2903928609da\",                        [{\"boxpoints\":false,\"fillcolor\":\"rgba(0,0,0,0)\",\"line\":{\"color\":\"black\"},\"x\":[\"AS\",\"AS\",\"AS\",\"AS\",\"AS\",\"AS\",\"AS\",\"AS\",\"AS\",\"AS\",\"AS\",\"AS\",\"AS\",\"AS\",\"AS\",\"AS\",\"AS\",\"AS\",\"AS\",\"AS\",\"AS\",\"AS\",\"AS\",\"AS\",\"AS\",\"AS\",\"AS\",\"AS\",\"AS\",\"HC\",\"HC\",\"HC\",\"HC\",\"HC\",\"HC\",\"HC\",\"HC\",\"HC\",\"HC\",\"HC\",\"HC\",\"HC\",\"HC\",\"HC\",\"HC\",\"HC\",\"HC\",\"HC\",\"HC\",\"HC\",\"HC\",\"HC\",\"HC\",\"HC\",\"HC\",\"HC\",\"HC\",\"HC\"],\"y\":[0,2,359,2,1,41714,10472,2320,0,1,0,0,0,2893,0,0,0,7,0,175745,11374,2315,0,0,0,0,2495,135742,0,0,0,0,0,43,0,0,1538,0,2,6,0,0,2,0,0,0,0,0,0,0,1018,33214,5,0,0,0,0,0],\"type\":\"box\"}],                        {\"template\":{\"data\":{\"barpolar\":[{\"marker\":{\"line\":{\"color\":\"white\",\"width\":0.5},\"pattern\":{\"fillmode\":\"overlay\",\"size\":10,\"solidity\":0.2}},\"type\":\"barpolar\"}],\"bar\":[{\"error_x\":{\"color\":\"#2a3f5f\"},\"error_y\":{\"color\":\"#2a3f5f\"},\"marker\":{\"line\":{\"color\":\"white\",\"width\":0.5},\"pattern\":{\"fillmode\":\"overlay\",\"size\":10,\"solidity\":0.2}},\"type\":\"bar\"}],\"carpet\":[{\"aaxis\":{\"endlinecolor\":\"#2a3f5f\",\"gridcolor\":\"#C8D4E3\",\"linecolor\":\"#C8D4E3\",\"minorgridcolor\":\"#C8D4E3\",\"startlinecolor\":\"#2a3f5f\"},\"baxis\":{\"endlinecolor\":\"#2a3f5f\",\"gridcolor\":\"#C8D4E3\",\"linecolor\":\"#C8D4E3\",\"minorgridcolor\":\"#C8D4E3\",\"startlinecolor\":\"#2a3f5f\"},\"type\":\"carpet\"}],\"choropleth\":[{\"colorbar\":{\"outlinewidth\":0,\"ticks\":\"\"},\"type\":\"choropleth\"}],\"contourcarpet\":[{\"colorbar\":{\"outlinewidth\":0,\"ticks\":\"\"},\"type\":\"contourcarpet\"}],\"contour\":[{\"colorbar\":{\"outlinewidth\":0,\"ticks\":\"\"},\"colorscale\":[[0.0,\"#0d0887\"],[0.1111111111111111,\"#46039f\"],[0.2222222222222222,\"#7201a8\"],[0.3333333333333333,\"#9c179e\"],[0.4444444444444444,\"#bd3786\"],[0.5555555555555556,\"#d8576b\"],[0.6666666666666666,\"#ed7953\"],[0.7777777777777778,\"#fb9f3a\"],[0.8888888888888888,\"#fdca26\"],[1.0,\"#f0f921\"]],\"type\":\"contour\"}],\"heatmapgl\":[{\"colorbar\":{\"outlinewidth\":0,\"ticks\":\"\"},\"colorscale\":[[0.0,\"#0d0887\"],[0.1111111111111111,\"#46039f\"],[0.2222222222222222,\"#7201a8\"],[0.3333333333333333,\"#9c179e\"],[0.4444444444444444,\"#bd3786\"],[0.5555555555555556,\"#d8576b\"],[0.6666666666666666,\"#ed7953\"],[0.7777777777777778,\"#fb9f3a\"],[0.8888888888888888,\"#fdca26\"],[1.0,\"#f0f921\"]],\"type\":\"heatmapgl\"}],\"heatmap\":[{\"colorbar\":{\"outlinewidth\":0,\"ticks\":\"\"},\"colorscale\":[[0.0,\"#0d0887\"],[0.1111111111111111,\"#46039f\"],[0.2222222222222222,\"#7201a8\"],[0.3333333333333333,\"#9c179e\"],[0.4444444444444444,\"#bd3786\"],[0.5555555555555556,\"#d8576b\"],[0.6666666666666666,\"#ed7953\"],[0.7777777777777778,\"#fb9f3a\"],[0.8888888888888888,\"#fdca26\"],[1.0,\"#f0f921\"]],\"type\":\"heatmap\"}],\"histogram2dcontour\":[{\"colorbar\":{\"outlinewidth\":0,\"ticks\":\"\"},\"colorscale\":[[0.0,\"#0d0887\"],[0.1111111111111111,\"#46039f\"],[0.2222222222222222,\"#7201a8\"],[0.3333333333333333,\"#9c179e\"],[0.4444444444444444,\"#bd3786\"],[0.5555555555555556,\"#d8576b\"],[0.6666666666666666,\"#ed7953\"],[0.7777777777777778,\"#fb9f3a\"],[0.8888888888888888,\"#fdca26\"],[1.0,\"#f0f921\"]],\"type\":\"histogram2dcontour\"}],\"histogram2d\":[{\"colorbar\":{\"outlinewidth\":0,\"ticks\":\"\"},\"colorscale\":[[0.0,\"#0d0887\"],[0.1111111111111111,\"#46039f\"],[0.2222222222222222,\"#7201a8\"],[0.3333333333333333,\"#9c179e\"],[0.4444444444444444,\"#bd3786\"],[0.5555555555555556,\"#d8576b\"],[0.6666666666666666,\"#ed7953\"],[0.7777777777777778,\"#fb9f3a\"],[0.8888888888888888,\"#fdca26\"],[1.0,\"#f0f921\"]],\"type\":\"histogram2d\"}],\"histogram\":[{\"marker\":{\"pattern\":{\"fillmode\":\"overlay\",\"size\":10,\"solidity\":0.2}},\"type\":\"histogram\"}],\"mesh3d\":[{\"colorbar\":{\"outlinewidth\":0,\"ticks\":\"\"},\"type\":\"mesh3d\"}],\"parcoords\":[{\"line\":{\"colorbar\":{\"outlinewidth\":0,\"ticks\":\"\"}},\"type\":\"parcoords\"}],\"pie\":[{\"automargin\":true,\"type\":\"pie\"}],\"scatter3d\":[{\"line\":{\"colorbar\":{\"outlinewidth\":0,\"ticks\":\"\"}},\"marker\":{\"colorbar\":{\"outlinewidth\":0,\"ticks\":\"\"}},\"type\":\"scatter3d\"}],\"scattercarpet\":[{\"marker\":{\"colorbar\":{\"outlinewidth\":0,\"ticks\":\"\"}},\"type\":\"scattercarpet\"}],\"scattergeo\":[{\"marker\":{\"colorbar\":{\"outlinewidth\":0,\"ticks\":\"\"}},\"type\":\"scattergeo\"}],\"scattergl\":[{\"marker\":{\"colorbar\":{\"outlinewidth\":0,\"ticks\":\"\"}},\"type\":\"scattergl\"}],\"scattermapbox\":[{\"marker\":{\"colorbar\":{\"outlinewidth\":0,\"ticks\":\"\"}},\"type\":\"scattermapbox\"}],\"scatterpolargl\":[{\"marker\":{\"colorbar\":{\"outlinewidth\":0,\"ticks\":\"\"}},\"type\":\"scatterpolargl\"}],\"scatterpolar\":[{\"marker\":{\"colorbar\":{\"outlinewidth\":0,\"ticks\":\"\"}},\"type\":\"scatterpolar\"}],\"scatter\":[{\"fillpattern\":{\"fillmode\":\"overlay\",\"size\":10,\"solidity\":0.2},\"type\":\"scatter\"}],\"scatterternary\":[{\"marker\":{\"colorbar\":{\"outlinewidth\":0,\"ticks\":\"\"}},\"type\":\"scatterternary\"}],\"surface\":[{\"colorbar\":{\"outlinewidth\":0,\"ticks\":\"\"},\"colorscale\":[[0.0,\"#0d0887\"],[0.1111111111111111,\"#46039f\"],[0.2222222222222222,\"#7201a8\"],[0.3333333333333333,\"#9c179e\"],[0.4444444444444444,\"#bd3786\"],[0.5555555555555556,\"#d8576b\"],[0.6666666666666666,\"#ed7953\"],[0.7777777777777778,\"#fb9f3a\"],[0.8888888888888888,\"#fdca26\"],[1.0,\"#f0f921\"]],\"type\":\"surface\"}],\"table\":[{\"cells\":{\"fill\":{\"color\":\"#EBF0F8\"},\"line\":{\"color\":\"white\"}},\"header\":{\"fill\":{\"color\":\"#C8D4E3\"},\"line\":{\"color\":\"white\"}},\"type\":\"table\"}]},\"layout\":{\"annotationdefaults\":{\"arrowcolor\":\"#2a3f5f\",\"arrowhead\":0,\"arrowwidth\":1},\"autotypenumbers\":\"strict\",\"coloraxis\":{\"colorbar\":{\"outlinewidth\":0,\"ticks\":\"\"}},\"colorscale\":{\"diverging\":[[0,\"#8e0152\"],[0.1,\"#c51b7d\"],[0.2,\"#de77ae\"],[0.3,\"#f1b6da\"],[0.4,\"#fde0ef\"],[0.5,\"#f7f7f7\"],[0.6,\"#e6f5d0\"],[0.7,\"#b8e186\"],[0.8,\"#7fbc41\"],[0.9,\"#4d9221\"],[1,\"#276419\"]],\"sequential\":[[0.0,\"#0d0887\"],[0.1111111111111111,\"#46039f\"],[0.2222222222222222,\"#7201a8\"],[0.3333333333333333,\"#9c179e\"],[0.4444444444444444,\"#bd3786\"],[0.5555555555555556,\"#d8576b\"],[0.6666666666666666,\"#ed7953\"],[0.7777777777777778,\"#fb9f3a\"],[0.8888888888888888,\"#fdca26\"],[1.0,\"#f0f921\"]],\"sequentialminus\":[[0.0,\"#0d0887\"],[0.1111111111111111,\"#46039f\"],[0.2222222222222222,\"#7201a8\"],[0.3333333333333333,\"#9c179e\"],[0.4444444444444444,\"#bd3786\"],[0.5555555555555556,\"#d8576b\"],[0.6666666666666666,\"#ed7953\"],[0.7777777777777778,\"#fb9f3a\"],[0.8888888888888888,\"#fdca26\"],[1.0,\"#f0f921\"]]},\"colorway\":[\"#636efa\",\"#EF553B\",\"#00cc96\",\"#ab63fa\",\"#FFA15A\",\"#19d3f3\",\"#FF6692\",\"#B6E880\",\"#FF97FF\",\"#FECB52\"],\"font\":{\"color\":\"#2a3f5f\"},\"geo\":{\"bgcolor\":\"white\",\"lakecolor\":\"white\",\"landcolor\":\"white\",\"showlakes\":true,\"showland\":true,\"subunitcolor\":\"#C8D4E3\"},\"hoverlabel\":{\"align\":\"left\"},\"hovermode\":\"closest\",\"mapbox\":{\"style\":\"light\"},\"paper_bgcolor\":\"white\",\"plot_bgcolor\":\"white\",\"polar\":{\"angularaxis\":{\"gridcolor\":\"#EBF0F8\",\"linecolor\":\"#EBF0F8\",\"ticks\":\"\"},\"bgcolor\":\"white\",\"radialaxis\":{\"gridcolor\":\"#EBF0F8\",\"linecolor\":\"#EBF0F8\",\"ticks\":\"\"}},\"scene\":{\"xaxis\":{\"backgroundcolor\":\"white\",\"gridcolor\":\"#DFE8F3\",\"gridwidth\":2,\"linecolor\":\"#EBF0F8\",\"showbackground\":true,\"ticks\":\"\",\"zerolinecolor\":\"#EBF0F8\"},\"yaxis\":{\"backgroundcolor\":\"white\",\"gridcolor\":\"#DFE8F3\",\"gridwidth\":2,\"linecolor\":\"#EBF0F8\",\"showbackground\":true,\"ticks\":\"\",\"zerolinecolor\":\"#EBF0F8\"},\"zaxis\":{\"backgroundcolor\":\"white\",\"gridcolor\":\"#DFE8F3\",\"gridwidth\":2,\"linecolor\":\"#EBF0F8\",\"showbackground\":true,\"ticks\":\"\",\"zerolinecolor\":\"#EBF0F8\"}},\"shapedefaults\":{\"line\":{\"color\":\"#2a3f5f\"}},\"ternary\":{\"aaxis\":{\"gridcolor\":\"#DFE8F3\",\"linecolor\":\"#A2B1C6\",\"ticks\":\"\"},\"baxis\":{\"gridcolor\":\"#DFE8F3\",\"linecolor\":\"#A2B1C6\",\"ticks\":\"\"},\"bgcolor\":\"white\",\"caxis\":{\"gridcolor\":\"#DFE8F3\",\"linecolor\":\"#A2B1C6\",\"ticks\":\"\"}},\"title\":{\"x\":0.05},\"xaxis\":{\"automargin\":true,\"gridcolor\":\"#EBF0F8\",\"linecolor\":\"#EBF0F8\",\"ticks\":\"\",\"title\":{\"standoff\":15},\"zerolinecolor\":\"#EBF0F8\",\"zerolinewidth\":2},\"yaxis\":{\"automargin\":true,\"gridcolor\":\"#EBF0F8\",\"linecolor\":\"#EBF0F8\",\"ticks\":\"\",\"title\":{\"standoff\":15},\"zerolinecolor\":\"#EBF0F8\",\"zerolinewidth\":2}}},\"annotations\":[{\"font\":{\"size\":14},\"showarrow\":false,\"text\":\"p = 0.019\",\"x\":0.5,\"y\":7392.0}],\"title\":{\"text\":\"\\u003cb\\u003evOUT967 Abundance Comparison\\u003c\\u002fb\\u003e\"},\"yaxis\":{\"title\":{\"text\":\"Normalized Read Counts\"}},\"height\":500,\"width\":700},                        {\"responsive\": true}                    ).then(function(){\n",
       "                            \n",
       "var gd = document.getElementById('5408ed39-3edc-46cb-a7e9-2903928609da');\n",
       "var x = new MutationObserver(function (mutations, observer) {{\n",
       "        var display = window.getComputedStyle(gd).display;\n",
       "        if (!display || display === 'none') {{\n",
       "            console.log([gd, 'removed!']);\n",
       "            Plotly.purge(gd);\n",
       "            observer.disconnect();\n",
       "        }}\n",
       "}});\n",
       "\n",
       "// Listen for the removal of the full notebook cells\n",
       "var notebookContainer = gd.closest('#notebook-container');\n",
       "if (notebookContainer) {{\n",
       "    x.observe(notebookContainer, {childList: true});\n",
       "}}\n",
       "\n",
       "// Listen for the clearing of the current output cell\n",
       "var outputEl = gd.closest('.output');\n",
       "if (outputEl) {{\n",
       "    x.observe(outputEl, {childList: true});\n",
       "}}\n",
       "\n",
       "                        })                };                });            </script>        </div>"
      ]
     },
     "metadata": {},
     "output_type": "display_data"
    }
   ],
   "source": [
    "import seaborn as sns\n",
    "import matplotlib.pyplot as plt\n",
    "from scipy.stats import mannwhitneyu\n",
    "import numpy as np\n",
    "\n",
    "# 提取目标contig数据\n",
    "target_contig = 'vOUT967'\n",
    "contig_data = rarefied_data.loc[target_contig].to_frame(name='Count')\n",
    "\n",
    "# 添加分组信息\n",
    "contig_data['Group'] = contig_data.index.map(\n",
    "    lambda x: 'AS' if x.startswith('TXAS') else 'HC'\n",
    ")\n",
    "\n",
    "# 非参数检验（适用于非正态分布数据）\n",
    "as_counts = contig_data[contig_data.Group == 'AS']['Count']\n",
    "hc_counts = contig_data[contig_data.Group == 'HC']['Count']\n",
    "stat, p_value = mannwhitneyu(as_counts, hc_counts, alternative='greater')\n",
    "\n",
    "print(f\"Mann-Whitney U test:\\n\"\n",
    "      f\"Statistic: {stat}\\n\"\n",
    "      f\"p-value: {p_value:.4f}\")\n",
    "import plotly.graph_objects as go\n",
    "\n",
    "# 生成受控抖动\n",
    "np.random.seed(42)\n",
    "jitter_as = np.random.uniform(-0.1, 0.1, len(as_counts))\n",
    "jitter_hc = np.random.uniform(-0.1, 0.1, len(hc_counts))\n",
    "\n",
    "fig = go.Figure()\n",
    "\n",
    "# 添加箱线图\n",
    "fig.add_trace(go.Box(\n",
    "    x=contig_data['Group'],\n",
    "    y=contig_data['Count'],\n",
    "    boxpoints=False,\n",
    "    line_color='black',\n",
    "    fillcolor='rgba(0,0,0,0)'\n",
    "))\n",
    "\n",
    "\n",
    "\n",
    "# 添加统计标注\n",
    "fig.add_annotation(\n",
    "    x=0.5,\n",
    "    y=max_count*1.2,\n",
    "    text=f'p = {p_value:.2e}' if p_value < 0.001 else f'p = {p_value:.3f}',\n",
    "    showarrow=False,\n",
    "    font=dict(size=14)\n",
    ")\n",
    "\n",
    "fig.update_layout(\n",
    "    title=f'<b>{target_contig} Abundance Comparison</b>',\n",
    "    yaxis_title='Normalized Read Counts',\n",
    "    template='plotly_white',\n",
    "    height=500,\n",
    "    width=700\n",
    ")\n",
    "\n",
    "fig.show()"
   ]
  },
  {
   "cell_type": "markdown",
   "id": "995de1b5-07e2-4264-bf46-94f570b5d5e0",
   "metadata": {},
   "source": [
    "## alpha_diversity"
   ]
  },
  {
   "cell_type": "code",
   "execution_count": 30,
   "id": "d89fed32-91d9-455b-bed5-16d973abdcf7",
   "metadata": {},
   "outputs": [],
   "source": [
    "# 定义多样性计算函数\n",
    "def alpha_diversity(rarefied_df):\n",
    "    def _observed_otus(col):\n",
    "        return (col > 0).sum()\n",
    "    \n",
    "    def _shannon(col):\n",
    "        p = col[col > 0] / col.sum()\n",
    "        return -sum(p * np.log(p)) if p.any() else 0\n",
    "    \n",
    "    def _simpson(col):\n",
    "        p = col[col > 0] / col.sum()\n",
    "        return 1 - sum(p**2) if p.any() else 0\n",
    "    \n",
    "    return pd.DataFrame({\n",
    "        'Observed_OTUs': rarefied_df.apply(_observed_otus),\n",
    "        'Shannon': rarefied_df.apply(_shannon),\n",
    "        'Simpson': rarefied_df.apply(_simpson)\n",
    "    })\n",
    "\n",
    "# 计算每个样本的α多样性\n",
    "alpha_df = alpha_diversity(rarefied_data)  # 转置为样本在行"
   ]
  },
  {
   "cell_type": "code",
   "execution_count": 32,
   "id": "86acb144-daef-4e9b-ac1e-c1803c921f05",
   "metadata": {},
   "outputs": [],
   "source": [
    "# 添加分组信息\n",
    "alpha_df['Group'] = alpha_df.index.map(\n",
    "    lambda x: 'AS' if x.startswith('TXAS') else 'HC'\n",
    ")\n",
    "\n",
    "# 数据重组用于绘图\n",
    "plot_df = alpha_df.reset_index().melt(\n",
    "    id_vars=['index', 'Group'],\n",
    "    value_vars=['Observed_OTUs', 'Shannon', 'Simpson'],\n",
    "    var_name='Metric',\n",
    "    value_name='Value'\n",
    ")"
   ]
  },
  {
   "cell_type": "code",
   "execution_count": 34,
   "id": "529e228e-5722-486e-b700-4a2dbbcd4e25",
   "metadata": {},
   "outputs": [],
   "source": [
    "from scipy.stats import mannwhitneyu\n",
    "\n",
    "# 自动执行组间比较\n",
    "results = {}\n",
    "for metric in ['Observed_OTUs', 'Shannon', 'Simpson']:\n",
    "    as_data = alpha_df[alpha_df.Group == 'AS'][metric]\n",
    "    hc_data = alpha_df[alpha_df.Group == 'HC'][metric]\n",
    "    stat, p = mannwhitneyu(as_data, hc_data, alternative='two-sided')\n",
    "    results[metric] = {\n",
    "        'statistic': stat,\n",
    "        'p_value': p,\n",
    "        'AS_mean': as_data.mean(),\n",
    "        'HC_mean': hc_data.mean()\n",
    "    }"
   ]
  },
  {
   "cell_type": "code",
   "execution_count": 41,
   "id": "4be74d00-7c79-443c-acaa-be01af67249f",
   "metadata": {},
   "outputs": [
    {
     "data": {
      "application/vnd.plotly.v1+json": {
       "config": {
        "plotlyServerURL": "https://plot.ly"
       },
       "data": [
        {
         "marker": {
          "color": "#FF7F0E",
          "line": {
           "color": "black",
           "width": 1
          },
          "opacity": 0.8,
          "size": 10
         },
         "mode": "markers",
         "showlegend": false,
         "type": "scatter",
         "x": [
          0.006447175364652891,
          -0.09870433153566553,
          0.048275532361035794,
          0.1491438133892853,
          0.059830882355027926,
          -0.03482202599724124,
          -0.030159258821765594,
          0.07593945939352117,
          -0.06813994909589818,
          0.09725709922640527,
          -0.09533925529712516,
          -0.013022990752666358,
          0.008546497211241955,
          -0.04557817389968134,
          -0.11760829001031714,
          -0.07130832398181637,
          -0.12554271799477254,
          -0.08959632173675773,
          -0.1208594363610013,
          -0.048403525171656775,
          -0.09224060273260765,
          0.006792786519245475,
          0.14700852820174323,
          0.026150379974909682,
          -0.1323861411361995,
          0.012061639164553967,
          0.12456960133413017,
          -0.08309084396675752,
          0.12488161382648552
         ],
         "xaxis": "x",
         "y": [
          1533,
          1560,
          1546,
          1813,
          1714,
          1721,
          1554,
          1719,
          928,
          1811,
          1632,
          1638,
          1570,
          1823,
          1611,
          1261,
          1598,
          1770,
          1733,
          1747,
          1609,
          1821,
          1673,
          1589,
          1800,
          1381,
          1786,
          1517,
          1735
         ],
         "yaxis": "y"
        },
        {
         "marker": {
          "color": "#1F77B4",
          "line": {
           "color": "black",
           "width": 1
          },
          "opacity": 0.8,
          "size": 10
         },
         "mode": "markers",
         "showlegend": false,
         "type": "scatter",
         "x": [
          1.0580242316966735,
          1.014864369230497,
          0.9221115597076804,
          1.0404098742410373,
          0.878192930709959,
          0.9199160408424356,
          1.1216330310713725,
          0.9195795188601447,
          0.9578924985415354,
          0.9092149251373653,
          0.9601891983848191,
          0.946154279098362,
          0.9810886210922265,
          0.8975065637218643,
          1.116395958132056,
          0.921468614139789,
          0.904552414946294,
          0.9131818023303099,
          0.9333221172406405,
          1.0423486997399354,
          1.0684614754776565,
          0.959565288861861,
          0.9000129028918951,
          0.977026176719123,
          1.0354820218535825,
          0.9364284375590841,
          1.1156025879687999,
          0.8920727262868351,
          0.922216580473585
         ],
         "xaxis": "x",
         "y": [
          1808,
          1781,
          1828,
          1789,
          1821,
          1749,
          1849,
          1657,
          1803,
          1692,
          1145,
          1699,
          1811,
          1706,
          1619,
          1747,
          1322,
          1715,
          1806,
          1751,
          1426,
          1763,
          1805,
          1712,
          1621,
          1584,
          1443,
          1696,
          1794
         ],
         "yaxis": "y"
        },
        {
         "boxpoints": false,
         "fillcolor": "rgba(0, 0, 0, 0)",
         "line": {
          "color": "black",
          "width": 2
         },
         "showlegend": false,
         "type": "box",
         "width": 0.3,
         "x": [
          0,
          0,
          0,
          0,
          0,
          0,
          0,
          0,
          0,
          0,
          0,
          0,
          0,
          0,
          0,
          0,
          0,
          0,
          0,
          0,
          0,
          0,
          0,
          0,
          0,
          0,
          0,
          0,
          0,
          1,
          1,
          1,
          1,
          1,
          1,
          1,
          1,
          1,
          1,
          1,
          1,
          1,
          1,
          1,
          1,
          1,
          1,
          1,
          1,
          1,
          1,
          1,
          1,
          1,
          1,
          1,
          1,
          1
         ],
         "xaxis": "x",
         "y": [
          1533,
          1560,
          1546,
          1813,
          1714,
          1721,
          1554,
          1719,
          928,
          1811,
          1632,
          1638,
          1570,
          1823,
          1611,
          1261,
          1598,
          1770,
          1733,
          1747,
          1609,
          1821,
          1673,
          1589,
          1800,
          1381,
          1786,
          1517,
          1735,
          1808,
          1781,
          1828,
          1789,
          1821,
          1749,
          1849,
          1657,
          1803,
          1692,
          1145,
          1699,
          1811,
          1706,
          1619,
          1747,
          1322,
          1715,
          1806,
          1751,
          1426,
          1763,
          1805,
          1712,
          1621,
          1584,
          1443,
          1696,
          1794
         ],
         "yaxis": "y"
        },
        {
         "marker": {
          "color": "#FF7F0E",
          "line": {
           "color": "black",
           "width": 1
          },
          "opacity": 0.8,
          "size": 10
         },
         "mode": "markers",
         "showlegend": false,
         "type": "scatter",
         "x": [
          -0.13644058455247046,
          -0.0715837079207198,
          -0.05057637612745977,
          0.0833947042130829,
          -0.11394931419350778,
          0.09776371946977372,
          0.1032951192603003,
          0.12182223744079476,
          0.039680210459873244,
          0.07461381891721544,
          -0.052237281611818856,
          -0.08710839694175042,
          -0.12396406057678078,
          -0.0023716786513169885,
          0.03875172606254068,
          0.11078990461145424,
          0.09051558220731806,
          -0.015178391589561413,
          0.11008528064890347,
          -0.041742442709338495,
          -0.0771282861665218,
          -0.09325814952459888,
          -0.09009776202394931,
          0.08966638906986235,
          0.10475874270469646,
          -0.07565212545631331,
          0.002042795444460177,
          0.13589866656223445,
          0.0410629259048953
         ],
         "xaxis": "x2",
         "y": [
          5.298607046797619,
          5.235194028407668,
          5.090878639490516,
          5.245131956761006,
          5.319711484648503,
          4.924584298514487,
          5.2416166089107525,
          4.800663491047325,
          3.0407571462550544,
          6.052665704430968,
          5.992046367604493,
          5.88160942804884,
          5.302874458100105,
          5.5290219331470265,
          4.152549399125334,
          5.114165094278995,
          5.474212445324585,
          5.870877686032479,
          4.29752762835664,
          6.063255848842262,
          5.588506178322189,
          5.930825045814248,
          5.763995652410544,
          5.877017770678232,
          5.995345404581033,
          3.832680644321595,
          5.459627645038942,
          5.514316854744492,
          5.799353821521654
         ],
         "yaxis": "y2"
        },
        {
         "marker": {
          "color": "#1F77B4",
          "line": {
           "color": "black",
           "width": 1
          },
          "opacity": 0.8,
          "size": 10
         },
         "mode": "markers",
         "showlegend": false,
         "type": "scatter",
         "x": [
          0.9433484706911686,
          1.0279496265973413,
          0.9801508662744209,
          1.0360121857256228,
          1.0322767062020888,
          1.1132943886803717,
          0.9763598241636879,
          1.0170749216371235,
          1.046872954833992,
          0.9086142540479505,
          0.8709460352625278,
          1.0617755802401212,
          1.1366428703958857,
          0.9068199873352899,
          1.0674933319498805,
          0.9006668382344224,
          1.0134036006335838,
          0.9895373467823332,
          0.9306327749054686,
          1.1433326335611944,
          1.1069809308122256,
          1.1272724453200667,
          0.9442730101068317,
          1.100791222362612,
          0.886046784088038,
          0.874647689180099,
          0.9605948094130448,
          1.1358765170752338,
          0.9724299875952914
         ],
         "xaxis": "x2",
         "y": [
          5.9419139997988735,
          5.77737745713324,
          6.0717421195696195,
          6.253664171049514,
          6.111588116764278,
          5.19614087365891,
          5.8465468903334585,
          4.523888444064833,
          6.098994684609024,
          5.805587166665842,
          4.917481350834068,
          5.800396878904344,
          6.387155670232747,
          6.035221729984751,
          5.310428895423925,
          5.7002865625682695,
          5.404902471684736,
          5.471949339511327,
          6.208262989818697,
          5.952637194513456,
          5.43319962227235,
          3.696482523148743,
          6.107253495758213,
          5.965940548073905,
          6.1514829468683585,
          5.526693817937303,
          4.978795980885937,
          6.101589325593094,
          5.079879886961541
         ],
         "yaxis": "y2"
        },
        {
         "boxpoints": false,
         "fillcolor": "rgba(0, 0, 0, 0)",
         "line": {
          "color": "black",
          "width": 2
         },
         "showlegend": false,
         "type": "box",
         "width": 0.3,
         "x": [
          0,
          0,
          0,
          0,
          0,
          0,
          0,
          0,
          0,
          0,
          0,
          0,
          0,
          0,
          0,
          0,
          0,
          0,
          0,
          0,
          0,
          0,
          0,
          0,
          0,
          0,
          0,
          0,
          0,
          1,
          1,
          1,
          1,
          1,
          1,
          1,
          1,
          1,
          1,
          1,
          1,
          1,
          1,
          1,
          1,
          1,
          1,
          1,
          1,
          1,
          1,
          1,
          1,
          1,
          1,
          1,
          1,
          1
         ],
         "xaxis": "x2",
         "y": [
          5.298607046797619,
          5.235194028407668,
          5.090878639490516,
          5.245131956761006,
          5.319711484648503,
          4.924584298514487,
          5.2416166089107525,
          4.800663491047325,
          3.0407571462550544,
          6.052665704430968,
          5.992046367604493,
          5.88160942804884,
          5.302874458100105,
          5.5290219331470265,
          4.152549399125334,
          5.114165094278995,
          5.474212445324585,
          5.870877686032479,
          4.29752762835664,
          6.063255848842262,
          5.588506178322189,
          5.930825045814248,
          5.763995652410544,
          5.877017770678232,
          5.995345404581033,
          3.832680644321595,
          5.459627645038942,
          5.514316854744492,
          5.799353821521654,
          5.9419139997988735,
          5.77737745713324,
          6.0717421195696195,
          6.253664171049514,
          6.111588116764278,
          5.19614087365891,
          5.8465468903334585,
          4.523888444064833,
          6.098994684609024,
          5.805587166665842,
          4.917481350834068,
          5.800396878904344,
          6.387155670232747,
          6.035221729984751,
          5.310428895423925,
          5.7002865625682695,
          5.404902471684736,
          5.471949339511327,
          6.208262989818697,
          5.952637194513456,
          5.43319962227235,
          3.696482523148743,
          6.107253495758213,
          5.965940548073905,
          6.1514829468683585,
          5.526693817937303,
          4.978795980885937,
          6.101589325593094,
          5.079879886961541
         ],
         "yaxis": "y2"
        },
        {
         "marker": {
          "color": "#FF7F0E",
          "line": {
           "color": "black",
           "width": 1
          },
          "opacity": 0.8,
          "size": 10
         },
         "mode": "markers",
         "showlegend": false,
         "type": "scatter",
         "x": [
          -0.10584868132022379,
          0.007008921499317922,
          0.12317446150487335,
          0.0942436975017848,
          -0.046137888298141666,
          -0.13614065121670121,
          0.07850800278728337,
          0.1001888140799562,
          0.12817539695660643,
          -0.05593950374296004,
          -0.0958932623909271,
          0.13369148759881613,
          0.0473482873727219,
          0.055184792987223064,
          -0.07207239085402514,
          -0.06069891906909543,
          -0.0722766096901082,
          -0.03202592067139645,
          -0.07480086174139916,
          -0.1268240917036311,
          -0.0919440931281349,
          -0.008273486546957004,
          -0.11249981634187099,
          -0.13379638344891387,
          0.07933271914931,
          -0.057989737926042936,
          -0.1342597831915535,
          -0.053289994822385486,
          0.13529169153951012
         ],
         "xaxis": "x3",
         "y": [
          0.9880292652546274,
          0.983142179132481,
          0.9845816923204324,
          0.9850118369812065,
          0.9894623588784088,
          0.9787509250615717,
          0.9875772304099787,
          0.95982571382217,
          0.8750463122177959,
          0.9937260670061902,
          0.9941160226805964,
          0.9927152924857487,
          0.9840644068394355,
          0.9876367670881819,
          0.9388713056428266,
          0.9821183564001945,
          0.9865331047291562,
          0.9923773224433428,
          0.9296532109822802,
          0.9939561340419462,
          0.9922517342224528,
          0.992546067529681,
          0.9929252380563126,
          0.9936458064528292,
          0.9931699657236857,
          0.9294261968879083,
          0.9802910831782619,
          0.9861286387185643,
          0.9910294875514173
         ],
         "yaxis": "y3"
        },
        {
         "marker": {
          "color": "#1F77B4",
          "line": {
           "color": "black",
           "width": 1
          },
          "opacity": 0.8,
          "size": 10
         },
         "mode": "markers",
         "showlegend": false,
         "type": "scatter",
         "x": [
          0.9421966102128202,
          0.9383238313971268,
          0.9456872956209286,
          0.9654816849650614,
          0.996597754188468,
          0.8795178373459025,
          1.1490949512248052,
          0.9920730043612483,
          0.9440261524772816,
          1.1022086130738786,
          1.0737994413922136,
          0.9307694803773499,
          1.072322008910603,
          0.980795020961165,
          0.971990041130109,
          0.8784938232506784,
          1.1419726778094592,
          1.0355503378182218,
          1.0541920767392068,
          1.0053146320858828,
          1.0958547370876366,
          1.1293142186126635,
          0.9976720041377335,
          0.8865328059243248,
          1.1204678791774527,
          0.8800495827696303,
          1.0362608533860762,
          1.1145668945310137,
          0.8929375995121657
         ],
         "xaxis": "x3",
         "y": [
          0.9931675064649651,
          0.9934601167351567,
          0.9949044818315087,
          0.9961845233890779,
          0.9945527960259162,
          0.9837388940415478,
          0.993681246767439,
          0.9641307848690706,
          0.9948424276148674,
          0.9932907759552787,
          0.984289994166591,
          0.9937689175062833,
          0.9969302643813206,
          0.9951507785479592,
          0.9836172260488798,
          0.9819872913501771,
          0.9900426826074774,
          0.9884487456574806,
          0.9957212821719092,
          0.9942703654505007,
          0.9898625834806979,
          0.9419025880891886,
          0.9947908348819242,
          0.9942818176281923,
          0.9959998205598414,
          0.989941047823768,
          0.9818514641476056,
          0.9955944136145527,
          0.9725913697369281
         ],
         "yaxis": "y3"
        },
        {
         "boxpoints": false,
         "fillcolor": "rgba(0, 0, 0, 0)",
         "line": {
          "color": "black",
          "width": 2
         },
         "showlegend": false,
         "type": "box",
         "width": 0.3,
         "x": [
          0,
          0,
          0,
          0,
          0,
          0,
          0,
          0,
          0,
          0,
          0,
          0,
          0,
          0,
          0,
          0,
          0,
          0,
          0,
          0,
          0,
          0,
          0,
          0,
          0,
          0,
          0,
          0,
          0,
          1,
          1,
          1,
          1,
          1,
          1,
          1,
          1,
          1,
          1,
          1,
          1,
          1,
          1,
          1,
          1,
          1,
          1,
          1,
          1,
          1,
          1,
          1,
          1,
          1,
          1,
          1,
          1,
          1
         ],
         "xaxis": "x3",
         "y": [
          0.9880292652546274,
          0.983142179132481,
          0.9845816923204324,
          0.9850118369812065,
          0.9894623588784088,
          0.9787509250615717,
          0.9875772304099787,
          0.95982571382217,
          0.8750463122177959,
          0.9937260670061902,
          0.9941160226805964,
          0.9927152924857487,
          0.9840644068394355,
          0.9876367670881819,
          0.9388713056428266,
          0.9821183564001945,
          0.9865331047291562,
          0.9923773224433428,
          0.9296532109822802,
          0.9939561340419462,
          0.9922517342224528,
          0.992546067529681,
          0.9929252380563126,
          0.9936458064528292,
          0.9931699657236857,
          0.9294261968879083,
          0.9802910831782619,
          0.9861286387185643,
          0.9910294875514173,
          0.9931675064649651,
          0.9934601167351567,
          0.9949044818315087,
          0.9961845233890779,
          0.9945527960259162,
          0.9837388940415478,
          0.993681246767439,
          0.9641307848690706,
          0.9948424276148674,
          0.9932907759552787,
          0.984289994166591,
          0.9937689175062833,
          0.9969302643813206,
          0.9951507785479592,
          0.9836172260488798,
          0.9819872913501771,
          0.9900426826074774,
          0.9884487456574806,
          0.9957212821719092,
          0.9942703654505007,
          0.9898625834806979,
          0.9419025880891886,
          0.9947908348819242,
          0.9942818176281923,
          0.9959998205598414,
          0.989941047823768,
          0.9818514641476056,
          0.9955944136145527,
          0.9725913697369281
         ],
         "yaxis": "y3"
        }
       ],
       "layout": {
        "annotations": [
         {
          "font": {
           "size": 16
          },
          "showarrow": false,
          "text": "Observed_OTUs",
          "x": 0.13333333333333333,
          "xanchor": "center",
          "xref": "paper",
          "y": 1,
          "yanchor": "bottom",
          "yref": "paper"
         },
         {
          "font": {
           "size": 16
          },
          "showarrow": false,
          "text": "Shannon",
          "x": 0.5,
          "xanchor": "center",
          "xref": "paper",
          "y": 1,
          "yanchor": "bottom",
          "yref": "paper"
         },
         {
          "font": {
           "size": 16
          },
          "showarrow": false,
          "text": "Simpson",
          "x": 0.8666666666666667,
          "xanchor": "center",
          "xref": "paper",
          "y": 1,
          "yanchor": "bottom",
          "yref": "paper"
         },
         {
          "bgcolor": "white",
          "font": {
           "color": "black",
           "size": 12
          },
          "showarrow": false,
          "text": "p=0.104",
          "x": 0.5,
          "xref": "x",
          "y": 1913.715,
          "yref": "y"
         },
         {
          "bgcolor": "white",
          "font": {
           "color": "black",
           "size": 12
          },
          "showarrow": false,
          "text": "p=0.022",
          "x": 0.5,
          "xref": "x2",
          "y": 6.610706118690894,
          "yref": "y2"
         },
         {
          "bgcolor": "white",
          "font": {
           "color": "black",
           "size": 12
          },
          "showarrow": false,
          "text": "p=0.005",
          "x": 0.5,
          "xref": "x3",
          "y": 1.0318228236346667,
          "yref": "y3"
         }
        ],
        "height": 450,
        "margin": {
         "b": 20,
         "t": 60
        },
        "template": {
         "data": {
          "bar": [
           {
            "error_x": {
             "color": "#2a3f5f"
            },
            "error_y": {
             "color": "#2a3f5f"
            },
            "marker": {
             "line": {
              "color": "white",
              "width": 0.5
             },
             "pattern": {
              "fillmode": "overlay",
              "size": 10,
              "solidity": 0.2
             }
            },
            "type": "bar"
           }
          ],
          "barpolar": [
           {
            "marker": {
             "line": {
              "color": "white",
              "width": 0.5
             },
             "pattern": {
              "fillmode": "overlay",
              "size": 10,
              "solidity": 0.2
             }
            },
            "type": "barpolar"
           }
          ],
          "carpet": [
           {
            "aaxis": {
             "endlinecolor": "#2a3f5f",
             "gridcolor": "#C8D4E3",
             "linecolor": "#C8D4E3",
             "minorgridcolor": "#C8D4E3",
             "startlinecolor": "#2a3f5f"
            },
            "baxis": {
             "endlinecolor": "#2a3f5f",
             "gridcolor": "#C8D4E3",
             "linecolor": "#C8D4E3",
             "minorgridcolor": "#C8D4E3",
             "startlinecolor": "#2a3f5f"
            },
            "type": "carpet"
           }
          ],
          "choropleth": [
           {
            "colorbar": {
             "outlinewidth": 0,
             "ticks": ""
            },
            "type": "choropleth"
           }
          ],
          "contour": [
           {
            "colorbar": {
             "outlinewidth": 0,
             "ticks": ""
            },
            "colorscale": [
             [
              0,
              "#0d0887"
             ],
             [
              0.1111111111111111,
              "#46039f"
             ],
             [
              0.2222222222222222,
              "#7201a8"
             ],
             [
              0.3333333333333333,
              "#9c179e"
             ],
             [
              0.4444444444444444,
              "#bd3786"
             ],
             [
              0.5555555555555556,
              "#d8576b"
             ],
             [
              0.6666666666666666,
              "#ed7953"
             ],
             [
              0.7777777777777778,
              "#fb9f3a"
             ],
             [
              0.8888888888888888,
              "#fdca26"
             ],
             [
              1,
              "#f0f921"
             ]
            ],
            "type": "contour"
           }
          ],
          "contourcarpet": [
           {
            "colorbar": {
             "outlinewidth": 0,
             "ticks": ""
            },
            "type": "contourcarpet"
           }
          ],
          "heatmap": [
           {
            "colorbar": {
             "outlinewidth": 0,
             "ticks": ""
            },
            "colorscale": [
             [
              0,
              "#0d0887"
             ],
             [
              0.1111111111111111,
              "#46039f"
             ],
             [
              0.2222222222222222,
              "#7201a8"
             ],
             [
              0.3333333333333333,
              "#9c179e"
             ],
             [
              0.4444444444444444,
              "#bd3786"
             ],
             [
              0.5555555555555556,
              "#d8576b"
             ],
             [
              0.6666666666666666,
              "#ed7953"
             ],
             [
              0.7777777777777778,
              "#fb9f3a"
             ],
             [
              0.8888888888888888,
              "#fdca26"
             ],
             [
              1,
              "#f0f921"
             ]
            ],
            "type": "heatmap"
           }
          ],
          "heatmapgl": [
           {
            "colorbar": {
             "outlinewidth": 0,
             "ticks": ""
            },
            "colorscale": [
             [
              0,
              "#0d0887"
             ],
             [
              0.1111111111111111,
              "#46039f"
             ],
             [
              0.2222222222222222,
              "#7201a8"
             ],
             [
              0.3333333333333333,
              "#9c179e"
             ],
             [
              0.4444444444444444,
              "#bd3786"
             ],
             [
              0.5555555555555556,
              "#d8576b"
             ],
             [
              0.6666666666666666,
              "#ed7953"
             ],
             [
              0.7777777777777778,
              "#fb9f3a"
             ],
             [
              0.8888888888888888,
              "#fdca26"
             ],
             [
              1,
              "#f0f921"
             ]
            ],
            "type": "heatmapgl"
           }
          ],
          "histogram": [
           {
            "marker": {
             "pattern": {
              "fillmode": "overlay",
              "size": 10,
              "solidity": 0.2
             }
            },
            "type": "histogram"
           }
          ],
          "histogram2d": [
           {
            "colorbar": {
             "outlinewidth": 0,
             "ticks": ""
            },
            "colorscale": [
             [
              0,
              "#0d0887"
             ],
             [
              0.1111111111111111,
              "#46039f"
             ],
             [
              0.2222222222222222,
              "#7201a8"
             ],
             [
              0.3333333333333333,
              "#9c179e"
             ],
             [
              0.4444444444444444,
              "#bd3786"
             ],
             [
              0.5555555555555556,
              "#d8576b"
             ],
             [
              0.6666666666666666,
              "#ed7953"
             ],
             [
              0.7777777777777778,
              "#fb9f3a"
             ],
             [
              0.8888888888888888,
              "#fdca26"
             ],
             [
              1,
              "#f0f921"
             ]
            ],
            "type": "histogram2d"
           }
          ],
          "histogram2dcontour": [
           {
            "colorbar": {
             "outlinewidth": 0,
             "ticks": ""
            },
            "colorscale": [
             [
              0,
              "#0d0887"
             ],
             [
              0.1111111111111111,
              "#46039f"
             ],
             [
              0.2222222222222222,
              "#7201a8"
             ],
             [
              0.3333333333333333,
              "#9c179e"
             ],
             [
              0.4444444444444444,
              "#bd3786"
             ],
             [
              0.5555555555555556,
              "#d8576b"
             ],
             [
              0.6666666666666666,
              "#ed7953"
             ],
             [
              0.7777777777777778,
              "#fb9f3a"
             ],
             [
              0.8888888888888888,
              "#fdca26"
             ],
             [
              1,
              "#f0f921"
             ]
            ],
            "type": "histogram2dcontour"
           }
          ],
          "mesh3d": [
           {
            "colorbar": {
             "outlinewidth": 0,
             "ticks": ""
            },
            "type": "mesh3d"
           }
          ],
          "parcoords": [
           {
            "line": {
             "colorbar": {
              "outlinewidth": 0,
              "ticks": ""
             }
            },
            "type": "parcoords"
           }
          ],
          "pie": [
           {
            "automargin": true,
            "type": "pie"
           }
          ],
          "scatter": [
           {
            "fillpattern": {
             "fillmode": "overlay",
             "size": 10,
             "solidity": 0.2
            },
            "type": "scatter"
           }
          ],
          "scatter3d": [
           {
            "line": {
             "colorbar": {
              "outlinewidth": 0,
              "ticks": ""
             }
            },
            "marker": {
             "colorbar": {
              "outlinewidth": 0,
              "ticks": ""
             }
            },
            "type": "scatter3d"
           }
          ],
          "scattercarpet": [
           {
            "marker": {
             "colorbar": {
              "outlinewidth": 0,
              "ticks": ""
             }
            },
            "type": "scattercarpet"
           }
          ],
          "scattergeo": [
           {
            "marker": {
             "colorbar": {
              "outlinewidth": 0,
              "ticks": ""
             }
            },
            "type": "scattergeo"
           }
          ],
          "scattergl": [
           {
            "marker": {
             "colorbar": {
              "outlinewidth": 0,
              "ticks": ""
             }
            },
            "type": "scattergl"
           }
          ],
          "scattermapbox": [
           {
            "marker": {
             "colorbar": {
              "outlinewidth": 0,
              "ticks": ""
             }
            },
            "type": "scattermapbox"
           }
          ],
          "scatterpolar": [
           {
            "marker": {
             "colorbar": {
              "outlinewidth": 0,
              "ticks": ""
             }
            },
            "type": "scatterpolar"
           }
          ],
          "scatterpolargl": [
           {
            "marker": {
             "colorbar": {
              "outlinewidth": 0,
              "ticks": ""
             }
            },
            "type": "scatterpolargl"
           }
          ],
          "scatterternary": [
           {
            "marker": {
             "colorbar": {
              "outlinewidth": 0,
              "ticks": ""
             }
            },
            "type": "scatterternary"
           }
          ],
          "surface": [
           {
            "colorbar": {
             "outlinewidth": 0,
             "ticks": ""
            },
            "colorscale": [
             [
              0,
              "#0d0887"
             ],
             [
              0.1111111111111111,
              "#46039f"
             ],
             [
              0.2222222222222222,
              "#7201a8"
             ],
             [
              0.3333333333333333,
              "#9c179e"
             ],
             [
              0.4444444444444444,
              "#bd3786"
             ],
             [
              0.5555555555555556,
              "#d8576b"
             ],
             [
              0.6666666666666666,
              "#ed7953"
             ],
             [
              0.7777777777777778,
              "#fb9f3a"
             ],
             [
              0.8888888888888888,
              "#fdca26"
             ],
             [
              1,
              "#f0f921"
             ]
            ],
            "type": "surface"
           }
          ],
          "table": [
           {
            "cells": {
             "fill": {
              "color": "#EBF0F8"
             },
             "line": {
              "color": "white"
             }
            },
            "header": {
             "fill": {
              "color": "#C8D4E3"
             },
             "line": {
              "color": "white"
             }
            },
            "type": "table"
           }
          ]
         },
         "layout": {
          "annotationdefaults": {
           "arrowcolor": "#2a3f5f",
           "arrowhead": 0,
           "arrowwidth": 1
          },
          "autotypenumbers": "strict",
          "coloraxis": {
           "colorbar": {
            "outlinewidth": 0,
            "ticks": ""
           }
          },
          "colorscale": {
           "diverging": [
            [
             0,
             "#8e0152"
            ],
            [
             0.1,
             "#c51b7d"
            ],
            [
             0.2,
             "#de77ae"
            ],
            [
             0.3,
             "#f1b6da"
            ],
            [
             0.4,
             "#fde0ef"
            ],
            [
             0.5,
             "#f7f7f7"
            ],
            [
             0.6,
             "#e6f5d0"
            ],
            [
             0.7,
             "#b8e186"
            ],
            [
             0.8,
             "#7fbc41"
            ],
            [
             0.9,
             "#4d9221"
            ],
            [
             1,
             "#276419"
            ]
           ],
           "sequential": [
            [
             0,
             "#0d0887"
            ],
            [
             0.1111111111111111,
             "#46039f"
            ],
            [
             0.2222222222222222,
             "#7201a8"
            ],
            [
             0.3333333333333333,
             "#9c179e"
            ],
            [
             0.4444444444444444,
             "#bd3786"
            ],
            [
             0.5555555555555556,
             "#d8576b"
            ],
            [
             0.6666666666666666,
             "#ed7953"
            ],
            [
             0.7777777777777778,
             "#fb9f3a"
            ],
            [
             0.8888888888888888,
             "#fdca26"
            ],
            [
             1,
             "#f0f921"
            ]
           ],
           "sequentialminus": [
            [
             0,
             "#0d0887"
            ],
            [
             0.1111111111111111,
             "#46039f"
            ],
            [
             0.2222222222222222,
             "#7201a8"
            ],
            [
             0.3333333333333333,
             "#9c179e"
            ],
            [
             0.4444444444444444,
             "#bd3786"
            ],
            [
             0.5555555555555556,
             "#d8576b"
            ],
            [
             0.6666666666666666,
             "#ed7953"
            ],
            [
             0.7777777777777778,
             "#fb9f3a"
            ],
            [
             0.8888888888888888,
             "#fdca26"
            ],
            [
             1,
             "#f0f921"
            ]
           ]
          },
          "colorway": [
           "#636efa",
           "#EF553B",
           "#00cc96",
           "#ab63fa",
           "#FFA15A",
           "#19d3f3",
           "#FF6692",
           "#B6E880",
           "#FF97FF",
           "#FECB52"
          ],
          "font": {
           "color": "#2a3f5f"
          },
          "geo": {
           "bgcolor": "white",
           "lakecolor": "white",
           "landcolor": "white",
           "showlakes": true,
           "showland": true,
           "subunitcolor": "#C8D4E3"
          },
          "hoverlabel": {
           "align": "left"
          },
          "hovermode": "closest",
          "mapbox": {
           "style": "light"
          },
          "paper_bgcolor": "white",
          "plot_bgcolor": "white",
          "polar": {
           "angularaxis": {
            "gridcolor": "#EBF0F8",
            "linecolor": "#EBF0F8",
            "ticks": ""
           },
           "bgcolor": "white",
           "radialaxis": {
            "gridcolor": "#EBF0F8",
            "linecolor": "#EBF0F8",
            "ticks": ""
           }
          },
          "scene": {
           "xaxis": {
            "backgroundcolor": "white",
            "gridcolor": "#DFE8F3",
            "gridwidth": 2,
            "linecolor": "#EBF0F8",
            "showbackground": true,
            "ticks": "",
            "zerolinecolor": "#EBF0F8"
           },
           "yaxis": {
            "backgroundcolor": "white",
            "gridcolor": "#DFE8F3",
            "gridwidth": 2,
            "linecolor": "#EBF0F8",
            "showbackground": true,
            "ticks": "",
            "zerolinecolor": "#EBF0F8"
           },
           "zaxis": {
            "backgroundcolor": "white",
            "gridcolor": "#DFE8F3",
            "gridwidth": 2,
            "linecolor": "#EBF0F8",
            "showbackground": true,
            "ticks": "",
            "zerolinecolor": "#EBF0F8"
           }
          },
          "shapedefaults": {
           "line": {
            "color": "#2a3f5f"
           }
          },
          "ternary": {
           "aaxis": {
            "gridcolor": "#DFE8F3",
            "linecolor": "#A2B1C6",
            "ticks": ""
           },
           "baxis": {
            "gridcolor": "#DFE8F3",
            "linecolor": "#A2B1C6",
            "ticks": ""
           },
           "bgcolor": "white",
           "caxis": {
            "gridcolor": "#DFE8F3",
            "linecolor": "#A2B1C6",
            "ticks": ""
           }
          },
          "title": {
           "x": 0.05
          },
          "xaxis": {
           "automargin": true,
           "gridcolor": "#EBF0F8",
           "linecolor": "#EBF0F8",
           "ticks": "",
           "title": {
            "standoff": 15
           },
           "zerolinecolor": "#EBF0F8",
           "zerolinewidth": 2
          },
          "yaxis": {
           "automargin": true,
           "gridcolor": "#EBF0F8",
           "linecolor": "#EBF0F8",
           "ticks": "",
           "title": {
            "standoff": 15
           },
           "zerolinecolor": "#EBF0F8",
           "zerolinewidth": 2
          }
         }
        },
        "title": {
         "text": "<b>Alpha Diversity Comparison</b>",
         "x": 0.5
        },
        "width": 1000,
        "xaxis": {
         "anchor": "y",
         "domain": [
          0,
          0.26666666666666666
         ],
         "range": [
          -0.5,
          1.5
         ],
         "showgrid": false,
         "ticktext": [
          "AS Patients",
          "HC Healthy"
         ],
         "tickvals": [
          0,
          1
         ],
         "type": "linear"
        },
        "xaxis2": {
         "anchor": "y2",
         "domain": [
          0.3666666666666667,
          0.6333333333333333
         ],
         "range": [
          -0.5,
          1.5
         ],
         "showgrid": false,
         "ticktext": [
          "AS Patients",
          "HC Healthy"
         ],
         "tickvals": [
          0,
          1
         ],
         "type": "linear"
        },
        "xaxis3": {
         "anchor": "y3",
         "domain": [
          0.7333333333333334,
          1
         ],
         "range": [
          -0.5,
          1.5
         ],
         "showgrid": false,
         "ticktext": [
          "AS Patients",
          "HC Healthy"
         ],
         "tickvals": [
          0,
          1
         ],
         "type": "linear"
        },
        "yaxis": {
         "anchor": "x",
         "domain": [
          0,
          1
         ],
         "gridcolor": "#F0F0F0",
         "range": [
          0,
          2126.35
         ],
         "type": "linear"
        },
        "yaxis2": {
         "anchor": "x2",
         "domain": [
          0,
          1
         ],
         "gridcolor": "#F0F0F0",
         "range": [
          0,
          7.345229020767659
         ],
         "type": "linear"
        },
        "yaxis3": {
         "anchor": "x3",
         "domain": [
          0,
          1
         ],
         "gridcolor": "#F0F0F0",
         "range": [
          0,
          1.1464698040385186
         ],
         "type": "linear"
        }
       }
      },
      "image/png": "[encoded data removed]",
      "text/html": [
       "<div>                            <div id=\"02b97a53-050d-4942-b32c-ea81d4d3b2bf\" class=\"plotly-graph-div\" style=\"height:450px; width:1000px;\"></div>            <script type=\"text/javascript\">                require([\"plotly\"], function(Plotly) {                    window.PLOTLYENV=window.PLOTLYENV || {};                                    if (document.getElementById(\"02b97a53-050d-4942-b32c-ea81d4d3b2bf\")) {                    Plotly.newPlot(                        \"02b97a53-050d-4942-b32c-ea81d4d3b2bf\",                        [{\"marker\":{\"color\":\"#FF7F0E\",\"line\":{\"color\":\"black\",\"width\":1},\"opacity\":0.8,\"size\":10},\"mode\":\"markers\",\"showlegend\":false,\"x\":[0.006447175364652891,-0.09870433153566553,0.048275532361035794,0.1491438133892853,0.059830882355027926,-0.03482202599724124,-0.030159258821765594,0.07593945939352117,-0.06813994909589818,0.09725709922640527,-0.09533925529712516,-0.013022990752666358,0.008546497211241955,-0.04557817389968134,-0.11760829001031714,-0.07130832398181637,-0.12554271799477254,-0.08959632173675773,-0.1208594363610013,-0.048403525171656775,-0.09224060273260765,0.006792786519245475,0.14700852820174323,0.026150379974909682,-0.1323861411361995,0.012061639164553967,0.12456960133413017,-0.08309084396675752,0.12488161382648552],\"y\":[1533,1560,1546,1813,1714,1721,1554,1719,928,1811,1632,1638,1570,1823,1611,1261,1598,1770,1733,1747,1609,1821,1673,1589,1800,1381,1786,1517,1735],\"type\":\"scatter\",\"xaxis\":\"x\",\"yaxis\":\"y\"},{\"marker\":{\"color\":\"#1F77B4\",\"line\":{\"color\":\"black\",\"width\":1},\"opacity\":0.8,\"size\":10},\"mode\":\"markers\",\"showlegend\":false,\"x\":[1.0580242316966735,1.014864369230497,0.9221115597076804,1.0404098742410373,0.878192930709959,0.9199160408424356,1.1216330310713725,0.9195795188601447,0.9578924985415354,0.9092149251373653,0.9601891983848191,0.946154279098362,0.9810886210922265,0.8975065637218643,1.116395958132056,0.921468614139789,0.904552414946294,0.9131818023303099,0.9333221172406405,1.0423486997399354,1.0684614754776565,0.959565288861861,0.9000129028918951,0.977026176719123,1.0354820218535825,0.9364284375590841,1.1156025879687999,0.8920727262868351,0.922216580473585],\"y\":[1808,1781,1828,1789,1821,1749,1849,1657,1803,1692,1145,1699,1811,1706,1619,1747,1322,1715,1806,1751,1426,1763,1805,1712,1621,1584,1443,1696,1794],\"type\":\"scatter\",\"xaxis\":\"x\",\"yaxis\":\"y\"},{\"boxpoints\":false,\"fillcolor\":\"rgba(0,0,0,0)\",\"line\":{\"color\":\"black\",\"width\":2},\"showlegend\":false,\"width\":0.3,\"x\":[0,0,0,0,0,0,0,0,0,0,0,0,0,0,0,0,0,0,0,0,0,0,0,0,0,0,0,0,0,1,1,1,1,1,1,1,1,1,1,1,1,1,1,1,1,1,1,1,1,1,1,1,1,1,1,1,1,1],\"y\":[1533,1560,1546,1813,1714,1721,1554,1719,928,1811,1632,1638,1570,1823,1611,1261,1598,1770,1733,1747,1609,1821,1673,1589,1800,1381,1786,1517,1735,1808,1781,1828,1789,1821,1749,1849,1657,1803,1692,1145,1699,1811,1706,1619,1747,1322,1715,1806,1751,1426,1763,1805,1712,1621,1584,1443,1696,1794],\"type\":\"box\",\"xaxis\":\"x\",\"yaxis\":\"y\"},{\"marker\":{\"color\":\"#FF7F0E\",\"line\":{\"color\":\"black\",\"width\":1},\"opacity\":0.8,\"size\":10},\"mode\":\"markers\",\"showlegend\":false,\"x\":[-0.13644058455247046,-0.0715837079207198,-0.05057637612745977,0.0833947042130829,-0.11394931419350778,0.09776371946977372,0.1032951192603003,0.12182223744079476,0.039680210459873244,0.07461381891721544,-0.052237281611818856,-0.08710839694175042,-0.12396406057678078,-0.0023716786513169885,0.03875172606254068,0.11078990461145424,0.09051558220731806,-0.015178391589561413,0.11008528064890347,-0.041742442709338495,-0.0771282861665218,-0.09325814952459888,-0.09009776202394931,0.08966638906986235,0.10475874270469646,-0.07565212545631331,0.002042795444460177,0.13589866656223445,0.0410629259048953],\"y\":[5.298607046797619,5.235194028407668,5.090878639490516,5.245131956761006,5.319711484648503,4.924584298514487,5.2416166089107525,4.800663491047325,3.0407571462550544,6.052665704430968,5.992046367604493,5.88160942804884,5.302874458100105,5.5290219331470265,4.152549399125334,5.114165094278995,5.474212445324585,5.870877686032479,4.29752762835664,6.063255848842262,5.588506178322189,5.930825045814248,5.763995652410544,5.877017770678232,5.995345404581033,3.832680644321595,5.459627645038942,5.514316854744492,5.799353821521654],\"type\":\"scatter\",\"xaxis\":\"x2\",\"yaxis\":\"y2\"},{\"marker\":{\"color\":\"#1F77B4\",\"line\":{\"color\":\"black\",\"width\":1},\"opacity\":0.8,\"size\":10},\"mode\":\"markers\",\"showlegend\":false,\"x\":[0.9433484706911686,1.0279496265973413,0.9801508662744209,1.0360121857256228,1.0322767062020888,1.1132943886803717,0.9763598241636879,1.0170749216371235,1.046872954833992,0.9086142540479505,0.8709460352625278,1.0617755802401212,1.1366428703958857,0.9068199873352899,1.0674933319498805,0.9006668382344224,1.0134036006335838,0.9895373467823332,0.9306327749054686,1.1433326335611944,1.1069809308122256,1.1272724453200667,0.9442730101068317,1.100791222362612,0.886046784088038,0.874647689180099,0.9605948094130448,1.1358765170752338,0.9724299875952914],\"y\":[5.9419139997988735,5.77737745713324,6.0717421195696195,6.253664171049514,6.111588116764278,5.19614087365891,5.8465468903334585,4.523888444064833,6.098994684609024,5.805587166665842,4.917481350834068,5.800396878904344,6.387155670232747,6.035221729984751,5.310428895423925,5.7002865625682695,5.404902471684736,5.471949339511327,6.208262989818697,5.952637194513456,5.43319962227235,3.696482523148743,6.107253495758213,5.965940548073905,6.1514829468683585,5.526693817937303,4.978795980885937,6.101589325593094,5.079879886961541],\"type\":\"scatter\",\"xaxis\":\"x2\",\"yaxis\":\"y2\"},{\"boxpoints\":false,\"fillcolor\":\"rgba(0,0,0,0)\",\"line\":{\"color\":\"black\",\"width\":2},\"showlegend\":false,\"width\":0.3,\"x\":[0,0,0,0,0,0,0,0,0,0,0,0,0,0,0,0,0,0,0,0,0,0,0,0,0,0,0,0,0,1,1,1,1,1,1,1,1,1,1,1,1,1,1,1,1,1,1,1,1,1,1,1,1,1,1,1,1,1],\"y\":[5.298607046797619,5.235194028407668,5.090878639490516,5.245131956761006,5.319711484648503,4.924584298514487,5.2416166089107525,4.800663491047325,3.0407571462550544,6.052665704430968,5.992046367604493,5.88160942804884,5.302874458100105,5.5290219331470265,4.152549399125334,5.114165094278995,5.474212445324585,5.870877686032479,4.29752762835664,6.063255848842262,5.588506178322189,5.930825045814248,5.763995652410544,5.877017770678232,5.995345404581033,3.832680644321595,5.459627645038942,5.514316854744492,5.799353821521654,5.9419139997988735,5.77737745713324,6.0717421195696195,6.253664171049514,6.111588116764278,5.19614087365891,5.8465468903334585,4.523888444064833,6.098994684609024,5.805587166665842,4.917481350834068,5.800396878904344,6.387155670232747,6.035221729984751,5.310428895423925,5.7002865625682695,5.404902471684736,5.471949339511327,6.208262989818697,5.952637194513456,5.43319962227235,3.696482523148743,6.107253495758213,5.965940548073905,6.1514829468683585,5.526693817937303,4.978795980885937,6.101589325593094,5.079879886961541],\"type\":\"box\",\"xaxis\":\"x2\",\"yaxis\":\"y2\"},{\"marker\":{\"color\":\"#FF7F0E\",\"line\":{\"color\":\"black\",\"width\":1},\"opacity\":0.8,\"size\":10},\"mode\":\"markers\",\"showlegend\":false,\"x\":[-0.10584868132022379,0.007008921499317922,0.12317446150487335,0.0942436975017848,-0.046137888298141666,-0.13614065121670121,0.07850800278728337,0.1001888140799562,0.12817539695660643,-0.05593950374296004,-0.0958932623909271,0.13369148759881613,0.0473482873727219,0.055184792987223064,-0.07207239085402514,-0.06069891906909543,-0.0722766096901082,-0.03202592067139645,-0.07480086174139916,-0.1268240917036311,-0.0919440931281349,-0.008273486546957004,-0.11249981634187099,-0.13379638344891387,0.07933271914931,-0.057989737926042936,-0.1342597831915535,-0.053289994822385486,0.13529169153951012],\"y\":[0.9880292652546274,0.983142179132481,0.9845816923204324,0.9850118369812065,0.9894623588784088,0.9787509250615717,0.9875772304099787,0.95982571382217,0.8750463122177959,0.9937260670061902,0.9941160226805964,0.9927152924857487,0.9840644068394355,0.9876367670881819,0.9388713056428266,0.9821183564001945,0.9865331047291562,0.9923773224433428,0.9296532109822802,0.9939561340419462,0.9922517342224528,0.992546067529681,0.9929252380563126,0.9936458064528292,0.9931699657236857,0.9294261968879083,0.9802910831782619,0.9861286387185643,0.9910294875514173],\"type\":\"scatter\",\"xaxis\":\"x3\",\"yaxis\":\"y3\"},{\"marker\":{\"color\":\"#1F77B4\",\"line\":{\"color\":\"black\",\"width\":1},\"opacity\":0.8,\"size\":10},\"mode\":\"markers\",\"showlegend\":false,\"x\":[0.9421966102128202,0.9383238313971268,0.9456872956209286,0.9654816849650614,0.996597754188468,0.8795178373459025,1.1490949512248052,0.9920730043612483,0.9440261524772816,1.1022086130738786,1.0737994413922136,0.9307694803773499,1.072322008910603,0.980795020961165,0.971990041130109,0.8784938232506784,1.1419726778094592,1.0355503378182218,1.0541920767392068,1.0053146320858828,1.0958547370876366,1.1293142186126635,0.9976720041377335,0.8865328059243248,1.1204678791774527,0.8800495827696303,1.0362608533860762,1.1145668945310137,0.8929375995121657],\"y\":[0.9931675064649651,0.9934601167351567,0.9949044818315087,0.9961845233890779,0.9945527960259162,0.9837388940415478,0.993681246767439,0.9641307848690706,0.9948424276148674,0.9932907759552787,0.984289994166591,0.9937689175062833,0.9969302643813206,0.9951507785479592,0.9836172260488798,0.9819872913501771,0.9900426826074774,0.9884487456574806,0.9957212821719092,0.9942703654505007,0.9898625834806979,0.9419025880891886,0.9947908348819242,0.9942818176281923,0.9959998205598414,0.989941047823768,0.9818514641476056,0.9955944136145527,0.9725913697369281],\"type\":\"scatter\",\"xaxis\":\"x3\",\"yaxis\":\"y3\"},{\"boxpoints\":false,\"fillcolor\":\"rgba(0,0,0,0)\",\"line\":{\"color\":\"black\",\"width\":2},\"showlegend\":false,\"width\":0.3,\"x\":[0,0,0,0,0,0,0,0,0,0,0,0,0,0,0,0,0,0,0,0,0,0,0,0,0,0,0,0,0,1,1,1,1,1,1,1,1,1,1,1,1,1,1,1,1,1,1,1,1,1,1,1,1,1,1,1,1,1],\"y\":[0.9880292652546274,0.983142179132481,0.9845816923204324,0.9850118369812065,0.9894623588784088,0.9787509250615717,0.9875772304099787,0.95982571382217,0.8750463122177959,0.9937260670061902,0.9941160226805964,0.9927152924857487,0.9840644068394355,0.9876367670881819,0.9388713056428266,0.9821183564001945,0.9865331047291562,0.9923773224433428,0.9296532109822802,0.9939561340419462,0.9922517342224528,0.992546067529681,0.9929252380563126,0.9936458064528292,0.9931699657236857,0.9294261968879083,0.9802910831782619,0.9861286387185643,0.9910294875514173,0.9931675064649651,0.9934601167351567,0.9949044818315087,0.9961845233890779,0.9945527960259162,0.9837388940415478,0.993681246767439,0.9641307848690706,0.9948424276148674,0.9932907759552787,0.984289994166591,0.9937689175062833,0.9969302643813206,0.9951507785479592,0.9836172260488798,0.9819872913501771,0.9900426826074774,0.9884487456574806,0.9957212821719092,0.9942703654505007,0.9898625834806979,0.9419025880891886,0.9947908348819242,0.9942818176281923,0.9959998205598414,0.989941047823768,0.9818514641476056,0.9955944136145527,0.9725913697369281],\"type\":\"box\",\"xaxis\":\"x3\",\"yaxis\":\"y3\"}],                        {\"template\":{\"data\":{\"barpolar\":[{\"marker\":{\"line\":{\"color\":\"white\",\"width\":0.5},\"pattern\":{\"fillmode\":\"overlay\",\"size\":10,\"solidity\":0.2}},\"type\":\"barpolar\"}],\"bar\":[{\"error_x\":{\"color\":\"#2a3f5f\"},\"error_y\":{\"color\":\"#2a3f5f\"},\"marker\":{\"line\":{\"color\":\"white\",\"width\":0.5},\"pattern\":{\"fillmode\":\"overlay\",\"size\":10,\"solidity\":0.2}},\"type\":\"bar\"}],\"carpet\":[{\"aaxis\":{\"endlinecolor\":\"#2a3f5f\",\"gridcolor\":\"#C8D4E3\",\"linecolor\":\"#C8D4E3\",\"minorgridcolor\":\"#C8D4E3\",\"startlinecolor\":\"#2a3f5f\"},\"baxis\":{\"endlinecolor\":\"#2a3f5f\",\"gridcolor\":\"#C8D4E3\",\"linecolor\":\"#C8D4E3\",\"minorgridcolor\":\"#C8D4E3\",\"startlinecolor\":\"#2a3f5f\"},\"type\":\"carpet\"}],\"choropleth\":[{\"colorbar\":{\"outlinewidth\":0,\"ticks\":\"\"},\"type\":\"choropleth\"}],\"contourcarpet\":[{\"colorbar\":{\"outlinewidth\":0,\"ticks\":\"\"},\"type\":\"contourcarpet\"}],\"contour\":[{\"colorbar\":{\"outlinewidth\":0,\"ticks\":\"\"},\"colorscale\":[[0.0,\"#0d0887\"],[0.1111111111111111,\"#46039f\"],[0.2222222222222222,\"#7201a8\"],[0.3333333333333333,\"#9c179e\"],[0.4444444444444444,\"#bd3786\"],[0.5555555555555556,\"#d8576b\"],[0.6666666666666666,\"#ed7953\"],[0.7777777777777778,\"#fb9f3a\"],[0.8888888888888888,\"#fdca26\"],[1.0,\"#f0f921\"]],\"type\":\"contour\"}],\"heatmapgl\":[{\"colorbar\":{\"outlinewidth\":0,\"ticks\":\"\"},\"colorscale\":[[0.0,\"#0d0887\"],[0.1111111111111111,\"#46039f\"],[0.2222222222222222,\"#7201a8\"],[0.3333333333333333,\"#9c179e\"],[0.4444444444444444,\"#bd3786\"],[0.5555555555555556,\"#d8576b\"],[0.6666666666666666,\"#ed7953\"],[0.7777777777777778,\"#fb9f3a\"],[0.8888888888888888,\"#fdca26\"],[1.0,\"#f0f921\"]],\"type\":\"heatmapgl\"}],\"heatmap\":[{\"colorbar\":{\"outlinewidth\":0,\"ticks\":\"\"},\"colorscale\":[[0.0,\"#0d0887\"],[0.1111111111111111,\"#46039f\"],[0.2222222222222222,\"#7201a8\"],[0.3333333333333333,\"#9c179e\"],[0.4444444444444444,\"#bd3786\"],[0.5555555555555556,\"#d8576b\"],[0.6666666666666666,\"#ed7953\"],[0.7777777777777778,\"#fb9f3a\"],[0.8888888888888888,\"#fdca26\"],[1.0,\"#f0f921\"]],\"type\":\"heatmap\"}],\"histogram2dcontour\":[{\"colorbar\":{\"outlinewidth\":0,\"ticks\":\"\"},\"colorscale\":[[0.0,\"#0d0887\"],[0.1111111111111111,\"#46039f\"],[0.2222222222222222,\"#7201a8\"],[0.3333333333333333,\"#9c179e\"],[0.4444444444444444,\"#bd3786\"],[0.5555555555555556,\"#d8576b\"],[0.6666666666666666,\"#ed7953\"],[0.7777777777777778,\"#fb9f3a\"],[0.8888888888888888,\"#fdca26\"],[1.0,\"#f0f921\"]],\"type\":\"histogram2dcontour\"}],\"histogram2d\":[{\"colorbar\":{\"outlinewidth\":0,\"ticks\":\"\"},\"colorscale\":[[0.0,\"#0d0887\"],[0.1111111111111111,\"#46039f\"],[0.2222222222222222,\"#7201a8\"],[0.3333333333333333,\"#9c179e\"],[0.4444444444444444,\"#bd3786\"],[0.5555555555555556,\"#d8576b\"],[0.6666666666666666,\"#ed7953\"],[0.7777777777777778,\"#fb9f3a\"],[0.8888888888888888,\"#fdca26\"],[1.0,\"#f0f921\"]],\"type\":\"histogram2d\"}],\"histogram\":[{\"marker\":{\"pattern\":{\"fillmode\":\"overlay\",\"size\":10,\"solidity\":0.2}},\"type\":\"histogram\"}],\"mesh3d\":[{\"colorbar\":{\"outlinewidth\":0,\"ticks\":\"\"},\"type\":\"mesh3d\"}],\"parcoords\":[{\"line\":{\"colorbar\":{\"outlinewidth\":0,\"ticks\":\"\"}},\"type\":\"parcoords\"}],\"pie\":[{\"automargin\":true,\"type\":\"pie\"}],\"scatter3d\":[{\"line\":{\"colorbar\":{\"outlinewidth\":0,\"ticks\":\"\"}},\"marker\":{\"colorbar\":{\"outlinewidth\":0,\"ticks\":\"\"}},\"type\":\"scatter3d\"}],\"scattercarpet\":[{\"marker\":{\"colorbar\":{\"outlinewidth\":0,\"ticks\":\"\"}},\"type\":\"scattercarpet\"}],\"scattergeo\":[{\"marker\":{\"colorbar\":{\"outlinewidth\":0,\"ticks\":\"\"}},\"type\":\"scattergeo\"}],\"scattergl\":[{\"marker\":{\"colorbar\":{\"outlinewidth\":0,\"ticks\":\"\"}},\"type\":\"scattergl\"}],\"scattermapbox\":[{\"marker\":{\"colorbar\":{\"outlinewidth\":0,\"ticks\":\"\"}},\"type\":\"scattermapbox\"}],\"scatterpolargl\":[{\"marker\":{\"colorbar\":{\"outlinewidth\":0,\"ticks\":\"\"}},\"type\":\"scatterpolargl\"}],\"scatterpolar\":[{\"marker\":{\"colorbar\":{\"outlinewidth\":0,\"ticks\":\"\"}},\"type\":\"scatterpolar\"}],\"scatter\":[{\"fillpattern\":{\"fillmode\":\"overlay\",\"size\":10,\"solidity\":0.2},\"type\":\"scatter\"}],\"scatterternary\":[{\"marker\":{\"colorbar\":{\"outlinewidth\":0,\"ticks\":\"\"}},\"type\":\"scatterternary\"}],\"surface\":[{\"colorbar\":{\"outlinewidth\":0,\"ticks\":\"\"},\"colorscale\":[[0.0,\"#0d0887\"],[0.1111111111111111,\"#46039f\"],[0.2222222222222222,\"#7201a8\"],[0.3333333333333333,\"#9c179e\"],[0.4444444444444444,\"#bd3786\"],[0.5555555555555556,\"#d8576b\"],[0.6666666666666666,\"#ed7953\"],[0.7777777777777778,\"#fb9f3a\"],[0.8888888888888888,\"#fdca26\"],[1.0,\"#f0f921\"]],\"type\":\"surface\"}],\"table\":[{\"cells\":{\"fill\":{\"color\":\"#EBF0F8\"},\"line\":{\"color\":\"white\"}},\"header\":{\"fill\":{\"color\":\"#C8D4E3\"},\"line\":{\"color\":\"white\"}},\"type\":\"table\"}]},\"layout\":{\"annotationdefaults\":{\"arrowcolor\":\"#2a3f5f\",\"arrowhead\":0,\"arrowwidth\":1},\"autotypenumbers\":\"strict\",\"coloraxis\":{\"colorbar\":{\"outlinewidth\":0,\"ticks\":\"\"}},\"colorscale\":{\"diverging\":[[0,\"#8e0152\"],[0.1,\"#c51b7d\"],[0.2,\"#de77ae\"],[0.3,\"#f1b6da\"],[0.4,\"#fde0ef\"],[0.5,\"#f7f7f7\"],[0.6,\"#e6f5d0\"],[0.7,\"#b8e186\"],[0.8,\"#7fbc41\"],[0.9,\"#4d9221\"],[1,\"#276419\"]],\"sequential\":[[0.0,\"#0d0887\"],[0.1111111111111111,\"#46039f\"],[0.2222222222222222,\"#7201a8\"],[0.3333333333333333,\"#9c179e\"],[0.4444444444444444,\"#bd3786\"],[0.5555555555555556,\"#d8576b\"],[0.6666666666666666,\"#ed7953\"],[0.7777777777777778,\"#fb9f3a\"],[0.8888888888888888,\"#fdca26\"],[1.0,\"#f0f921\"]],\"sequentialminus\":[[0.0,\"#0d0887\"],[0.1111111111111111,\"#46039f\"],[0.2222222222222222,\"#7201a8\"],[0.3333333333333333,\"#9c179e\"],[0.4444444444444444,\"#bd3786\"],[0.5555555555555556,\"#d8576b\"],[0.6666666666666666,\"#ed7953\"],[0.7777777777777778,\"#fb9f3a\"],[0.8888888888888888,\"#fdca26\"],[1.0,\"#f0f921\"]]},\"colorway\":[\"#636efa\",\"#EF553B\",\"#00cc96\",\"#ab63fa\",\"#FFA15A\",\"#19d3f3\",\"#FF6692\",\"#B6E880\",\"#FF97FF\",\"#FECB52\"],\"font\":{\"color\":\"#2a3f5f\"},\"geo\":{\"bgcolor\":\"white\",\"lakecolor\":\"white\",\"landcolor\":\"white\",\"showlakes\":true,\"showland\":true,\"subunitcolor\":\"#C8D4E3\"},\"hoverlabel\":{\"align\":\"left\"},\"hovermode\":\"closest\",\"mapbox\":{\"style\":\"light\"},\"paper_bgcolor\":\"white\",\"plot_bgcolor\":\"white\",\"polar\":{\"angularaxis\":{\"gridcolor\":\"#EBF0F8\",\"linecolor\":\"#EBF0F8\",\"ticks\":\"\"},\"bgcolor\":\"white\",\"radialaxis\":{\"gridcolor\":\"#EBF0F8\",\"linecolor\":\"#EBF0F8\",\"ticks\":\"\"}},\"scene\":{\"xaxis\":{\"backgroundcolor\":\"white\",\"gridcolor\":\"#DFE8F3\",\"gridwidth\":2,\"linecolor\":\"#EBF0F8\",\"showbackground\":true,\"ticks\":\"\",\"zerolinecolor\":\"#EBF0F8\"},\"yaxis\":{\"backgroundcolor\":\"white\",\"gridcolor\":\"#DFE8F3\",\"gridwidth\":2,\"linecolor\":\"#EBF0F8\",\"showbackground\":true,\"ticks\":\"\",\"zerolinecolor\":\"#EBF0F8\"},\"zaxis\":{\"backgroundcolor\":\"white\",\"gridcolor\":\"#DFE8F3\",\"gridwidth\":2,\"linecolor\":\"#EBF0F8\",\"showbackground\":true,\"ticks\":\"\",\"zerolinecolor\":\"#EBF0F8\"}},\"shapedefaults\":{\"line\":{\"color\":\"#2a3f5f\"}},\"ternary\":{\"aaxis\":{\"gridcolor\":\"#DFE8F3\",\"linecolor\":\"#A2B1C6\",\"ticks\":\"\"},\"baxis\":{\"gridcolor\":\"#DFE8F3\",\"linecolor\":\"#A2B1C6\",\"ticks\":\"\"},\"bgcolor\":\"white\",\"caxis\":{\"gridcolor\":\"#DFE8F3\",\"linecolor\":\"#A2B1C6\",\"ticks\":\"\"}},\"title\":{\"x\":0.05},\"xaxis\":{\"automargin\":true,\"gridcolor\":\"#EBF0F8\",\"linecolor\":\"#EBF0F8\",\"ticks\":\"\",\"title\":{\"standoff\":15},\"zerolinecolor\":\"#EBF0F8\",\"zerolinewidth\":2},\"yaxis\":{\"automargin\":true,\"gridcolor\":\"#EBF0F8\",\"linecolor\":\"#EBF0F8\",\"ticks\":\"\",\"title\":{\"standoff\":15},\"zerolinecolor\":\"#EBF0F8\",\"zerolinewidth\":2}}},\"xaxis\":{\"anchor\":\"y\",\"domain\":[0.0,0.26666666666666666],\"tickvals\":[0,1],\"ticktext\":[\"AS Patients\",\"HC Healthy\"],\"range\":[-0.5,1.5],\"showgrid\":false},\"yaxis\":{\"anchor\":\"x\",\"domain\":[0.0,1.0],\"range\":[0,2126.35],\"gridcolor\":\"#F0F0F0\"},\"xaxis2\":{\"anchor\":\"y2\",\"domain\":[0.3666666666666667,0.6333333333333333],\"tickvals\":[0,1],\"ticktext\":[\"AS Patients\",\"HC Healthy\"],\"range\":[-0.5,1.5],\"showgrid\":false},\"yaxis2\":{\"anchor\":\"x2\",\"domain\":[0.0,1.0],\"range\":[0,7.345229020767659],\"gridcolor\":\"#F0F0F0\"},\"xaxis3\":{\"anchor\":\"y3\",\"domain\":[0.7333333333333334,1.0],\"tickvals\":[0,1],\"ticktext\":[\"AS Patients\",\"HC Healthy\"],\"range\":[-0.5,1.5],\"showgrid\":false},\"yaxis3\":{\"anchor\":\"x3\",\"domain\":[0.0,1.0],\"range\":[0,1.1464698040385186],\"gridcolor\":\"#F0F0F0\"},\"annotations\":[{\"font\":{\"size\":16},\"showarrow\":false,\"text\":\"Observed_OTUs\",\"x\":0.13333333333333333,\"xanchor\":\"center\",\"xref\":\"paper\",\"y\":1.0,\"yanchor\":\"bottom\",\"yref\":\"paper\"},{\"font\":{\"size\":16},\"showarrow\":false,\"text\":\"Shannon\",\"x\":0.5,\"xanchor\":\"center\",\"xref\":\"paper\",\"y\":1.0,\"yanchor\":\"bottom\",\"yref\":\"paper\"},{\"font\":{\"size\":16},\"showarrow\":false,\"text\":\"Simpson\",\"x\":0.8666666666666667,\"xanchor\":\"center\",\"xref\":\"paper\",\"y\":1.0,\"yanchor\":\"bottom\",\"yref\":\"paper\"},{\"bgcolor\":\"white\",\"font\":{\"color\":\"black\",\"size\":12},\"showarrow\":false,\"text\":\"p=0.104\",\"x\":0.5,\"xref\":\"x\",\"y\":1913.715,\"yref\":\"y\"},{\"bgcolor\":\"white\",\"font\":{\"color\":\"black\",\"size\":12},\"showarrow\":false,\"text\":\"p=0.022\",\"x\":0.5,\"xref\":\"x2\",\"y\":6.610706118690894,\"yref\":\"y2\"},{\"bgcolor\":\"white\",\"font\":{\"color\":\"black\",\"size\":12},\"showarrow\":false,\"text\":\"p=0.005\",\"x\":0.5,\"xref\":\"x3\",\"y\":1.0318228236346667,\"yref\":\"y3\"}],\"margin\":{\"t\":60,\"b\":20},\"title\":{\"text\":\"\\u003cb\\u003eAlpha Diversity Comparison\\u003c\\u002fb\\u003e\",\"x\":0.5},\"height\":450,\"width\":1000},                        {\"responsive\": true}                    ).then(function(){\n",
       "                            \n",
       "var gd = document.getElementById('02b97a53-050d-4942-b32c-ea81d4d3b2bf');\n",
       "var x = new MutationObserver(function (mutations, observer) {{\n",
       "        var display = window.getComputedStyle(gd).display;\n",
       "        if (!display || display === 'none') {{\n",
       "            console.log([gd, 'removed!']);\n",
       "            Plotly.purge(gd);\n",
       "            observer.disconnect();\n",
       "        }}\n",
       "}});\n",
       "\n",
       "// Listen for the removal of the full notebook cells\n",
       "var notebookContainer = gd.closest('#notebook-container');\n",
       "if (notebookContainer) {{\n",
       "    x.observe(notebookContainer, {childList: true});\n",
       "}}\n",
       "\n",
       "// Listen for the clearing of the current output cell\n",
       "var outputEl = gd.closest('.output');\n",
       "if (outputEl) {{\n",
       "    x.observe(outputEl, {childList: true});\n",
       "}}\n",
       "\n",
       "                        })                };                });            </script>        </div>"
      ]
     },
     "metadata": {},
     "output_type": "display_data"
    }
   ],
   "source": [
    "from plotly.subplots import make_subplots\n",
    "import plotly.graph_objects as go\n",
    "from scipy.stats import mannwhitneyu\n",
    "import numpy as np\n",
    "\n",
    "def plot_alpha_comparison(alpha_df, metrics):\n",
    "    # 创建多子图\n",
    "    fig = make_subplots(\n",
    "        rows=1, \n",
    "        cols=len(metrics), \n",
    "        subplot_titles=metrics,\n",
    "        horizontal_spacing=0.1\n",
    "    )\n",
    "    \n",
    "    # 统一视觉参数\n",
    "    VISUAL_CONFIG = {\n",
    "        'jitter_range': 0.15,  # 缩小抖动范围\n",
    "        'marker_size': 10,\n",
    "        'box_width': 0.3,\n",
    "        'y_expand': 1.15,\n",
    "        'colors': {'AS': '#FF7F0E', 'HC': '#1F77B4'}  # 添加颜色配置\n",
    "    }\n",
    "    \n",
    "    for col_idx, metric in enumerate(metrics, 1):\n",
    "        # 提取当前指标数据\n",
    "        sub_df = alpha_df[['Group', metric]].copy()\n",
    "        sub_df.columns = ['Group', 'Value']\n",
    "        \n",
    "        # 统计检验\n",
    "        as_data = sub_df[sub_df.Group=='AS']['Value']\n",
    "        hc_data = sub_df[sub_df.Group=='HC']['Value']\n",
    "        _, p_value = mannwhitneyu(as_data, hc_data)\n",
    "        \n",
    "        # 坐标定位\n",
    "        group_pos = {'AS': 0, 'HC': 1}\n",
    "        y_max = sub_df['Value'].max() * VISUAL_CONFIG['y_expand']\n",
    "        \n",
    "        # 绘制抖动点（关键修正点：去除多余的列表包装）\n",
    "        for group in ['AS', 'HC']:\n",
    "            group_data = sub_df[sub_df.Group == group]\n",
    "            if len(group_data) > 0:  # 添加空值保护\n",
    "                jitter = np.random.uniform(\n",
    "                    -VISUAL_CONFIG['jitter_range'],\n",
    "                    VISUAL_CONFIG['jitter_range'],\n",
    "                    len(group_data)\n",
    "                )\n",
    "                fig.add_trace(go.Scatter(\n",
    "                    x=group_pos[group] + jitter,  # 直接使用数组，不加列表包装\n",
    "                    y=group_data['Value'],\n",
    "                    mode='markers',\n",
    "                    marker=dict(\n",
    "                        color=VISUAL_CONFIG['colors'][group],\n",
    "                        size=VISUAL_CONFIG['marker_size'],\n",
    "                        opacity=0.8,\n",
    "                        line=dict(width=1, color='black')\n",
    "                    ),\n",
    "                    showlegend=False\n",
    "                ), row=1, col=col_idx)\n",
    "            \n",
    "        # 添加箱线图\n",
    "        fig.add_trace(go.Box(\n",
    "            x=sub_df['Group'].map(group_pos),\n",
    "            y=sub_df['Value'],\n",
    "            boxpoints=False,\n",
    "            line=dict(color='black', width=2),\n",
    "            fillcolor='rgba(0,0,0,0)',  # 完全透明填充\n",
    "            width=VISUAL_CONFIG['box_width'],\n",
    "            showlegend=False\n",
    "        ), row=1, col=col_idx)\n",
    "        \n",
    "        # 显著性标注\n",
    "        fig.add_annotation(\n",
    "            xref=f'x{col_idx}',\n",
    "            yref=f'y{col_idx}',\n",
    "            x=0.5,\n",
    "            y=y_max * 0.9,\n",
    "            text=f'p={p_value:.2e}' if p_value < 0.001 else f'p={p_value:.3f}',\n",
    "            showarrow=False,\n",
    "            font=dict(size=12, color='black'),\n",
    "            bgcolor='white'\n",
    "        )\n",
    "        \n",
    "        # 设置坐标轴\n",
    "        fig.update_layout({\n",
    "            f'xaxis{col_idx}': {\n",
    "                'tickvals': [0, 1],\n",
    "                'ticktext': ['AS Patients', 'HC Healthy'],\n",
    "                'range': [-0.5, 1.5],\n",
    "                'showgrid': False\n",
    "            },\n",
    "            f'yaxis{col_idx}': {\n",
    "                'range': [0, y_max],\n",
    "                'gridcolor': '#F0F0F0'\n",
    "            }\n",
    "        })\n",
    "    \n",
    "    # 全局布局\n",
    "    fig.update_layout(\n",
    "        template=\"plotly_white\",\n",
    "        height=450,\n",
    "        width=1000,\n",
    "        margin=dict(t=60, b=20),\n",
    "        title_text=\"<b>Alpha Diversity Comparison</b>\",\n",
    "        title_x=0.5\n",
    "    )\n",
    "    return fig\n",
    "\n",
    "# 使用示例\n",
    "metrics = ['Observed_OTUs', 'Shannon', 'Simpson']\n",
    "fig = plot_alpha_comparison(alpha_df, metrics)\n",
    "fig.show()"
   ]
  },
  {
   "cell_type": "markdown",
   "id": "5b5586b9-053b-47ce-96d2-e70b3290386a",
   "metadata": {},
   "source": [
    "## $\\beta$ 多样性分析"
   ]
  },
  {
   "cell_type": "code",
   "execution_count": 54,
   "id": "eea81bf8-554e-45dd-bff0-091da0f3a625",
   "metadata": {},
   "outputs": [],
   "source": [
    "from skbio.stats.ordination import pcoa\n",
    "from skbio.diversity import beta_diversity\n",
    "import numpy as np\n",
    "\n",
    "# 数据标准化（相对丰度转换）\n",
    "normalized_data = rarefied_data.div(rarefied_data.sum(axis=0), axis=1)\n",
    "\n",
    "# 转置为样本×特征格式\n",
    "sample_by_otu = normalized_data.T\n",
    "\n",
    "# 计算Bray-Curtis距离矩阵\n",
    "bc_dm = beta_diversity(\n",
    "    metric='braycurtis',\n",
    "    counts=sample_by_otu.values,\n",
    "    ids=sample_by_otu.index\n",
    ")\n",
    "\n",
    "# 转换为DataFrame格式\n",
    "dm_df = pd.DataFrame(\n",
    "    bc_dm.data,\n",
    "    index=sample_by_otu.index,\n",
    "    columns=sample_by_otu.index\n",
    ")\n",
    "sample_by_otu['Group'] = sample_by_otu.index.map(\n",
    "    lambda x: 'AS' if x.startswith('TXAS') else 'HC'\n",
    ")"
   ]
  },
  {
   "cell_type": "code",
   "execution_count": 57,
   "id": "e1f9d501-0605-4cbe-be2f-3bb1a4e9fdba",
   "metadata": {},
   "outputs": [
    {
     "name": "stderr",
     "output_type": "stream",
     "text": [
      "D:\\app_download_rj\\Conda\\Lib\\site-packages\\skbio\\stats\\ordination\\_principal_coordinate_analysis.py:214: RuntimeWarning:\n",
      "\n",
      "The result contains negative eigenvalues that are large in magnitude, which may suggest result inaccuracy. See Notes for details. The negative-most eigenvalue is -0.03539880394355806 whereas the largest positive one is 2.200547885539804.\n",
      "\n"
     ]
    }
   ],
   "source": [
    "# 执行PCoA\n",
    "pcoa_results = pcoa(bc_dm)\n",
    "\n",
    "# 提取主坐标\n",
    "pcoa_df = pd.DataFrame(\n",
    "    pcoa_results.samples.values,\n",
    "    index=sample_by_otu.index,\n",
    "    columns=[f\"PC{i+1}\" for i in range(pcoa_results.samples.shape[1])]\n",
    ")\n",
    "\n",
    "# 合并分组信息\n",
    "pcoa_df = pcoa_df.join(sample_by_otu[['Group']])"
   ]
  },
  {
   "cell_type": "code",
   "execution_count": 58,
   "id": "b400ef04-99d8-4524-910e-3ba0c35a1f0b",
   "metadata": {
    "scrolled": true
   },
   "outputs": [
    {
     "name": "stdout",
     "output_type": "stream",
     "text": [
      "PERMANOVA结果：\n",
      "F-value: 1.059\n",
      "p-value: 0.3460\n",
      "解释度: 51.4%\n"
     ]
    }
   ],
   "source": [
    "from skbio.stats.distance import permanova\n",
    "\n",
    "# 准备分组信息\n",
    "groups = pcoa_df['Group'].values\n",
    "\n",
    "# 执行PERMANOVA检验\n",
    "permanova_result = permanova(\n",
    "    distance_matrix=bc_dm,\n",
    "    grouping=groups,\n",
    "    permutations=999\n",
    ")\n",
    "\n",
    "print(f\"PERMANOVA结果：\\n\"\n",
    "      f\"F-value: {permanova_result['test statistic']:.3f}\\n\"\n",
    "      f\"p-value: {permanova_result['p-value']:.4f}\\n\"\n",
    "      f\"解释度: {permanova_result['test statistic']/(permanova_result['test statistic']+1):.1%}\")"
   ]
  },
  {
   "cell_type": "code",
   "execution_count": 59,
   "id": "f7c00fcb-edb6-4f43-8bfb-d1fa22260b1f",
   "metadata": {
    "scrolled": true
   },
   "outputs": [
    {
     "name": "stderr",
     "output_type": "stream",
     "text": [
      "C:\\Users\\Jun Rao\\AppData\\Local\\Temp\\ipykernel_2820\\957288408.py:46: FutureWarning:\n",
      "\n",
      "Series.__getitem__ treating keys as positions is deprecated. In a future version, integer keys will always be treated as labels (consistent with DataFrame behavior). To access a value by position, use `ser.iloc[pos]`\n",
      "\n",
      "C:\\Users\\Jun Rao\\AppData\\Local\\Temp\\ipykernel_2820\\957288408.py:47: FutureWarning:\n",
      "\n",
      "Series.__getitem__ treating keys as positions is deprecated. In a future version, integer keys will always be treated as labels (consistent with DataFrame behavior). To access a value by position, use `ser.iloc[pos]`\n",
      "\n",
      "C:\\Users\\Jun Rao\\AppData\\Local\\Temp\\ipykernel_2820\\957288408.py:48: FutureWarning:\n",
      "\n",
      "Series.__getitem__ treating keys as positions is deprecated. In a future version, integer keys will always be treated as labels (consistent with DataFrame behavior). To access a value by position, use `ser.iloc[pos]`\n",
      "\n"
     ]
    },
    {
     "data": {
      "application/vnd.plotly.v1+json": {
       "config": {
        "plotlyServerURL": "https://plot.ly"
       },
       "data": [
        {
         "marker": {
          "color": "#FF7F0E",
          "line": {
           "color": "black",
           "width": 1
          },
          "opacity": 0.8,
          "size": 8
         },
         "mode": "markers+text",
         "name": "AS",
         "text": [
          "TXAS01",
          "TXAS02",
          "TXAS06",
          "TXAS09",
          "TXAS10",
          "TXAS11",
          "TXAS12",
          "TXAS14",
          "TXAS15",
          "TXAS18",
          "TXAS20",
          "TXAS21",
          "TXAS24",
          "TXAS25",
          "TXAS29",
          "TXAS30",
          "TXAS31",
          "TXAS33",
          "TXAS35",
          "TXAS39",
          "TXAS42",
          "TXAS44",
          "TXAS46",
          "TXAS47",
          "TXAS48",
          "TXAS50",
          "TXAS51",
          "TXAS52",
          "TXAS53"
         ],
         "textposition": "top center",
         "type": "scatter3d",
         "x": [
          -0.34192136633432396,
          -0.3722374452970102,
          -0.41786304995294804,
          0.16988168422715808,
          -0.3855587691435986,
          0.13622676807457318,
          -0.1792769701649589,
          -0.3584023052603719,
          0.1697485543338154,
          0.07189083745601062,
          0.1326881884211176,
          -0.19107532388357729,
          0.28122789756163963,
          0.31378634665874916,
          0.0594363204320716,
          -0.00872066628138625,
          -0.2883782793256054,
          -0.008433487339096006,
          0.2876989232518396,
          -0.08379916952882378,
          -0.07151991819117655,
          0.032785037874937695,
          0.23695539536201018,
          -0.09874274378041124,
          0.10010065062910499,
          0.24496983983172507,
          0.2199954719448232,
          0.06618291812630044,
          0.17897190809401145
         ],
         "y": [
          0.11441770924457999,
          0.06543199881411917,
          0.0631864265590338,
          0.23385964631944167,
          0.06858541950353529,
          0.2255980529277164,
          -0.0954919555920452,
          0.11995612978893384,
          -0.34092199786879485,
          0.1689463919746333,
          -0.08362411520518559,
          0.004040488057184758,
          0.1580489363977905,
          0.25945693574510437,
          -0.20095425931816505,
          -0.2588655367526018,
          0.003460247788569723,
          0.17388052730048892,
          0.1803357138234428,
          0.06486698734350882,
          -0.19117370640044087,
          0.058459053003456475,
          0.05710243816778932,
          -0.0797269043503672,
          0.0757598826638102,
          -0.3663574421893926,
          -0.13754749763252314,
          -0.13710915618572714,
          0.1168043426869975
         ],
         "z": [
          -0.10899350676437607,
          -0.08403754184121526,
          -0.1408635165181158,
          -0.3056191230463474,
          -0.1012016585449212,
          -0.3249678387243924,
          -0.15533325236258963,
          -0.11696940424106521,
          -0.34541966003381175,
          0.1432847398742748,
          0.2132088647583406,
          0.09248738318623093,
          -0.10329100845212298,
          -0.2053232113912871,
          -0.05649575011407059,
          -0.038100837837475025,
          -0.007091756998539405,
          0.12294917434760899,
          -0.1587581065729384,
          0.0968723297889962,
          0.006183661924282264,
          0.04616295970795858,
          0.14529267244872904,
          0.11464831772619306,
          0.23200510670950641,
          -0.28572887001123887,
          0.09608453964001806,
          0.17616494342166075,
          0.16139697829830366
         ]
        },
        {
         "marker": {
          "color": "#1F77B4",
          "line": {
           "color": "black",
           "width": 1
          },
          "opacity": 0.8,
          "size": 8
         },
         "mode": "markers+text",
         "name": "HC",
         "text": [
          "TXHC02",
          "TXHC03",
          "TXHC04",
          "TXHC05",
          "TXHC06",
          "TXHC08",
          "TXHC10",
          "TXHC12",
          "TXHC13",
          "TXHC15",
          "TXHC16",
          "TXHC17",
          "TXHC18",
          "TXHC19",
          "TXHC20",
          "TXHC21",
          "TXHC22",
          "TXHC23",
          "TXHC24",
          "TXHC25",
          "TXHC26",
          "TXHC27",
          "TXHC28",
          "TXHC29",
          "TXHC30",
          "TXHC31",
          "TXHC32",
          "TXHC33",
          "TXHC35"
         ],
         "textposition": "top center",
         "type": "scatter3d",
         "x": [
          0.20191606830873254,
          -0.12836624224541174,
          0.07011328791677202,
          0.038093781785623046,
          -0.061854805578212005,
          -0.42314004729187016,
          -0.15122131151318705,
          -0.3458569015554102,
          -0.06418324411644447,
          -0.0008721285806214926,
          0.1029678921106972,
          -0.06700727499486515,
          0.09599407714261544,
          -0.17861648677300704,
          0.039739446264807826,
          0.2820751543276863,
          -0.11848611390438027,
          0.1381691978918582,
          0.12841482640113588,
          0.10150110907215244,
          -0.16956143526978087,
          0.2654908662460624,
          0.00790548862636255,
          0.1399196953944824,
          -0.039504249646155835,
          0.0912016715198204,
          0.08050019395118035,
          -0.05726125860847924,
          0.12531149532123845
         ],
         "y": [
          0.2720490714470237,
          0.13619101245582224,
          0.19766969324848702,
          0.07366756288004078,
          0.16197657109497315,
          0.10348086091089868,
          0.219284869971659,
          -0.011291990208677983,
          0.2016698363722558,
          -0.02283317959861509,
          -0.4301903945335546,
          -0.13823901967728539,
          0.023377229716466226,
          -0.0825523500095861,
          -0.315321516964513,
          0.08688704645242624,
          -0.2980834583525332,
          0.042548063991955154,
          0.10635559636189379,
          0.009456490587275124,
          -0.20071570850644269,
          0.1538851669485778,
          0.11064117521176342,
          -0.13718498435916238,
          -0.07534948859007763,
          -0.16789605831942214,
          -0.4712415155974274,
          -0.011712099902579666,
          0.14304676035346253
         ],
         "z": [
          -0.14587227024114383,
          0.081054647400788,
          0.07732034289910018,
          0.1418099830886604,
          0.12653871946223516,
          -0.10224955791480936,
          -0.02473604470882276,
          -0.11687517782418463,
          0.04967681452934906,
          0.13073497056167552,
          -0.0796303680045597,
          0.11830069060891463,
          0.1414573191408961,
          0.06314715866788324,
          0.061042274975717264,
          0.16910969379184027,
          -0.035672407639730626,
          0.19892669687930842,
          0.09310936333682149,
          0.02707265486213541,
          -0.09347172893316415,
          -0.5069759964230928,
          0.17078408309548598,
          0.0955645894523839,
          0.12871429054717512,
          0.13442522734041798,
          -0.0957426929278719,
          0.15355620080430202,
          -0.06966610520530613
         ]
        }
       ],
       "layout": {
        "annotations": [
         {
          "bgcolor": "white",
          "font": {
           "color": "black",
           "size": 12
          },
          "showarrow": false,
          "text": "PERMANOVA p=0.346",
          "x": 0.05,
          "xref": "paper",
          "y": 0.95,
          "yref": "paper"
         }
        ],
        "height": 800,
        "legend": {
         "bgcolor": "rgba(255,255,255,0.9)",
         "x": 0.8,
         "y": 0.9
        },
        "margin": {
         "b": 0,
         "l": 0,
         "r": 0,
         "t": 40
        },
        "scene": {
         "aspectmode": "auto",
         "aspectratio": {
          "x": 0.9962127271052993,
          "y": 1.0048161510155789,
          "z": 0.9989903823153604
         },
         "camera": {
          "center": {
           "x": 0,
           "y": 0,
           "z": 0
          },
          "eye": {
           "x": -4.4286135286891195,
           "y": -5.78834034992753,
           "z": 1.3851402724490747
          },
          "projection": {
           "type": "perspective"
          },
          "up": {
           "x": 0,
           "y": 0,
           "z": 1
          }
         },
         "xaxis": {
          "title": {
           "text": "PC1 (14.5%)"
          },
          "type": "linear"
         },
         "yaxis": {
          "title": {
           "text": "PC2 (12.3%)"
          },
          "type": "linear"
         },
         "zaxis": {
          "title": {
           "text": "PC3 (9.5%)"
          },
          "type": "linear"
         }
        },
        "template": {
         "data": {
          "bar": [
           {
            "error_x": {
             "color": "#2a3f5f"
            },
            "error_y": {
             "color": "#2a3f5f"
            },
            "marker": {
             "line": {
              "color": "#E5ECF6",
              "width": 0.5
             },
             "pattern": {
              "fillmode": "overlay",
              "size": 10,
              "solidity": 0.2
             }
            },
            "type": "bar"
           }
          ],
          "barpolar": [
           {
            "marker": {
             "line": {
              "color": "#E5ECF6",
              "width": 0.5
             },
             "pattern": {
              "fillmode": "overlay",
              "size": 10,
              "solidity": 0.2
             }
            },
            "type": "barpolar"
           }
          ],
          "carpet": [
           {
            "aaxis": {
             "endlinecolor": "#2a3f5f",
             "gridcolor": "white",
             "linecolor": "white",
             "minorgridcolor": "white",
             "startlinecolor": "#2a3f5f"
            },
            "baxis": {
             "endlinecolor": "#2a3f5f",
             "gridcolor": "white",
             "linecolor": "white",
             "minorgridcolor": "white",
             "startlinecolor": "#2a3f5f"
            },
            "type": "carpet"
           }
          ],
          "choropleth": [
           {
            "colorbar": {
             "outlinewidth": 0,
             "ticks": ""
            },
            "type": "choropleth"
           }
          ],
          "contour": [
           {
            "colorbar": {
             "outlinewidth": 0,
             "ticks": ""
            },
            "colorscale": [
             [
              0,
              "#0d0887"
             ],
             [
              0.1111111111111111,
              "#46039f"
             ],
             [
              0.2222222222222222,
              "#7201a8"
             ],
             [
              0.3333333333333333,
              "#9c179e"
             ],
             [
              0.4444444444444444,
              "#bd3786"
             ],
             [
              0.5555555555555556,
              "#d8576b"
             ],
             [
              0.6666666666666666,
              "#ed7953"
             ],
             [
              0.7777777777777778,
              "#fb9f3a"
             ],
             [
              0.8888888888888888,
              "#fdca26"
             ],
             [
              1,
              "#f0f921"
             ]
            ],
            "type": "contour"
           }
          ],
          "contourcarpet": [
           {
            "colorbar": {
             "outlinewidth": 0,
             "ticks": ""
            },
            "type": "contourcarpet"
           }
          ],
          "heatmap": [
           {
            "colorbar": {
             "outlinewidth": 0,
             "ticks": ""
            },
            "colorscale": [
             [
              0,
              "#0d0887"
             ],
             [
              0.1111111111111111,
              "#46039f"
             ],
             [
              0.2222222222222222,
              "#7201a8"
             ],
             [
              0.3333333333333333,
              "#9c179e"
             ],
             [
              0.4444444444444444,
              "#bd3786"
             ],
             [
              0.5555555555555556,
              "#d8576b"
             ],
             [
              0.6666666666666666,
              "#ed7953"
             ],
             [
              0.7777777777777778,
              "#fb9f3a"
             ],
             [
              0.8888888888888888,
              "#fdca26"
             ],
             [
              1,
              "#f0f921"
             ]
            ],
            "type": "heatmap"
           }
          ],
          "heatmapgl": [
           {
            "colorbar": {
             "outlinewidth": 0,
             "ticks": ""
            },
            "colorscale": [
             [
              0,
              "#0d0887"
             ],
             [
              0.1111111111111111,
              "#46039f"
             ],
             [
              0.2222222222222222,
              "#7201a8"
             ],
             [
              0.3333333333333333,
              "#9c179e"
             ],
             [
              0.4444444444444444,
              "#bd3786"
             ],
             [
              0.5555555555555556,
              "#d8576b"
             ],
             [
              0.6666666666666666,
              "#ed7953"
             ],
             [
              0.7777777777777778,
              "#fb9f3a"
             ],
             [
              0.8888888888888888,
              "#fdca26"
             ],
             [
              1,
              "#f0f921"
             ]
            ],
            "type": "heatmapgl"
           }
          ],
          "histogram": [
           {
            "marker": {
             "pattern": {
              "fillmode": "overlay",
              "size": 10,
              "solidity": 0.2
             }
            },
            "type": "histogram"
           }
          ],
          "histogram2d": [
           {
            "colorbar": {
             "outlinewidth": 0,
             "ticks": ""
            },
            "colorscale": [
             [
              0,
              "#0d0887"
             ],
             [
              0.1111111111111111,
              "#46039f"
             ],
             [
              0.2222222222222222,
              "#7201a8"
             ],
             [
              0.3333333333333333,
              "#9c179e"
             ],
             [
              0.4444444444444444,
              "#bd3786"
             ],
             [
              0.5555555555555556,
              "#d8576b"
             ],
             [
              0.6666666666666666,
              "#ed7953"
             ],
             [
              0.7777777777777778,
              "#fb9f3a"
             ],
             [
              0.8888888888888888,
              "#fdca26"
             ],
             [
              1,
              "#f0f921"
             ]
            ],
            "type": "histogram2d"
           }
          ],
          "histogram2dcontour": [
           {
            "colorbar": {
             "outlinewidth": 0,
             "ticks": ""
            },
            "colorscale": [
             [
              0,
              "#0d0887"
             ],
             [
              0.1111111111111111,
              "#46039f"
             ],
             [
              0.2222222222222222,
              "#7201a8"
             ],
             [
              0.3333333333333333,
              "#9c179e"
             ],
             [
              0.4444444444444444,
              "#bd3786"
             ],
             [
              0.5555555555555556,
              "#d8576b"
             ],
             [
              0.6666666666666666,
              "#ed7953"
             ],
             [
              0.7777777777777778,
              "#fb9f3a"
             ],
             [
              0.8888888888888888,
              "#fdca26"
             ],
             [
              1,
              "#f0f921"
             ]
            ],
            "type": "histogram2dcontour"
           }
          ],
          "mesh3d": [
           {
            "colorbar": {
             "outlinewidth": 0,
             "ticks": ""
            },
            "type": "mesh3d"
           }
          ],
          "parcoords": [
           {
            "line": {
             "colorbar": {
              "outlinewidth": 0,
              "ticks": ""
             }
            },
            "type": "parcoords"
           }
          ],
          "pie": [
           {
            "automargin": true,
            "type": "pie"
           }
          ],
          "scatter": [
           {
            "fillpattern": {
             "fillmode": "overlay",
             "size": 10,
             "solidity": 0.2
            },
            "type": "scatter"
           }
          ],
          "scatter3d": [
           {
            "line": {
             "colorbar": {
              "outlinewidth": 0,
              "ticks": ""
             }
            },
            "marker": {
             "colorbar": {
              "outlinewidth": 0,
              "ticks": ""
             }
            },
            "type": "scatter3d"
           }
          ],
          "scattercarpet": [
           {
            "marker": {
             "colorbar": {
              "outlinewidth": 0,
              "ticks": ""
             }
            },
            "type": "scattercarpet"
           }
          ],
          "scattergeo": [
           {
            "marker": {
             "colorbar": {
              "outlinewidth": 0,
              "ticks": ""
             }
            },
            "type": "scattergeo"
           }
          ],
          "scattergl": [
           {
            "marker": {
             "colorbar": {
              "outlinewidth": 0,
              "ticks": ""
             }
            },
            "type": "scattergl"
           }
          ],
          "scattermapbox": [
           {
            "marker": {
             "colorbar": {
              "outlinewidth": 0,
              "ticks": ""
             }
            },
            "type": "scattermapbox"
           }
          ],
          "scatterpolar": [
           {
            "marker": {
             "colorbar": {
              "outlinewidth": 0,
              "ticks": ""
             }
            },
            "type": "scatterpolar"
           }
          ],
          "scatterpolargl": [
           {
            "marker": {
             "colorbar": {
              "outlinewidth": 0,
              "ticks": ""
             }
            },
            "type": "scatterpolargl"
           }
          ],
          "scatterternary": [
           {
            "marker": {
             "colorbar": {
              "outlinewidth": 0,
              "ticks": ""
             }
            },
            "type": "scatterternary"
           }
          ],
          "surface": [
           {
            "colorbar": {
             "outlinewidth": 0,
             "ticks": ""
            },
            "colorscale": [
             [
              0,
              "#0d0887"
             ],
             [
              0.1111111111111111,
              "#46039f"
             ],
             [
              0.2222222222222222,
              "#7201a8"
             ],
             [
              0.3333333333333333,
              "#9c179e"
             ],
             [
              0.4444444444444444,
              "#bd3786"
             ],
             [
              0.5555555555555556,
              "#d8576b"
             ],
             [
              0.6666666666666666,
              "#ed7953"
             ],
             [
              0.7777777777777778,
              "#fb9f3a"
             ],
             [
              0.8888888888888888,
              "#fdca26"
             ],
             [
              1,
              "#f0f921"
             ]
            ],
            "type": "surface"
           }
          ],
          "table": [
           {
            "cells": {
             "fill": {
              "color": "#EBF0F8"
             },
             "line": {
              "color": "white"
             }
            },
            "header": {
             "fill": {
              "color": "#C8D4E3"
             },
             "line": {
              "color": "white"
             }
            },
            "type": "table"
           }
          ]
         },
         "layout": {
          "annotationdefaults": {
           "arrowcolor": "#2a3f5f",
           "arrowhead": 0,
           "arrowwidth": 1
          },
          "autotypenumbers": "strict",
          "coloraxis": {
           "colorbar": {
            "outlinewidth": 0,
            "ticks": ""
           }
          },
          "colorscale": {
           "diverging": [
            [
             0,
             "#8e0152"
            ],
            [
             0.1,
             "#c51b7d"
            ],
            [
             0.2,
             "#de77ae"
            ],
            [
             0.3,
             "#f1b6da"
            ],
            [
             0.4,
             "#fde0ef"
            ],
            [
             0.5,
             "#f7f7f7"
            ],
            [
             0.6,
             "#e6f5d0"
            ],
            [
             0.7,
             "#b8e186"
            ],
            [
             0.8,
             "#7fbc41"
            ],
            [
             0.9,
             "#4d9221"
            ],
            [
             1,
             "#276419"
            ]
           ],
           "sequential": [
            [
             0,
             "#0d0887"
            ],
            [
             0.1111111111111111,
             "#46039f"
            ],
            [
             0.2222222222222222,
             "#7201a8"
            ],
            [
             0.3333333333333333,
             "#9c179e"
            ],
            [
             0.4444444444444444,
             "#bd3786"
            ],
            [
             0.5555555555555556,
             "#d8576b"
            ],
            [
             0.6666666666666666,
             "#ed7953"
            ],
            [
             0.7777777777777778,
             "#fb9f3a"
            ],
            [
             0.8888888888888888,
             "#fdca26"
            ],
            [
             1,
             "#f0f921"
            ]
           ],
           "sequentialminus": [
            [
             0,
             "#0d0887"
            ],
            [
             0.1111111111111111,
             "#46039f"
            ],
            [
             0.2222222222222222,
             "#7201a8"
            ],
            [
             0.3333333333333333,
             "#9c179e"
            ],
            [
             0.4444444444444444,
             "#bd3786"
            ],
            [
             0.5555555555555556,
             "#d8576b"
            ],
            [
             0.6666666666666666,
             "#ed7953"
            ],
            [
             0.7777777777777778,
             "#fb9f3a"
            ],
            [
             0.8888888888888888,
             "#fdca26"
            ],
            [
             1,
             "#f0f921"
            ]
           ]
          },
          "colorway": [
           "#636efa",
           "#EF553B",
           "#00cc96",
           "#ab63fa",
           "#FFA15A",
           "#19d3f3",
           "#FF6692",
           "#B6E880",
           "#FF97FF",
           "#FECB52"
          ],
          "font": {
           "color": "#2a3f5f"
          },
          "geo": {
           "bgcolor": "white",
           "lakecolor": "white",
           "landcolor": "#E5ECF6",
           "showlakes": true,
           "showland": true,
           "subunitcolor": "white"
          },
          "hoverlabel": {
           "align": "left"
          },
          "hovermode": "closest",
          "mapbox": {
           "style": "light"
          },
          "paper_bgcolor": "white",
          "plot_bgcolor": "#E5ECF6",
          "polar": {
           "angularaxis": {
            "gridcolor": "white",
            "linecolor": "white",
            "ticks": ""
           },
           "bgcolor": "#E5ECF6",
           "radialaxis": {
            "gridcolor": "white",
            "linecolor": "white",
            "ticks": ""
           }
          },
          "scene": {
           "xaxis": {
            "backgroundcolor": "#E5ECF6",
            "gridcolor": "white",
            "gridwidth": 2,
            "linecolor": "white",
            "showbackground": true,
            "ticks": "",
            "zerolinecolor": "white"
           },
           "yaxis": {
            "backgroundcolor": "#E5ECF6",
            "gridcolor": "white",
            "gridwidth": 2,
            "linecolor": "white",
            "showbackground": true,
            "ticks": "",
            "zerolinecolor": "white"
           },
           "zaxis": {
            "backgroundcolor": "#E5ECF6",
            "gridcolor": "white",
            "gridwidth": 2,
            "linecolor": "white",
            "showbackground": true,
            "ticks": "",
            "zerolinecolor": "white"
           }
          },
          "shapedefaults": {
           "line": {
            "color": "#2a3f5f"
           }
          },
          "ternary": {
           "aaxis": {
            "gridcolor": "white",
            "linecolor": "white",
            "ticks": ""
           },
           "baxis": {
            "gridcolor": "white",
            "linecolor": "white",
            "ticks": ""
           },
           "bgcolor": "#E5ECF6",
           "caxis": {
            "gridcolor": "white",
            "linecolor": "white",
            "ticks": ""
           }
          },
          "title": {
           "x": 0.05
          },
          "xaxis": {
           "automargin": true,
           "gridcolor": "white",
           "linecolor": "white",
           "ticks": "",
           "title": {
            "standoff": 15
           },
           "zerolinecolor": "white",
           "zerolinewidth": 2
          },
          "yaxis": {
           "automargin": true,
           "gridcolor": "white",
           "linecolor": "white",
           "ticks": "",
           "title": {
            "standoff": 15
           },
           "zerolinecolor": "white",
           "zerolinewidth": 2
          }
         }
        },
        "title": {
         "text": "<b>Beta Diversity PCoA Analysis (Bray-Curtis)</b>"
        },
        "width": 1000
       }
      },
      "image/png": "[encoded data removed]",
      "text/html": [
       "<div>                            <div id=\"1582c455-6997-4945-ae87-bcaac9e9de04\" class=\"plotly-graph-div\" style=\"height:800px; width:1000px;\"></div>            <script type=\"text/javascript\">                require([\"plotly\"], function(Plotly) {                    window.PLOTLYENV=window.PLOTLYENV || {};                                    if (document.getElementById(\"1582c455-6997-4945-ae87-bcaac9e9de04\")) {                    Plotly.newPlot(                        \"1582c455-6997-4945-ae87-bcaac9e9de04\",                        [{\"marker\":{\"color\":\"#FF7F0E\",\"line\":{\"color\":\"black\",\"width\":1},\"opacity\":0.8,\"size\":8},\"mode\":\"markers+text\",\"name\":\"AS\",\"text\":[\"TXAS01\",\"TXAS02\",\"TXAS06\",\"TXAS09\",\"TXAS10\",\"TXAS11\",\"TXAS12\",\"TXAS14\",\"TXAS15\",\"TXAS18\",\"TXAS20\",\"TXAS21\",\"TXAS24\",\"TXAS25\",\"TXAS29\",\"TXAS30\",\"TXAS31\",\"TXAS33\",\"TXAS35\",\"TXAS39\",\"TXAS42\",\"TXAS44\",\"TXAS46\",\"TXAS47\",\"TXAS48\",\"TXAS50\",\"TXAS51\",\"TXAS52\",\"TXAS53\"],\"textposition\":\"top center\",\"x\":[-0.34192136633432396,-0.3722374452970102,-0.41786304995294804,0.16988168422715808,-0.3855587691435986,0.13622676807457318,-0.1792769701649589,-0.3584023052603719,0.1697485543338154,0.07189083745601062,0.1326881884211176,-0.19107532388357729,0.28122789756163963,0.31378634665874916,0.0594363204320716,-0.00872066628138625,-0.2883782793256054,-0.008433487339096006,0.2876989232518396,-0.08379916952882378,-0.07151991819117655,0.032785037874937695,0.23695539536201018,-0.09874274378041124,0.10010065062910499,0.24496983983172507,0.2199954719448232,0.06618291812630044,0.17897190809401145],\"y\":[0.11441770924457999,0.06543199881411917,0.0631864265590338,0.23385964631944167,0.06858541950353529,0.2255980529277164,-0.0954919555920452,0.11995612978893384,-0.34092199786879485,0.1689463919746333,-0.08362411520518559,0.004040488057184758,0.1580489363977905,0.25945693574510437,-0.20095425931816505,-0.2588655367526018,0.003460247788569723,0.17388052730048892,0.1803357138234428,0.06486698734350882,-0.19117370640044087,0.058459053003456475,0.05710243816778932,-0.0797269043503672,0.0757598826638102,-0.3663574421893926,-0.13754749763252314,-0.13710915618572714,0.1168043426869975],\"z\":[-0.10899350676437607,-0.08403754184121526,-0.1408635165181158,-0.3056191230463474,-0.1012016585449212,-0.3249678387243924,-0.15533325236258963,-0.11696940424106521,-0.34541966003381175,0.1432847398742748,0.2132088647583406,0.09248738318623093,-0.10329100845212298,-0.2053232113912871,-0.05649575011407059,-0.038100837837475025,-0.007091756998539405,0.12294917434760899,-0.1587581065729384,0.0968723297889962,0.006183661924282264,0.04616295970795858,0.14529267244872904,0.11464831772619306,0.23200510670950641,-0.28572887001123887,0.09608453964001806,0.17616494342166075,0.16139697829830366],\"type\":\"scatter3d\"},{\"marker\":{\"color\":\"#1F77B4\",\"line\":{\"color\":\"black\",\"width\":1},\"opacity\":0.8,\"size\":8},\"mode\":\"markers+text\",\"name\":\"HC\",\"text\":[\"TXHC02\",\"TXHC03\",\"TXHC04\",\"TXHC05\",\"TXHC06\",\"TXHC08\",\"TXHC10\",\"TXHC12\",\"TXHC13\",\"TXHC15\",\"TXHC16\",\"TXHC17\",\"TXHC18\",\"TXHC19\",\"TXHC20\",\"TXHC21\",\"TXHC22\",\"TXHC23\",\"TXHC24\",\"TXHC25\",\"TXHC26\",\"TXHC27\",\"TXHC28\",\"TXHC29\",\"TXHC30\",\"TXHC31\",\"TXHC32\",\"TXHC33\",\"TXHC35\"],\"textposition\":\"top center\",\"x\":[0.20191606830873254,-0.12836624224541174,0.07011328791677202,0.038093781785623046,-0.061854805578212005,-0.42314004729187016,-0.15122131151318705,-0.3458569015554102,-0.06418324411644447,-0.0008721285806214926,0.1029678921106972,-0.06700727499486515,0.09599407714261544,-0.17861648677300704,0.039739446264807826,0.2820751543276863,-0.11848611390438027,0.1381691978918582,0.12841482640113588,0.10150110907215244,-0.16956143526978087,0.2654908662460624,0.00790548862636255,0.1399196953944824,-0.039504249646155835,0.0912016715198204,0.08050019395118035,-0.05726125860847924,0.12531149532123845],\"y\":[0.2720490714470237,0.13619101245582224,0.19766969324848702,0.07366756288004078,0.16197657109497315,0.10348086091089868,0.219284869971659,-0.011291990208677983,0.2016698363722558,-0.02283317959861509,-0.4301903945335546,-0.13823901967728539,0.023377229716466226,-0.0825523500095861,-0.315321516964513,0.08688704645242624,-0.2980834583525332,0.042548063991955154,0.10635559636189379,0.009456490587275124,-0.20071570850644269,0.1538851669485778,0.11064117521176342,-0.13718498435916238,-0.07534948859007763,-0.16789605831942214,-0.4712415155974274,-0.011712099902579666,0.14304676035346253],\"z\":[-0.14587227024114383,0.081054647400788,0.07732034289910018,0.1418099830886604,0.12653871946223516,-0.10224955791480936,-0.02473604470882276,-0.11687517782418463,0.04967681452934906,0.13073497056167552,-0.0796303680045597,0.11830069060891463,0.1414573191408961,0.06314715866788324,0.061042274975717264,0.16910969379184027,-0.035672407639730626,0.19892669687930842,0.09310936333682149,0.02707265486213541,-0.09347172893316415,-0.5069759964230928,0.17078408309548598,0.0955645894523839,0.12871429054717512,0.13442522734041798,-0.0957426929278719,0.15355620080430202,-0.06966610520530613],\"type\":\"scatter3d\"}],                        {\"template\":{\"data\":{\"histogram2dcontour\":[{\"type\":\"histogram2dcontour\",\"colorbar\":{\"outlinewidth\":0,\"ticks\":\"\"},\"colorscale\":[[0.0,\"#0d0887\"],[0.1111111111111111,\"#46039f\"],[0.2222222222222222,\"#7201a8\"],[0.3333333333333333,\"#9c179e\"],[0.4444444444444444,\"#bd3786\"],[0.5555555555555556,\"#d8576b\"],[0.6666666666666666,\"#ed7953\"],[0.7777777777777778,\"#fb9f3a\"],[0.8888888888888888,\"#fdca26\"],[1.0,\"#f0f921\"]]}],\"choropleth\":[{\"type\":\"choropleth\",\"colorbar\":{\"outlinewidth\":0,\"ticks\":\"\"}}],\"histogram2d\":[{\"type\":\"histogram2d\",\"colorbar\":{\"outlinewidth\":0,\"ticks\":\"\"},\"colorscale\":[[0.0,\"#0d0887\"],[0.1111111111111111,\"#46039f\"],[0.2222222222222222,\"#7201a8\"],[0.3333333333333333,\"#9c179e\"],[0.4444444444444444,\"#bd3786\"],[0.5555555555555556,\"#d8576b\"],[0.6666666666666666,\"#ed7953\"],[0.7777777777777778,\"#fb9f3a\"],[0.8888888888888888,\"#fdca26\"],[1.0,\"#f0f921\"]]}],\"heatmap\":[{\"type\":\"heatmap\",\"colorbar\":{\"outlinewidth\":0,\"ticks\":\"\"},\"colorscale\":[[0.0,\"#0d0887\"],[0.1111111111111111,\"#46039f\"],[0.2222222222222222,\"#7201a8\"],[0.3333333333333333,\"#9c179e\"],[0.4444444444444444,\"#bd3786\"],[0.5555555555555556,\"#d8576b\"],[0.6666666666666666,\"#ed7953\"],[0.7777777777777778,\"#fb9f3a\"],[0.8888888888888888,\"#fdca26\"],[1.0,\"#f0f921\"]]}],\"heatmapgl\":[{\"type\":\"heatmapgl\",\"colorbar\":{\"outlinewidth\":0,\"ticks\":\"\"},\"colorscale\":[[0.0,\"#0d0887\"],[0.1111111111111111,\"#46039f\"],[0.2222222222222222,\"#7201a8\"],[0.3333333333333333,\"#9c179e\"],[0.4444444444444444,\"#bd3786\"],[0.5555555555555556,\"#d8576b\"],[0.6666666666666666,\"#ed7953\"],[0.7777777777777778,\"#fb9f3a\"],[0.8888888888888888,\"#fdca26\"],[1.0,\"#f0f921\"]]}],\"contourcarpet\":[{\"type\":\"contourcarpet\",\"colorbar\":{\"outlinewidth\":0,\"ticks\":\"\"}}],\"contour\":[{\"type\":\"contour\",\"colorbar\":{\"outlinewidth\":0,\"ticks\":\"\"},\"colorscale\":[[0.0,\"#0d0887\"],[0.1111111111111111,\"#46039f\"],[0.2222222222222222,\"#7201a8\"],[0.3333333333333333,\"#9c179e\"],[0.4444444444444444,\"#bd3786\"],[0.5555555555555556,\"#d8576b\"],[0.6666666666666666,\"#ed7953\"],[0.7777777777777778,\"#fb9f3a\"],[0.8888888888888888,\"#fdca26\"],[1.0,\"#f0f921\"]]}],\"surface\":[{\"type\":\"surface\",\"colorbar\":{\"outlinewidth\":0,\"ticks\":\"\"},\"colorscale\":[[0.0,\"#0d0887\"],[0.1111111111111111,\"#46039f\"],[0.2222222222222222,\"#7201a8\"],[0.3333333333333333,\"#9c179e\"],[0.4444444444444444,\"#bd3786\"],[0.5555555555555556,\"#d8576b\"],[0.6666666666666666,\"#ed7953\"],[0.7777777777777778,\"#fb9f3a\"],[0.8888888888888888,\"#fdca26\"],[1.0,\"#f0f921\"]]}],\"mesh3d\":[{\"type\":\"mesh3d\",\"colorbar\":{\"outlinewidth\":0,\"ticks\":\"\"}}],\"scatter\":[{\"fillpattern\":{\"fillmode\":\"overlay\",\"size\":10,\"solidity\":0.2},\"type\":\"scatter\"}],\"parcoords\":[{\"type\":\"parcoords\",\"line\":{\"colorbar\":{\"outlinewidth\":0,\"ticks\":\"\"}}}],\"scatterpolargl\":[{\"type\":\"scatterpolargl\",\"marker\":{\"colorbar\":{\"outlinewidth\":0,\"ticks\":\"\"}}}],\"bar\":[{\"error_x\":{\"color\":\"#2a3f5f\"},\"error_y\":{\"color\":\"#2a3f5f\"},\"marker\":{\"line\":{\"color\":\"#E5ECF6\",\"width\":0.5},\"pattern\":{\"fillmode\":\"overlay\",\"size\":10,\"solidity\":0.2}},\"type\":\"bar\"}],\"scattergeo\":[{\"type\":\"scattergeo\",\"marker\":{\"colorbar\":{\"outlinewidth\":0,\"ticks\":\"\"}}}],\"scatterpolar\":[{\"type\":\"scatterpolar\",\"marker\":{\"colorbar\":{\"outlinewidth\":0,\"ticks\":\"\"}}}],\"histogram\":[{\"marker\":{\"pattern\":{\"fillmode\":\"overlay\",\"size\":10,\"solidity\":0.2}},\"type\":\"histogram\"}],\"scattergl\":[{\"type\":\"scattergl\",\"marker\":{\"colorbar\":{\"outlinewidth\":0,\"ticks\":\"\"}}}],\"scatter3d\":[{\"type\":\"scatter3d\",\"line\":{\"colorbar\":{\"outlinewidth\":0,\"ticks\":\"\"}},\"marker\":{\"colorbar\":{\"outlinewidth\":0,\"ticks\":\"\"}}}],\"scattermapbox\":[{\"type\":\"scattermapbox\",\"marker\":{\"colorbar\":{\"outlinewidth\":0,\"ticks\":\"\"}}}],\"scatterternary\":[{\"type\":\"scatterternary\",\"marker\":{\"colorbar\":{\"outlinewidth\":0,\"ticks\":\"\"}}}],\"scattercarpet\":[{\"type\":\"scattercarpet\",\"marker\":{\"colorbar\":{\"outlinewidth\":0,\"ticks\":\"\"}}}],\"carpet\":[{\"aaxis\":{\"endlinecolor\":\"#2a3f5f\",\"gridcolor\":\"white\",\"linecolor\":\"white\",\"minorgridcolor\":\"white\",\"startlinecolor\":\"#2a3f5f\"},\"baxis\":{\"endlinecolor\":\"#2a3f5f\",\"gridcolor\":\"white\",\"linecolor\":\"white\",\"minorgridcolor\":\"white\",\"startlinecolor\":\"#2a3f5f\"},\"type\":\"carpet\"}],\"table\":[{\"cells\":{\"fill\":{\"color\":\"#EBF0F8\"},\"line\":{\"color\":\"white\"}},\"header\":{\"fill\":{\"color\":\"#C8D4E3\"},\"line\":{\"color\":\"white\"}},\"type\":\"table\"}],\"barpolar\":[{\"marker\":{\"line\":{\"color\":\"#E5ECF6\",\"width\":0.5},\"pattern\":{\"fillmode\":\"overlay\",\"size\":10,\"solidity\":0.2}},\"type\":\"barpolar\"}],\"pie\":[{\"automargin\":true,\"type\":\"pie\"}]},\"layout\":{\"autotypenumbers\":\"strict\",\"colorway\":[\"#636efa\",\"#EF553B\",\"#00cc96\",\"#ab63fa\",\"#FFA15A\",\"#19d3f3\",\"#FF6692\",\"#B6E880\",\"#FF97FF\",\"#FECB52\"],\"font\":{\"color\":\"#2a3f5f\"},\"hovermode\":\"closest\",\"hoverlabel\":{\"align\":\"left\"},\"paper_bgcolor\":\"white\",\"plot_bgcolor\":\"#E5ECF6\",\"polar\":{\"bgcolor\":\"#E5ECF6\",\"angularaxis\":{\"gridcolor\":\"white\",\"linecolor\":\"white\",\"ticks\":\"\"},\"radialaxis\":{\"gridcolor\":\"white\",\"linecolor\":\"white\",\"ticks\":\"\"}},\"ternary\":{\"bgcolor\":\"#E5ECF6\",\"aaxis\":{\"gridcolor\":\"white\",\"linecolor\":\"white\",\"ticks\":\"\"},\"baxis\":{\"gridcolor\":\"white\",\"linecolor\":\"white\",\"ticks\":\"\"},\"caxis\":{\"gridcolor\":\"white\",\"linecolor\":\"white\",\"ticks\":\"\"}},\"coloraxis\":{\"colorbar\":{\"outlinewidth\":0,\"ticks\":\"\"}},\"colorscale\":{\"sequential\":[[0.0,\"#0d0887\"],[0.1111111111111111,\"#46039f\"],[0.2222222222222222,\"#7201a8\"],[0.3333333333333333,\"#9c179e\"],[0.4444444444444444,\"#bd3786\"],[0.5555555555555556,\"#d8576b\"],[0.6666666666666666,\"#ed7953\"],[0.7777777777777778,\"#fb9f3a\"],[0.8888888888888888,\"#fdca26\"],[1.0,\"#f0f921\"]],\"sequentialminus\":[[0.0,\"#0d0887\"],[0.1111111111111111,\"#46039f\"],[0.2222222222222222,\"#7201a8\"],[0.3333333333333333,\"#9c179e\"],[0.4444444444444444,\"#bd3786\"],[0.5555555555555556,\"#d8576b\"],[0.6666666666666666,\"#ed7953\"],[0.7777777777777778,\"#fb9f3a\"],[0.8888888888888888,\"#fdca26\"],[1.0,\"#f0f921\"]],\"diverging\":[[0,\"#8e0152\"],[0.1,\"#c51b7d\"],[0.2,\"#de77ae\"],[0.3,\"#f1b6da\"],[0.4,\"#fde0ef\"],[0.5,\"#f7f7f7\"],[0.6,\"#e6f5d0\"],[0.7,\"#b8e186\"],[0.8,\"#7fbc41\"],[0.9,\"#4d9221\"],[1,\"#276419\"]]},\"xaxis\":{\"gridcolor\":\"white\",\"linecolor\":\"white\",\"ticks\":\"\",\"title\":{\"standoff\":15},\"zerolinecolor\":\"white\",\"automargin\":true,\"zerolinewidth\":2},\"yaxis\":{\"gridcolor\":\"white\",\"linecolor\":\"white\",\"ticks\":\"\",\"title\":{\"standoff\":15},\"zerolinecolor\":\"white\",\"automargin\":true,\"zerolinewidth\":2},\"scene\":{\"xaxis\":{\"backgroundcolor\":\"#E5ECF6\",\"gridcolor\":\"white\",\"linecolor\":\"white\",\"showbackground\":true,\"ticks\":\"\",\"zerolinecolor\":\"white\",\"gridwidth\":2},\"yaxis\":{\"backgroundcolor\":\"#E5ECF6\",\"gridcolor\":\"white\",\"linecolor\":\"white\",\"showbackground\":true,\"ticks\":\"\",\"zerolinecolor\":\"white\",\"gridwidth\":2},\"zaxis\":{\"backgroundcolor\":\"#E5ECF6\",\"gridcolor\":\"white\",\"linecolor\":\"white\",\"showbackground\":true,\"ticks\":\"\",\"zerolinecolor\":\"white\",\"gridwidth\":2}},\"shapedefaults\":{\"line\":{\"color\":\"#2a3f5f\"}},\"annotationdefaults\":{\"arrowcolor\":\"#2a3f5f\",\"arrowhead\":0,\"arrowwidth\":1},\"geo\":{\"bgcolor\":\"white\",\"landcolor\":\"#E5ECF6\",\"subunitcolor\":\"white\",\"showland\":true,\"showlakes\":true,\"lakecolor\":\"white\"},\"title\":{\"x\":0.05},\"mapbox\":{\"style\":\"light\"}}},\"annotations\":[{\"bgcolor\":\"white\",\"font\":{\"color\":\"black\",\"size\":12},\"showarrow\":false,\"text\":\"PERMANOVA p=0.346\",\"x\":0.05,\"xref\":\"paper\",\"y\":0.95,\"yref\":\"paper\"}],\"scene\":{\"camera\":{\"eye\":{\"x\":1.5,\"y\":1.5,\"z\":0.5}},\"xaxis\":{\"title\":{\"text\":\"PC1 (14.5%)\"}},\"yaxis\":{\"title\":{\"text\":\"PC2 (12.3%)\"}},\"zaxis\":{\"title\":{\"text\":\"PC3 (9.5%)\"}}},\"margin\":{\"l\":0,\"r\":0,\"b\":0,\"t\":40},\"legend\":{\"x\":0.8,\"y\":0.9,\"bgcolor\":\"rgba(255,255,255,0.9)\"},\"title\":{\"text\":\"\\u003cb\\u003eBeta Diversity PCoA Analysis (Bray-Curtis)\\u003c\\u002fb\\u003e\"},\"width\":1000,\"height\":800},                        {\"responsive\": true}                    ).then(function(){\n",
       "                            \n",
       "var gd = document.getElementById('1582c455-6997-4945-ae87-bcaac9e9de04');\n",
       "var x = new MutationObserver(function (mutations, observer) {{\n",
       "        var display = window.getComputedStyle(gd).display;\n",
       "        if (!display || display === 'none') {{\n",
       "            console.log([gd, 'removed!']);\n",
       "            Plotly.purge(gd);\n",
       "            observer.disconnect();\n",
       "        }}\n",
       "}});\n",
       "\n",
       "// Listen for the removal of the full notebook cells\n",
       "var notebookContainer = gd.closest('#notebook-container');\n",
       "if (notebookContainer) {{\n",
       "    x.observe(notebookContainer, {childList: true});\n",
       "}}\n",
       "\n",
       "// Listen for the clearing of the current output cell\n",
       "var outputEl = gd.closest('.output');\n",
       "if (outputEl) {{\n",
       "    x.observe(outputEl, {childList: true});\n",
       "}}\n",
       "\n",
       "                        })                };                });            </script>        </div>"
      ]
     },
     "metadata": {},
     "output_type": "display_data"
    }
   ],
   "source": [
    "import plotly.graph_objects as go\n",
    "\n",
    "# 配置颜色方案\n",
    "COLOR_MAP = {\n",
    "    'AS': '#FF7F0E',\n",
    "    'HC': '#1F77B4'\n",
    "}\n",
    "\n",
    "# 创建3D散点图\n",
    "fig = go.Figure()\n",
    "\n",
    "for group in ['AS', 'HC']:\n",
    "    group_df = pcoa_df[pcoa_df.Group == group]\n",
    "    fig.add_trace(go.Scatter3d(\n",
    "        x=group_df.PC1,\n",
    "        y=group_df.PC2,\n",
    "        z=group_df.PC3,\n",
    "        mode='markers+text',\n",
    "        marker=dict(\n",
    "            size=8,\n",
    "            color=COLOR_MAP[group],\n",
    "            opacity=0.8,\n",
    "            line=dict(color='black', width=1)\n",
    "        ),\n",
    "        text=group_df.index,\n",
    "        textposition='top center',\n",
    "        name=group\n",
    "    ))\n",
    "\n",
    "# 添加统计标注\n",
    "fig.add_annotation(\n",
    "    x=0.05,\n",
    "    y=0.95,\n",
    "    xref=\"paper\",\n",
    "    yref=\"paper\",\n",
    "    text=f\"PERMANOVA p={permanova_result['p-value']:.3f}\",\n",
    "    showarrow=False,\n",
    "    font=dict(size=12, color='black'),\n",
    "    bgcolor='white'\n",
    ")\n",
    "\n",
    "# 设置布局\n",
    "fig.update_layout(\n",
    "    title=\"<b>Beta Diversity PCoA Analysis (Bray-Curtis)</b>\",\n",
    "    scene=dict(\n",
    "        xaxis_title=f'PC1 ({pcoa_results.proportion_explained[0]:.1%})',\n",
    "        yaxis_title=f'PC2 ({pcoa_results.proportion_explained[1]:.1%})',\n",
    "        zaxis_title=f'PC3 ({pcoa_results.proportion_explained[2]:.1%})',\n",
    "        camera=dict(\n",
    "            eye=dict(x=1.5, y=1.5, z=0.5)\n",
    "        )\n",
    "    ),\n",
    "    width=1000,\n",
    "    height=800,\n",
    "    margin=dict(l=0, r=0, b=0, t=40),\n",
    "    legend=dict(\n",
    "        x=0.8,\n",
    "        y=0.9,\n",
    "        bgcolor='rgba(255,255,255,0.9)'\n",
    "    )\n",
    ")\n",
    "\n",
    "fig.show()"
   ]
  },
  {
   "cell_type": "code",
   "execution_count": 60,
   "id": "d3756f96-f05f-471b-9ea2-d1f73ba79e80",
   "metadata": {
    "scrolled": true
   },
   "outputs": [
    {
     "name": "stderr",
     "output_type": "stream",
     "text": [
      "C:\\Users\\Jun Rao\\AppData\\Local\\Temp\\ipykernel_2820\\1750979390.py:25: FutureWarning:\n",
      "\n",
      "Series.__getitem__ treating keys as positions is deprecated. In a future version, integer keys will always be treated as labels (consistent with DataFrame behavior). To access a value by position, use `ser.iloc[pos]`\n",
      "\n",
      "C:\\Users\\Jun Rao\\AppData\\Local\\Temp\\ipykernel_2820\\1750979390.py:26: FutureWarning:\n",
      "\n",
      "Series.__getitem__ treating keys as positions is deprecated. In a future version, integer keys will always be treated as labels (consistent with DataFrame behavior). To access a value by position, use `ser.iloc[pos]`\n",
      "\n",
      "C:\\Users\\Jun Rao\\AppData\\Local\\Temp\\ipykernel_2820\\1750979390.py:25: FutureWarning:\n",
      "\n",
      "Series.__getitem__ treating keys as positions is deprecated. In a future version, integer keys will always be treated as labels (consistent with DataFrame behavior). To access a value by position, use `ser.iloc[pos]`\n",
      "\n",
      "C:\\Users\\Jun Rao\\AppData\\Local\\Temp\\ipykernel_2820\\1750979390.py:26: FutureWarning:\n",
      "\n",
      "Series.__getitem__ treating keys as positions is deprecated. In a future version, integer keys will always be treated as labels (consistent with DataFrame behavior). To access a value by position, use `ser.iloc[pos]`\n",
      "\n",
      "C:\\Users\\Jun Rao\\AppData\\Local\\Temp\\ipykernel_2820\\1750979390.py:25: FutureWarning:\n",
      "\n",
      "Series.__getitem__ treating keys as positions is deprecated. In a future version, integer keys will always be treated as labels (consistent with DataFrame behavior). To access a value by position, use `ser.iloc[pos]`\n",
      "\n",
      "C:\\Users\\Jun Rao\\AppData\\Local\\Temp\\ipykernel_2820\\1750979390.py:26: FutureWarning:\n",
      "\n",
      "Series.__getitem__ treating keys as positions is deprecated. In a future version, integer keys will always be treated as labels (consistent with DataFrame behavior). To access a value by position, use `ser.iloc[pos]`\n",
      "\n"
     ]
    },
    {
     "data": {
      "image/png": "[encoded data removed]",
      "text/plain": [
       "<Figure size 1800x500 with 3 Axes>"
      ]
     },
     "metadata": {},
     "output_type": "display_data"
    }
   ],
   "source": [
    "import matplotlib.pyplot as plt\n",
    "import seaborn as sns\n",
    "\n",
    "# 设置样式\n",
    "sns.set(style=\"whitegrid\", palette=\"pastel\")\n",
    "\n",
    "# 创建子图\n",
    "fig, axes = plt.subplots(1, 3, figsize=(18, 5))\n",
    "\n",
    "# 绘制三个主成分组合\n",
    "combinations = [(0,1), (0,2), (1,2)]\n",
    "titles = ['PC1 vs PC2', 'PC1 vs PC3', 'PC2 vs PC3']\n",
    "\n",
    "for ax, (x, y), title in zip(axes, combinations, titles):\n",
    "    sns.scatterplot(\n",
    "        x=pcoa_df[f'PC{x+1}'],\n",
    "        y=pcoa_df[f'PC{y+1}'],\n",
    "        hue=pcoa_df['Group'],\n",
    "        palette=COLOR_MAP,\n",
    "        s=80,\n",
    "        edgecolor='black',\n",
    "        ax=ax\n",
    "    )\n",
    "    ax.set_title(f\"{title} Projection\")\n",
    "    ax.set_xlabel(f'PC{x+1} ({pcoa_results.proportion_explained[x]:.1%})')\n",
    "    ax.set_ylabel(f'PC{y+1} ({pcoa_results.proportion_explained[y]:.1%})')\n",
    "    ax.legend(title='Group')\n",
    "\n",
    "plt.tight_layout()\n",
    "plt.show()"
   ]
  },
  {
   "cell_type": "markdown",
   "id": "1a5b5a54-533b-434e-9248-c9478e0e742e",
   "metadata": {},
   "source": [
    "## 噬菌体活性"
   ]
  },
  {
   "cell_type": "code",
   "execution_count": 64,
   "id": "31e14f99-c6be-422a-8e3f-be2a253d3275",
   "metadata": {},
   "outputs": [],
   "source": [
    "# 从phatype表中提取virulent标记（1表示virulent，其他情况为0）\n",
    "virulent_mask = phatype['TYPE'].apply(lambda x: 1 if x == 'virulent' else 0)\n",
    "\n",
    "# 对齐索引并填充缺失值为0（处理不存在于phatype中的Contig）\n",
    "virulent_mask = virulent_mask.reindex(rarefied_data.index, fill_value=0)\n",
    "\n",
    "# 将抽平数据与virulent标记相乘（保留virulent的计数，其他变为0）\n",
    "virulent_counts = rarefied_data.multiply(virulent_mask, axis=0).sum(axis=0)"
   ]
  },
  {
   "cell_type": "code",
   "execution_count": 65,
   "id": "58a556d3-f7e5-4560-9c06-a55d2ed4c980",
   "metadata": {},
   "outputs": [
    {
     "data": {
      "application/vnd.plotly.v1+json": {
       "config": {
        "plotlyServerURL": "https://plot.ly"
       },
       "data": [
        {
         "marker": {
          "color": "rgb(255, 127, 14)",
          "line": {
           "color": "black",
           "width": 1
          },
          "opacity": 0.9,
          "size": 10
         },
         "mode": "markers",
         "name": "AS",
         "showlegend": false,
         "type": "scatter",
         "x": [
          -0.03737892182872289,
          -0.13878746383791962,
          0.000656483927024526,
          0.1431063013990774,
          0.06439313366735294,
          -0.0757004543095538,
          0.08007811158013181,
          -0.0625229390678132,
          0.06448943886047678,
          -0.029802714028102473,
          -0.13336358865767656,
          -0.0400902086574,
          -0.07491209900281183,
          0.10413306927000157,
          -0.11043944014096962,
          0.1470298038907992,
          -0.11457993253126457,
          -0.03189596948923787,
          0.07362744942407981,
          -0.14079799458810652,
          -0.13388727764239047,
          -0.14984450384452538,
          0.020103745473206036,
          -0.1319278692889223,
          -0.053106334630769345,
          -0.009910111397322702,
          0.10938935610754194,
          -0.13152380631803445,
          0.033886704740142604
         ],
         "y": [
          6268219,
          6109769,
          6777388,
          5480790,
          6596425,
          6334221,
          4841134,
          6648718,
          4483873,
          4556339,
          3892352,
          5055145,
          4722190,
          5565790,
          3678931,
          4132997,
          5533171,
          5575266,
          5155099,
          4839557,
          4352795,
          5414588,
          4136811,
          4852726,
          4789420,
          3741407,
          3727606,
          5378927,
          4678504
         ]
        },
        {
         "marker": {
          "color": "rgb(255, 127, 14)",
          "line": {
           "color": "black",
           "width": 1
          },
          "opacity": 0.9,
          "size": 10
         },
         "mode": "markers",
         "name": "HC",
         "showlegend": false,
         "type": "scatter",
         "x": [
          1.0269199355668752,
          1.086426231238922,
          1.025740050082947,
          1.1332091641159385,
          0.9053756391846958,
          0.9180440804081814,
          1.0531179487406952,
          1.0457322517513228,
          1.1112052830664307,
          0.9198940267547929,
          1.0039928923040633,
          0.8689534973397087,
          0.9694286248853966,
          0.9227770523573074,
          1.1056858838965484,
          0.9642490777854258,
          0.8978705985313414,
          0.8597636141717151,
          0.9094815913230894,
          1.060512817928869,
          0.8694370130269462,
          1.105608342747772,
          0.867169839695403,
          1.0582193682452452,
          0.9516640181540245,
          0.9350732896261935,
          0.9599822103967874,
          0.9113071827758028,
          1.007510257515233
         ],
         "y": [
          4960932,
          5254065,
          5218211,
          4962914,
          5376805,
          6474891,
          6100307,
          6752878,
          5398055,
          4697025,
          3326432,
          4113965,
          4607404,
          4499836,
          3969297,
          3804044,
          4053136,
          4579287,
          4504432,
          4156166,
          4402772,
          6719020,
          5229183,
          3722269,
          4161525,
          3318900,
          3268518,
          4459126,
          4317072
         ]
        },
        {
         "boxpoints": false,
         "line": {
          "width": 2
         },
         "marker": {
          "color": "rgb(31, 119, 180)"
         },
         "name": "AS",
         "showlegend": false,
         "type": "box",
         "x": [
          0,
          0,
          0,
          0,
          0,
          0,
          0,
          0,
          0,
          0,
          0,
          0,
          0,
          0,
          0,
          0,
          0,
          0,
          0,
          0,
          0,
          0,
          0,
          0,
          0,
          0,
          0,
          0,
          0
         ],
         "y": [
          6268219,
          6109769,
          6777388,
          5480790,
          6596425,
          6334221,
          4841134,
          6648718,
          4483873,
          4556339,
          3892352,
          5055145,
          4722190,
          5565790,
          3678931,
          4132997,
          5533171,
          5575266,
          5155099,
          4839557,
          4352795,
          5414588,
          4136811,
          4852726,
          4789420,
          3741407,
          3727606,
          5378927,
          4678504
         ]
        },
        {
         "boxpoints": false,
         "line": {
          "width": 2
         },
         "marker": {
          "color": "rgb(31, 119, 180)"
         },
         "name": "HC",
         "showlegend": false,
         "type": "box",
         "x": [
          1,
          1,
          1,
          1,
          1,
          1,
          1,
          1,
          1,
          1,
          1,
          1,
          1,
          1,
          1,
          1,
          1,
          1,
          1,
          1,
          1,
          1,
          1,
          1,
          1,
          1,
          1,
          1,
          1
         ],
         "y": [
          4960932,
          5254065,
          5218211,
          4962914,
          5376805,
          6474891,
          6100307,
          6752878,
          5398055,
          4697025,
          3326432,
          4113965,
          4607404,
          4499836,
          3969297,
          3804044,
          4053136,
          4579287,
          4504432,
          4156166,
          4402772,
          6719020,
          5229183,
          3722269,
          4161525,
          3318900,
          3268518,
          4459126,
          4317072
         ]
        }
       ],
       "layout": {
        "annotations": [
         {
          "font": {
           "color": "black",
           "size": 14
          },
          "showarrow": false,
          "text": "p = 0.096",
          "x": 0.5,
          "y": 7404296.389999999
         }
        ],
        "height": 600,
        "margin": {
         "b": 60,
         "l": 60,
         "r": 30,
         "t": 80
        },
        "plot_bgcolor": "white",
        "shapes": [
         {
          "line": {
           "color": "black",
           "width": 1.5
          },
          "type": "line",
          "x0": 0,
          "x1": 1,
          "y0": 7170476.504,
          "y1": 7170476.504
         }
        ],
        "template": {
         "data": {
          "bar": [
           {
            "error_x": {
             "color": "#2a3f5f"
            },
            "error_y": {
             "color": "#2a3f5f"
            },
            "marker": {
             "line": {
              "color": "white",
              "width": 0.5
             },
             "pattern": {
              "fillmode": "overlay",
              "size": 10,
              "solidity": 0.2
             }
            },
            "type": "bar"
           }
          ],
          "barpolar": [
           {
            "marker": {
             "line": {
              "color": "white",
              "width": 0.5
             },
             "pattern": {
              "fillmode": "overlay",
              "size": 10,
              "solidity": 0.2
             }
            },
            "type": "barpolar"
           }
          ],
          "carpet": [
           {
            "aaxis": {
             "endlinecolor": "#2a3f5f",
             "gridcolor": "#C8D4E3",
             "linecolor": "#C8D4E3",
             "minorgridcolor": "#C8D4E3",
             "startlinecolor": "#2a3f5f"
            },
            "baxis": {
             "endlinecolor": "#2a3f5f",
             "gridcolor": "#C8D4E3",
             "linecolor": "#C8D4E3",
             "minorgridcolor": "#C8D4E3",
             "startlinecolor": "#2a3f5f"
            },
            "type": "carpet"
           }
          ],
          "choropleth": [
           {
            "colorbar": {
             "outlinewidth": 0,
             "ticks": ""
            },
            "type": "choropleth"
           }
          ],
          "contour": [
           {
            "colorbar": {
             "outlinewidth": 0,
             "ticks": ""
            },
            "colorscale": [
             [
              0,
              "#0d0887"
             ],
             [
              0.1111111111111111,
              "#46039f"
             ],
             [
              0.2222222222222222,
              "#7201a8"
             ],
             [
              0.3333333333333333,
              "#9c179e"
             ],
             [
              0.4444444444444444,
              "#bd3786"
             ],
             [
              0.5555555555555556,
              "#d8576b"
             ],
             [
              0.6666666666666666,
              "#ed7953"
             ],
             [
              0.7777777777777778,
              "#fb9f3a"
             ],
             [
              0.8888888888888888,
              "#fdca26"
             ],
             [
              1,
              "#f0f921"
             ]
            ],
            "type": "contour"
           }
          ],
          "contourcarpet": [
           {
            "colorbar": {
             "outlinewidth": 0,
             "ticks": ""
            },
            "type": "contourcarpet"
           }
          ],
          "heatmap": [
           {
            "colorbar": {
             "outlinewidth": 0,
             "ticks": ""
            },
            "colorscale": [
             [
              0,
              "#0d0887"
             ],
             [
              0.1111111111111111,
              "#46039f"
             ],
             [
              0.2222222222222222,
              "#7201a8"
             ],
             [
              0.3333333333333333,
              "#9c179e"
             ],
             [
              0.4444444444444444,
              "#bd3786"
             ],
             [
              0.5555555555555556,
              "#d8576b"
             ],
             [
              0.6666666666666666,
              "#ed7953"
             ],
             [
              0.7777777777777778,
              "#fb9f3a"
             ],
             [
              0.8888888888888888,
              "#fdca26"
             ],
             [
              1,
              "#f0f921"
             ]
            ],
            "type": "heatmap"
           }
          ],
          "heatmapgl": [
           {
            "colorbar": {
             "outlinewidth": 0,
             "ticks": ""
            },
            "colorscale": [
             [
              0,
              "#0d0887"
             ],
             [
              0.1111111111111111,
              "#46039f"
             ],
             [
              0.2222222222222222,
              "#7201a8"
             ],
             [
              0.3333333333333333,
              "#9c179e"
             ],
             [
              0.4444444444444444,
              "#bd3786"
             ],
             [
              0.5555555555555556,
              "#d8576b"
             ],
             [
              0.6666666666666666,
              "#ed7953"
             ],
             [
              0.7777777777777778,
              "#fb9f3a"
             ],
             [
              0.8888888888888888,
              "#fdca26"
             ],
             [
              1,
              "#f0f921"
             ]
            ],
            "type": "heatmapgl"
           }
          ],
          "histogram": [
           {
            "marker": {
             "pattern": {
              "fillmode": "overlay",
              "size": 10,
              "solidity": 0.2
             }
            },
            "type": "histogram"
           }
          ],
          "histogram2d": [
           {
            "colorbar": {
             "outlinewidth": 0,
             "ticks": ""
            },
            "colorscale": [
             [
              0,
              "#0d0887"
             ],
             [
              0.1111111111111111,
              "#46039f"
             ],
             [
              0.2222222222222222,
              "#7201a8"
             ],
             [
              0.3333333333333333,
              "#9c179e"
             ],
             [
              0.4444444444444444,
              "#bd3786"
             ],
             [
              0.5555555555555556,
              "#d8576b"
             ],
             [
              0.6666666666666666,
              "#ed7953"
             ],
             [
              0.7777777777777778,
              "#fb9f3a"
             ],
             [
              0.8888888888888888,
              "#fdca26"
             ],
             [
              1,
              "#f0f921"
             ]
            ],
            "type": "histogram2d"
           }
          ],
          "histogram2dcontour": [
           {
            "colorbar": {
             "outlinewidth": 0,
             "ticks": ""
            },
            "colorscale": [
             [
              0,
              "#0d0887"
             ],
             [
              0.1111111111111111,
              "#46039f"
             ],
             [
              0.2222222222222222,
              "#7201a8"
             ],
             [
              0.3333333333333333,
              "#9c179e"
             ],
             [
              0.4444444444444444,
              "#bd3786"
             ],
             [
              0.5555555555555556,
              "#d8576b"
             ],
             [
              0.6666666666666666,
              "#ed7953"
             ],
             [
              0.7777777777777778,
              "#fb9f3a"
             ],
             [
              0.8888888888888888,
              "#fdca26"
             ],
             [
              1,
              "#f0f921"
             ]
            ],
            "type": "histogram2dcontour"
           }
          ],
          "mesh3d": [
           {
            "colorbar": {
             "outlinewidth": 0,
             "ticks": ""
            },
            "type": "mesh3d"
           }
          ],
          "parcoords": [
           {
            "line": {
             "colorbar": {
              "outlinewidth": 0,
              "ticks": ""
             }
            },
            "type": "parcoords"
           }
          ],
          "pie": [
           {
            "automargin": true,
            "type": "pie"
           }
          ],
          "scatter": [
           {
            "fillpattern": {
             "fillmode": "overlay",
             "size": 10,
             "solidity": 0.2
            },
            "type": "scatter"
           }
          ],
          "scatter3d": [
           {
            "line": {
             "colorbar": {
              "outlinewidth": 0,
              "ticks": ""
             }
            },
            "marker": {
             "colorbar": {
              "outlinewidth": 0,
              "ticks": ""
             }
            },
            "type": "scatter3d"
           }
          ],
          "scattercarpet": [
           {
            "marker": {
             "colorbar": {
              "outlinewidth": 0,
              "ticks": ""
             }
            },
            "type": "scattercarpet"
           }
          ],
          "scattergeo": [
           {
            "marker": {
             "colorbar": {
              "outlinewidth": 0,
              "ticks": ""
             }
            },
            "type": "scattergeo"
           }
          ],
          "scattergl": [
           {
            "marker": {
             "colorbar": {
              "outlinewidth": 0,
              "ticks": ""
             }
            },
            "type": "scattergl"
           }
          ],
          "scattermapbox": [
           {
            "marker": {
             "colorbar": {
              "outlinewidth": 0,
              "ticks": ""
             }
            },
            "type": "scattermapbox"
           }
          ],
          "scatterpolar": [
           {
            "marker": {
             "colorbar": {
              "outlinewidth": 0,
              "ticks": ""
             }
            },
            "type": "scatterpolar"
           }
          ],
          "scatterpolargl": [
           {
            "marker": {
             "colorbar": {
              "outlinewidth": 0,
              "ticks": ""
             }
            },
            "type": "scatterpolargl"
           }
          ],
          "scatterternary": [
           {
            "marker": {
             "colorbar": {
              "outlinewidth": 0,
              "ticks": ""
             }
            },
            "type": "scatterternary"
           }
          ],
          "surface": [
           {
            "colorbar": {
             "outlinewidth": 0,
             "ticks": ""
            },
            "colorscale": [
             [
              0,
              "#0d0887"
             ],
             [
              0.1111111111111111,
              "#46039f"
             ],
             [
              0.2222222222222222,
              "#7201a8"
             ],
             [
              0.3333333333333333,
              "#9c179e"
             ],
             [
              0.4444444444444444,
              "#bd3786"
             ],
             [
              0.5555555555555556,
              "#d8576b"
             ],
             [
              0.6666666666666666,
              "#ed7953"
             ],
             [
              0.7777777777777778,
              "#fb9f3a"
             ],
             [
              0.8888888888888888,
              "#fdca26"
             ],
             [
              1,
              "#f0f921"
             ]
            ],
            "type": "surface"
           }
          ],
          "table": [
           {
            "cells": {
             "fill": {
              "color": "#EBF0F8"
             },
             "line": {
              "color": "white"
             }
            },
            "header": {
             "fill": {
              "color": "#C8D4E3"
             },
             "line": {
              "color": "white"
             }
            },
            "type": "table"
           }
          ]
         },
         "layout": {
          "annotationdefaults": {
           "arrowcolor": "#2a3f5f",
           "arrowhead": 0,
           "arrowwidth": 1
          },
          "autotypenumbers": "strict",
          "coloraxis": {
           "colorbar": {
            "outlinewidth": 0,
            "ticks": ""
           }
          },
          "colorscale": {
           "diverging": [
            [
             0,
             "#8e0152"
            ],
            [
             0.1,
             "#c51b7d"
            ],
            [
             0.2,
             "#de77ae"
            ],
            [
             0.3,
             "#f1b6da"
            ],
            [
             0.4,
             "#fde0ef"
            ],
            [
             0.5,
             "#f7f7f7"
            ],
            [
             0.6,
             "#e6f5d0"
            ],
            [
             0.7,
             "#b8e186"
            ],
            [
             0.8,
             "#7fbc41"
            ],
            [
             0.9,
             "#4d9221"
            ],
            [
             1,
             "#276419"
            ]
           ],
           "sequential": [
            [
             0,
             "#0d0887"
            ],
            [
             0.1111111111111111,
             "#46039f"
            ],
            [
             0.2222222222222222,
             "#7201a8"
            ],
            [
             0.3333333333333333,
             "#9c179e"
            ],
            [
             0.4444444444444444,
             "#bd3786"
            ],
            [
             0.5555555555555556,
             "#d8576b"
            ],
            [
             0.6666666666666666,
             "#ed7953"
            ],
            [
             0.7777777777777778,
             "#fb9f3a"
            ],
            [
             0.8888888888888888,
             "#fdca26"
            ],
            [
             1,
             "#f0f921"
            ]
           ],
           "sequentialminus": [
            [
             0,
             "#0d0887"
            ],
            [
             0.1111111111111111,
             "#46039f"
            ],
            [
             0.2222222222222222,
             "#7201a8"
            ],
            [
             0.3333333333333333,
             "#9c179e"
            ],
            [
             0.4444444444444444,
             "#bd3786"
            ],
            [
             0.5555555555555556,
             "#d8576b"
            ],
            [
             0.6666666666666666,
             "#ed7953"
            ],
            [
             0.7777777777777778,
             "#fb9f3a"
            ],
            [
             0.8888888888888888,
             "#fdca26"
            ],
            [
             1,
             "#f0f921"
            ]
           ]
          },
          "colorway": [
           "#636efa",
           "#EF553B",
           "#00cc96",
           "#ab63fa",
           "#FFA15A",
           "#19d3f3",
           "#FF6692",
           "#B6E880",
           "#FF97FF",
           "#FECB52"
          ],
          "font": {
           "color": "#2a3f5f"
          },
          "geo": {
           "bgcolor": "white",
           "lakecolor": "white",
           "landcolor": "white",
           "showlakes": true,
           "showland": true,
           "subunitcolor": "#C8D4E3"
          },
          "hoverlabel": {
           "align": "left"
          },
          "hovermode": "closest",
          "mapbox": {
           "style": "light"
          },
          "paper_bgcolor": "white",
          "plot_bgcolor": "white",
          "polar": {
           "angularaxis": {
            "gridcolor": "#EBF0F8",
            "linecolor": "#EBF0F8",
            "ticks": ""
           },
           "bgcolor": "white",
           "radialaxis": {
            "gridcolor": "#EBF0F8",
            "linecolor": "#EBF0F8",
            "ticks": ""
           }
          },
          "scene": {
           "xaxis": {
            "backgroundcolor": "white",
            "gridcolor": "#DFE8F3",
            "gridwidth": 2,
            "linecolor": "#EBF0F8",
            "showbackground": true,
            "ticks": "",
            "zerolinecolor": "#EBF0F8"
           },
           "yaxis": {
            "backgroundcolor": "white",
            "gridcolor": "#DFE8F3",
            "gridwidth": 2,
            "linecolor": "#EBF0F8",
            "showbackground": true,
            "ticks": "",
            "zerolinecolor": "#EBF0F8"
           },
           "zaxis": {
            "backgroundcolor": "white",
            "gridcolor": "#DFE8F3",
            "gridwidth": 2,
            "linecolor": "#EBF0F8",
            "showbackground": true,
            "ticks": "",
            "zerolinecolor": "#EBF0F8"
           }
          },
          "shapedefaults": {
           "line": {
            "color": "#2a3f5f"
           }
          },
          "ternary": {
           "aaxis": {
            "gridcolor": "#DFE8F3",
            "linecolor": "#A2B1C6",
            "ticks": ""
           },
           "baxis": {
            "gridcolor": "#DFE8F3",
            "linecolor": "#A2B1C6",
            "ticks": ""
           },
           "bgcolor": "white",
           "caxis": {
            "gridcolor": "#DFE8F3",
            "linecolor": "#A2B1C6",
            "ticks": ""
           }
          },
          "title": {
           "x": 0.05
          },
          "xaxis": {
           "automargin": true,
           "gridcolor": "#EBF0F8",
           "linecolor": "#EBF0F8",
           "ticks": "",
           "title": {
            "standoff": 15
           },
           "zerolinecolor": "#EBF0F8",
           "zerolinewidth": 2
          },
          "yaxis": {
           "automargin": true,
           "gridcolor": "#EBF0F8",
           "linecolor": "#EBF0F8",
           "ticks": "",
           "title": {
            "standoff": 15
           },
           "zerolinecolor": "#EBF0F8",
           "zerolinewidth": 2
          }
         }
        },
        "title": {
         "text": "<b>Virulent Phage Abundance Comparison</b>"
        },
        "width": 800,
        "xaxis": {
         "range": [
          -0.5,
          1.5
         ],
         "tickfont": {
          "color": "black",
          "size": 14
         },
         "tickmode": "array",
         "ticktext": [
          "AS Patients",
          "HC Healthy"
         ],
         "tickvals": [
          0,
          1
         ],
         "title": {
          "text": ""
         },
         "type": "linear"
        },
        "yaxis": {
         "gridcolor": "lightgrey",
         "range": [
          0,
          7793996.199999999
         ],
         "tickfont": {
          "color": "black",
          "size": 12
         },
         "title": {
          "text": "<b>Virulent Phage Abundance</b>"
         },
         "type": "linear"
        }
       }
      },
      "image/png": "[encoded data removed]",
      "text/html": [
       "<div>                            <div id=\"c6e32d40-05ab-449c-9ef9-a0d15636c80a\" class=\"plotly-graph-div\" style=\"height:600px; width:800px;\"></div>            <script type=\"text/javascript\">                require([\"plotly\"], function(Plotly) {                    window.PLOTLYENV=window.PLOTLYENV || {};                                    if (document.getElementById(\"c6e32d40-05ab-449c-9ef9-a0d15636c80a\")) {                    Plotly.newPlot(                        \"c6e32d40-05ab-449c-9ef9-a0d15636c80a\",                        [{\"marker\":{\"color\":\"rgb(255, 127, 14)\",\"line\":{\"color\":\"black\",\"width\":1},\"opacity\":0.9,\"size\":10},\"mode\":\"markers\",\"name\":\"AS\",\"showlegend\":false,\"x\":[-0.03737892182872289,-0.13878746383791962,0.000656483927024526,0.1431063013990774,0.06439313366735294,-0.0757004543095538,0.08007811158013181,-0.0625229390678132,0.06448943886047678,-0.029802714028102473,-0.13336358865767656,-0.0400902086574,-0.07491209900281183,0.10413306927000157,-0.11043944014096962,0.1470298038907992,-0.11457993253126457,-0.03189596948923787,0.07362744942407981,-0.14079799458810652,-0.13388727764239047,-0.14984450384452538,0.020103745473206036,-0.1319278692889223,-0.053106334630769345,-0.009910111397322702,0.10938935610754194,-0.13152380631803445,0.033886704740142604],\"y\":[6268219,6109769,6777388,5480790,6596425,6334221,4841134,6648718,4483873,4556339,3892352,5055145,4722190,5565790,3678931,4132997,5533171,5575266,5155099,4839557,4352795,5414588,4136811,4852726,4789420,3741407,3727606,5378927,4678504],\"type\":\"scatter\"},{\"marker\":{\"color\":\"rgb(255, 127, 14)\",\"line\":{\"color\":\"black\",\"width\":1},\"opacity\":0.9,\"size\":10},\"mode\":\"markers\",\"name\":\"HC\",\"showlegend\":false,\"x\":[1.0269199355668752,1.086426231238922,1.025740050082947,1.1332091641159385,0.9053756391846958,0.9180440804081814,1.0531179487406952,1.0457322517513228,1.1112052830664307,0.9198940267547929,1.0039928923040633,0.8689534973397087,0.9694286248853966,0.9227770523573074,1.1056858838965484,0.9642490777854258,0.8978705985313414,0.8597636141717151,0.9094815913230894,1.060512817928869,0.8694370130269462,1.105608342747772,0.867169839695403,1.0582193682452452,0.9516640181540245,0.9350732896261935,0.9599822103967874,0.9113071827758028,1.007510257515233],\"y\":[4960932,5254065,5218211,4962914,5376805,6474891,6100307,6752878,5398055,4697025,3326432,4113965,4607404,4499836,3969297,3804044,4053136,4579287,4504432,4156166,4402772,6719020,5229183,3722269,4161525,3318900,3268518,4459126,4317072],\"type\":\"scatter\"},{\"boxpoints\":false,\"line\":{\"width\":2},\"marker\":{\"color\":\"rgb(31, 119, 180)\"},\"name\":\"AS\",\"showlegend\":false,\"x\":[0,0,0,0,0,0,0,0,0,0,0,0,0,0,0,0,0,0,0,0,0,0,0,0,0,0,0,0,0],\"y\":[6268219,6109769,6777388,5480790,6596425,6334221,4841134,6648718,4483873,4556339,3892352,5055145,4722190,5565790,3678931,4132997,5533171,5575266,5155099,4839557,4352795,5414588,4136811,4852726,4789420,3741407,3727606,5378927,4678504],\"type\":\"box\"},{\"boxpoints\":false,\"line\":{\"width\":2},\"marker\":{\"color\":\"rgb(31, 119, 180)\"},\"name\":\"HC\",\"showlegend\":false,\"x\":[1,1,1,1,1,1,1,1,1,1,1,1,1,1,1,1,1,1,1,1,1,1,1,1,1,1,1,1,1],\"y\":[4960932,5254065,5218211,4962914,5376805,6474891,6100307,6752878,5398055,4697025,3326432,4113965,4607404,4499836,3969297,3804044,4053136,4579287,4504432,4156166,4402772,6719020,5229183,3722269,4161525,3318900,3268518,4459126,4317072],\"type\":\"box\"}],                        {\"template\":{\"data\":{\"barpolar\":[{\"marker\":{\"line\":{\"color\":\"white\",\"width\":0.5},\"pattern\":{\"fillmode\":\"overlay\",\"size\":10,\"solidity\":0.2}},\"type\":\"barpolar\"}],\"bar\":[{\"error_x\":{\"color\":\"#2a3f5f\"},\"error_y\":{\"color\":\"#2a3f5f\"},\"marker\":{\"line\":{\"color\":\"white\",\"width\":0.5},\"pattern\":{\"fillmode\":\"overlay\",\"size\":10,\"solidity\":0.2}},\"type\":\"bar\"}],\"carpet\":[{\"aaxis\":{\"endlinecolor\":\"#2a3f5f\",\"gridcolor\":\"#C8D4E3\",\"linecolor\":\"#C8D4E3\",\"minorgridcolor\":\"#C8D4E3\",\"startlinecolor\":\"#2a3f5f\"},\"baxis\":{\"endlinecolor\":\"#2a3f5f\",\"gridcolor\":\"#C8D4E3\",\"linecolor\":\"#C8D4E3\",\"minorgridcolor\":\"#C8D4E3\",\"startlinecolor\":\"#2a3f5f\"},\"type\":\"carpet\"}],\"choropleth\":[{\"colorbar\":{\"outlinewidth\":0,\"ticks\":\"\"},\"type\":\"choropleth\"}],\"contourcarpet\":[{\"colorbar\":{\"outlinewidth\":0,\"ticks\":\"\"},\"type\":\"contourcarpet\"}],\"contour\":[{\"colorbar\":{\"outlinewidth\":0,\"ticks\":\"\"},\"colorscale\":[[0.0,\"#0d0887\"],[0.1111111111111111,\"#46039f\"],[0.2222222222222222,\"#7201a8\"],[0.3333333333333333,\"#9c179e\"],[0.4444444444444444,\"#bd3786\"],[0.5555555555555556,\"#d8576b\"],[0.6666666666666666,\"#ed7953\"],[0.7777777777777778,\"#fb9f3a\"],[0.8888888888888888,\"#fdca26\"],[1.0,\"#f0f921\"]],\"type\":\"contour\"}],\"heatmapgl\":[{\"colorbar\":{\"outlinewidth\":0,\"ticks\":\"\"},\"colorscale\":[[0.0,\"#0d0887\"],[0.1111111111111111,\"#46039f\"],[0.2222222222222222,\"#7201a8\"],[0.3333333333333333,\"#9c179e\"],[0.4444444444444444,\"#bd3786\"],[0.5555555555555556,\"#d8576b\"],[0.6666666666666666,\"#ed7953\"],[0.7777777777777778,\"#fb9f3a\"],[0.8888888888888888,\"#fdca26\"],[1.0,\"#f0f921\"]],\"type\":\"heatmapgl\"}],\"heatmap\":[{\"colorbar\":{\"outlinewidth\":0,\"ticks\":\"\"},\"colorscale\":[[0.0,\"#0d0887\"],[0.1111111111111111,\"#46039f\"],[0.2222222222222222,\"#7201a8\"],[0.3333333333333333,\"#9c179e\"],[0.4444444444444444,\"#bd3786\"],[0.5555555555555556,\"#d8576b\"],[0.6666666666666666,\"#ed7953\"],[0.7777777777777778,\"#fb9f3a\"],[0.8888888888888888,\"#fdca26\"],[1.0,\"#f0f921\"]],\"type\":\"heatmap\"}],\"histogram2dcontour\":[{\"colorbar\":{\"outlinewidth\":0,\"ticks\":\"\"},\"colorscale\":[[0.0,\"#0d0887\"],[0.1111111111111111,\"#46039f\"],[0.2222222222222222,\"#7201a8\"],[0.3333333333333333,\"#9c179e\"],[0.4444444444444444,\"#bd3786\"],[0.5555555555555556,\"#d8576b\"],[0.6666666666666666,\"#ed7953\"],[0.7777777777777778,\"#fb9f3a\"],[0.8888888888888888,\"#fdca26\"],[1.0,\"#f0f921\"]],\"type\":\"histogram2dcontour\"}],\"histogram2d\":[{\"colorbar\":{\"outlinewidth\":0,\"ticks\":\"\"},\"colorscale\":[[0.0,\"#0d0887\"],[0.1111111111111111,\"#46039f\"],[0.2222222222222222,\"#7201a8\"],[0.3333333333333333,\"#9c179e\"],[0.4444444444444444,\"#bd3786\"],[0.5555555555555556,\"#d8576b\"],[0.6666666666666666,\"#ed7953\"],[0.7777777777777778,\"#fb9f3a\"],[0.8888888888888888,\"#fdca26\"],[1.0,\"#f0f921\"]],\"type\":\"histogram2d\"}],\"histogram\":[{\"marker\":{\"pattern\":{\"fillmode\":\"overlay\",\"size\":10,\"solidity\":0.2}},\"type\":\"histogram\"}],\"mesh3d\":[{\"colorbar\":{\"outlinewidth\":0,\"ticks\":\"\"},\"type\":\"mesh3d\"}],\"parcoords\":[{\"line\":{\"colorbar\":{\"outlinewidth\":0,\"ticks\":\"\"}},\"type\":\"parcoords\"}],\"pie\":[{\"automargin\":true,\"type\":\"pie\"}],\"scatter3d\":[{\"line\":{\"colorbar\":{\"outlinewidth\":0,\"ticks\":\"\"}},\"marker\":{\"colorbar\":{\"outlinewidth\":0,\"ticks\":\"\"}},\"type\":\"scatter3d\"}],\"scattercarpet\":[{\"marker\":{\"colorbar\":{\"outlinewidth\":0,\"ticks\":\"\"}},\"type\":\"scattercarpet\"}],\"scattergeo\":[{\"marker\":{\"colorbar\":{\"outlinewidth\":0,\"ticks\":\"\"}},\"type\":\"scattergeo\"}],\"scattergl\":[{\"marker\":{\"colorbar\":{\"outlinewidth\":0,\"ticks\":\"\"}},\"type\":\"scattergl\"}],\"scattermapbox\":[{\"marker\":{\"colorbar\":{\"outlinewidth\":0,\"ticks\":\"\"}},\"type\":\"scattermapbox\"}],\"scatterpolargl\":[{\"marker\":{\"colorbar\":{\"outlinewidth\":0,\"ticks\":\"\"}},\"type\":\"scatterpolargl\"}],\"scatterpolar\":[{\"marker\":{\"colorbar\":{\"outlinewidth\":0,\"ticks\":\"\"}},\"type\":\"scatterpolar\"}],\"scatter\":[{\"fillpattern\":{\"fillmode\":\"overlay\",\"size\":10,\"solidity\":0.2},\"type\":\"scatter\"}],\"scatterternary\":[{\"marker\":{\"colorbar\":{\"outlinewidth\":0,\"ticks\":\"\"}},\"type\":\"scatterternary\"}],\"surface\":[{\"colorbar\":{\"outlinewidth\":0,\"ticks\":\"\"},\"colorscale\":[[0.0,\"#0d0887\"],[0.1111111111111111,\"#46039f\"],[0.2222222222222222,\"#7201a8\"],[0.3333333333333333,\"#9c179e\"],[0.4444444444444444,\"#bd3786\"],[0.5555555555555556,\"#d8576b\"],[0.6666666666666666,\"#ed7953\"],[0.7777777777777778,\"#fb9f3a\"],[0.8888888888888888,\"#fdca26\"],[1.0,\"#f0f921\"]],\"type\":\"surface\"}],\"table\":[{\"cells\":{\"fill\":{\"color\":\"#EBF0F8\"},\"line\":{\"color\":\"white\"}},\"header\":{\"fill\":{\"color\":\"#C8D4E3\"},\"line\":{\"color\":\"white\"}},\"type\":\"table\"}]},\"layout\":{\"annotationdefaults\":{\"arrowcolor\":\"#2a3f5f\",\"arrowhead\":0,\"arrowwidth\":1},\"autotypenumbers\":\"strict\",\"coloraxis\":{\"colorbar\":{\"outlinewidth\":0,\"ticks\":\"\"}},\"colorscale\":{\"diverging\":[[0,\"#8e0152\"],[0.1,\"#c51b7d\"],[0.2,\"#de77ae\"],[0.3,\"#f1b6da\"],[0.4,\"#fde0ef\"],[0.5,\"#f7f7f7\"],[0.6,\"#e6f5d0\"],[0.7,\"#b8e186\"],[0.8,\"#7fbc41\"],[0.9,\"#4d9221\"],[1,\"#276419\"]],\"sequential\":[[0.0,\"#0d0887\"],[0.1111111111111111,\"#46039f\"],[0.2222222222222222,\"#7201a8\"],[0.3333333333333333,\"#9c179e\"],[0.4444444444444444,\"#bd3786\"],[0.5555555555555556,\"#d8576b\"],[0.6666666666666666,\"#ed7953\"],[0.7777777777777778,\"#fb9f3a\"],[0.8888888888888888,\"#fdca26\"],[1.0,\"#f0f921\"]],\"sequentialminus\":[[0.0,\"#0d0887\"],[0.1111111111111111,\"#46039f\"],[0.2222222222222222,\"#7201a8\"],[0.3333333333333333,\"#9c179e\"],[0.4444444444444444,\"#bd3786\"],[0.5555555555555556,\"#d8576b\"],[0.6666666666666666,\"#ed7953\"],[0.7777777777777778,\"#fb9f3a\"],[0.8888888888888888,\"#fdca26\"],[1.0,\"#f0f921\"]]},\"colorway\":[\"#636efa\",\"#EF553B\",\"#00cc96\",\"#ab63fa\",\"#FFA15A\",\"#19d3f3\",\"#FF6692\",\"#B6E880\",\"#FF97FF\",\"#FECB52\"],\"font\":{\"color\":\"#2a3f5f\"},\"geo\":{\"bgcolor\":\"white\",\"lakecolor\":\"white\",\"landcolor\":\"white\",\"showlakes\":true,\"showland\":true,\"subunitcolor\":\"#C8D4E3\"},\"hoverlabel\":{\"align\":\"left\"},\"hovermode\":\"closest\",\"mapbox\":{\"style\":\"light\"},\"paper_bgcolor\":\"white\",\"plot_bgcolor\":\"white\",\"polar\":{\"angularaxis\":{\"gridcolor\":\"#EBF0F8\",\"linecolor\":\"#EBF0F8\",\"ticks\":\"\"},\"bgcolor\":\"white\",\"radialaxis\":{\"gridcolor\":\"#EBF0F8\",\"linecolor\":\"#EBF0F8\",\"ticks\":\"\"}},\"scene\":{\"xaxis\":{\"backgroundcolor\":\"white\",\"gridcolor\":\"#DFE8F3\",\"gridwidth\":2,\"linecolor\":\"#EBF0F8\",\"showbackground\":true,\"ticks\":\"\",\"zerolinecolor\":\"#EBF0F8\"},\"yaxis\":{\"backgroundcolor\":\"white\",\"gridcolor\":\"#DFE8F3\",\"gridwidth\":2,\"linecolor\":\"#EBF0F8\",\"showbackground\":true,\"ticks\":\"\",\"zerolinecolor\":\"#EBF0F8\"},\"zaxis\":{\"backgroundcolor\":\"white\",\"gridcolor\":\"#DFE8F3\",\"gridwidth\":2,\"linecolor\":\"#EBF0F8\",\"showbackground\":true,\"ticks\":\"\",\"zerolinecolor\":\"#EBF0F8\"}},\"shapedefaults\":{\"line\":{\"color\":\"#2a3f5f\"}},\"ternary\":{\"aaxis\":{\"gridcolor\":\"#DFE8F3\",\"linecolor\":\"#A2B1C6\",\"ticks\":\"\"},\"baxis\":{\"gridcolor\":\"#DFE8F3\",\"linecolor\":\"#A2B1C6\",\"ticks\":\"\"},\"bgcolor\":\"white\",\"caxis\":{\"gridcolor\":\"#DFE8F3\",\"linecolor\":\"#A2B1C6\",\"ticks\":\"\"}},\"title\":{\"x\":0.05},\"xaxis\":{\"automargin\":true,\"gridcolor\":\"#EBF0F8\",\"linecolor\":\"#EBF0F8\",\"ticks\":\"\",\"title\":{\"standoff\":15},\"zerolinecolor\":\"#EBF0F8\",\"zerolinewidth\":2},\"yaxis\":{\"automargin\":true,\"gridcolor\":\"#EBF0F8\",\"linecolor\":\"#EBF0F8\",\"ticks\":\"\",\"title\":{\"standoff\":15},\"zerolinecolor\":\"#EBF0F8\",\"zerolinewidth\":2}}},\"shapes\":[{\"line\":{\"color\":\"black\",\"width\":1.5},\"type\":\"line\",\"x0\":0,\"x1\":1,\"y0\":7170476.504,\"y1\":7170476.504}],\"annotations\":[{\"font\":{\"color\":\"black\",\"size\":14},\"showarrow\":false,\"text\":\"p = 0.096\",\"x\":0.5,\"y\":7404296.389999999}],\"margin\":{\"l\":60,\"r\":30,\"t\":80,\"b\":60},\"xaxis\":{\"tickfont\":{\"size\":14,\"color\":\"black\"},\"title\":{\"text\":\"\"},\"tickmode\":\"array\",\"tickvals\":[0,1],\"ticktext\":[\"AS Patients\",\"HC Healthy\"],\"range\":[-0.5,1.5]},\"yaxis\":{\"tickfont\":{\"size\":12,\"color\":\"black\"},\"title\":{\"text\":\"\\u003cb\\u003eVirulent Phage Abundance\\u003c\\u002fb\\u003e\"},\"range\":[0,7793996.199999999],\"gridcolor\":\"lightgrey\"},\"title\":{\"text\":\"\\u003cb\\u003eVirulent Phage Abundance Comparison\\u003c\\u002fb\\u003e\"},\"width\":800,\"height\":600,\"plot_bgcolor\":\"white\"},                        {\"responsive\": true}                    ).then(function(){\n",
       "                            \n",
       "var gd = document.getElementById('c6e32d40-05ab-449c-9ef9-a0d15636c80a');\n",
       "var x = new MutationObserver(function (mutations, observer) {{\n",
       "        var display = window.getComputedStyle(gd).display;\n",
       "        if (!display || display === 'none') {{\n",
       "            console.log([gd, 'removed!']);\n",
       "            Plotly.purge(gd);\n",
       "            observer.disconnect();\n",
       "        }}\n",
       "}});\n",
       "\n",
       "// Listen for the removal of the full notebook cells\n",
       "var notebookContainer = gd.closest('#notebook-container');\n",
       "if (notebookContainer) {{\n",
       "    x.observe(notebookContainer, {childList: true});\n",
       "}}\n",
       "\n",
       "// Listen for the clearing of the current output cell\n",
       "var outputEl = gd.closest('.output');\n",
       "if (outputEl) {{\n",
       "    x.observe(outputEl, {childList: true});\n",
       "}}\n",
       "\n",
       "                        })                };                });            </script>        </div>"
      ]
     },
     "metadata": {},
     "output_type": "display_data"
    }
   ],
   "source": [
    "import plotly.graph_objects as go\n",
    "from scipy.stats import mannwhitneyu\n",
    "import pandas as pd\n",
    "import numpy as np\n",
    "\n",
    "# 准备数据\n",
    "df = virulent_counts.reset_index(name='Count')\n",
    "df['Group'] = df['index'].apply(lambda x: 'AS' if x.startswith('TXAS') else 'HC')\n",
    "\n",
    "# 计算统计量\n",
    "as_counts = df[df['Group'] == 'AS']['Count']\n",
    "hc_counts = df[df['Group'] == 'HC']['Count']\n",
    "stat, p_value = mannwhitneyu(as_counts, hc_counts, alternative='two-sided')\n",
    "\n",
    "# 创建基础图形\n",
    "fig = go.Figure()\n",
    "\n",
    "# 先绘制散点（确保在底层）\n",
    "group_positions = {'AS': 0, 'HC': 1}  # 定义组别坐标位置\n",
    "for group in ['AS', 'HC']:\n",
    "    group_data = df[df['Group'] == group]\n",
    "    # 生成可控抖动（限制在±0.15范围内）\n",
    "    jitter = np.random.uniform(low=-0.15, high=0.15, size=len(group_data))\n",
    "    fig.add_trace(go.Scatter(\n",
    "        x=[group_positions[group] + j for j in jitter],  # 中心位置+抖动\n",
    "        y=group_data['Count'],\n",
    "        mode='markers',\n",
    "        marker=dict(\n",
    "            color='rgb(255, 127, 14)',  # 醒目橙色\n",
    "            size=10,\n",
    "            opacity=0.9,\n",
    "            line=dict(width=1, color='black')\n",
    "        ),\n",
    "        name=group,\n",
    "        showlegend=False\n",
    "    ))\n",
    "\n",
    "# 再绘制箱线图（覆盖在散点之上）\n",
    "for group in ['AS', 'HC']:\n",
    "    group_data = df[df['Group'] == group]\n",
    "    fig.add_trace(go.Box(\n",
    "        x=[group_positions[group]] * len(group_data),\n",
    "        y=group_data['Count'],\n",
    "        name=group,\n",
    "        boxpoints=False,  # 不显示原始点\n",
    "        marker_color='rgb(31, 119, 180)',  # 标准蓝色\n",
    "        line_width=2,\n",
    "        showlegend=False\n",
    "    ))\n",
    "\n",
    "# 计算合理的y轴范围\n",
    "y_max = df['Count'].max() * 1.15\n",
    "\n",
    "# 添加显著性标记\n",
    "fig.add_shape(type=\"line\",\n",
    "    x0=0, x1=1, y0=y_max*0.92, y1=y_max*0.92,\n",
    "    line=dict(color=\"black\", width=1.5)\n",
    ")\n",
    "fig.add_annotation(\n",
    "    x=0.5, y=y_max*0.95,\n",
    "    text=f'p = {p_value:.2e}' if p_value < 0.001 else f'p = {p_value:.3f}',\n",
    "    showarrow=False,\n",
    "    font=dict(size=14, color='black')\n",
    ")\n",
    "\n",
    "# 设置布局\n",
    "fig.update_layout(\n",
    "    title=\"<b>Virulent Phage Abundance Comparison</b>\",\n",
    "    xaxis_title=\"\",\n",
    "    yaxis_title=\"<b>Virulent Phage Abundance</b>\",\n",
    "    template=\"plotly_white\",\n",
    "    margin=dict(l=60, r=30, t=80, b=60),\n",
    "    width=800,\n",
    "    height=600,\n",
    "    xaxis=dict(\n",
    "        tickmode='array',\n",
    "        tickvals=[0, 1],\n",
    "        ticktext=['AS Patients', 'HC Healthy'],\n",
    "        tickfont=dict(size=14, color='black'),\n",
    "        range=[-0.5, 1.5]  # 限制x轴范围\n",
    "    ),\n",
    "    yaxis=dict(\n",
    "        range=[0, y_max],\n",
    "        tickfont=dict(size=12, color='black'),\n",
    "        gridcolor='lightgrey'\n",
    "    ),\n",
    "    plot_bgcolor='white'\n",
    ")\n",
    "\n",
    "# 显示图形\n",
    "fig.show()"
   ]
  },
  {
   "cell_type": "code",
   "execution_count": null,
   "id": "fd28499d-6597-4e32-8d41-6fb854882ef2",
   "metadata": {},
   "outputs": [],
   "source": []
  }
 ],
 "metadata": {
  "kernelspec": {
   "display_name": "Python 3 (ipykernel)",
   "language": "python",
   "name": "python3"
  },
  "language_info": {
   "codemirror_mode": {
    "name": "ipython",
    "version": 3
   },
   "file_extension": ".py",
   "mimetype": "text/x-python",
   "name": "python",
   "nbconvert_exporter": "python",
   "pygments_lexer": "ipython3",
   "version": "3.12.3"
  }
 },
 "nbformat": 4,
 "nbformat_minor": 5
}
